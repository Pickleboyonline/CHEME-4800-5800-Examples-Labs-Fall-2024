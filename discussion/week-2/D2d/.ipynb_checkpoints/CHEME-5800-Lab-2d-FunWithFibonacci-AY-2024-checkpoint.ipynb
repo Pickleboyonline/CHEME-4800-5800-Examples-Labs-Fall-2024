{
 "cells": [
  {
   "cell_type": "markdown",
   "id": "c738208f-fb0f-4c68-815f-d2e9e65670ba",
   "metadata": {},
   "source": [
    "# Lab-2d: Compute the Fibonacci sequence using `for` and `while` loops\n",
    "A [Fibonacci sequence](https://en.wikipedia.org/wiki/Fibonacci_sequence) is a sequence composed of the `Fibonacci numbers` $F_{n}$ where $F_{n}$ is governed by the recurrence relation:\n",
    "$$\n",
    "F_{n} = F_{n-2} + F_{n-1}\\quad{n\\geq{2}}\n",
    "$$\n",
    "where $F_{0}=0$ and $F_{1} = 1$.\n",
    "\n",
    "### Learning objectives\n",
    "This lab will familiarize students with working with [Julia methods](https://docs.julialang.org/en/v1/manual/methods/) and using [iteration patterns such as  `for-loops` and `while-loops`](https://docs.julialang.org/en/v1/manual/control-flow/#man-loops) to compute [Fibonacci sequences](https://en.wikipedia.org/wiki/Fibonacci_sequence).\n",
    "* Let's write two _private methds_ to compute [Fibonacci sequences](https://en.wikipedia.org/wiki/Fibonacci_sequence), one with a `for-loop` and the second with a `while-loop` in the [`Compute.jl` file](src/Compute.jl).\n",
    "* Then, we'll write a _public function_ that users will automatically call the correct private implementation based on the arguments. Wow! That seems like magic, [but it's just multiple dispatch at work](https://www.youtube.com/watch?v=kc9HwsxE1OY)\n",
    "\n",
    "Before we begin, break up into teams and take `5 minutes` to review the code files in `src` and then we'll get back together to discuss before we start into the tasks."
   ]
  },
  {
   "cell_type": "markdown",
   "id": "dcd8577d-3922-4339-8a1b-8c26ff15883c",
   "metadata": {},
   "source": [
    "## Setup\n",
    "We set up the computational environment by including the `Include.jl` file using [the `include(...)` method](https://docs.julialang.org/en/v1/base/base/#Base.include). The `Include.jl` file loads external packages, various functions we may need to use in an exercise, custom types to model the components of our example problem, etc."
   ]
  },
  {
   "cell_type": "code",
   "execution_count": 3,
   "id": "4db11244-8015-421c-ab5a-8a125946c60f",
   "metadata": {},
   "outputs": [],
   "source": [
    "include(\"Include.jl\");"
   ]
  },
  {
   "cell_type": "markdown",
   "id": "74694bee-9d03-4449-8fa4-5af1e1c909d9",
   "metadata": {},
   "source": [
    "## Task 1: Build a Fibonacci sequence model (10-min)\n",
    "In the [Types.jl](/src/Types.jl) file, we formulated [a mutable Julia struct](https://docs.julialang.org/en/v1/manual/types/#Composite-Types) that models a [Fibonacci sequence](https://en.wikipedia.org/wiki/Fibonacci_sequence). In particular, the `MyFibonacciSequenceModel` type has the fields:\n",
    "* `n::Int64` holds the number of elements in the sequence (assuming the sequence is `0`-based). The number of elements in the sequence must be non-negative $n\\geq{2}$.\n",
    "* `sequence::Dict{Int64, Int64}` is a [Julia `Dict` instance]() that holds the sequence values, where the keys of this dictionary are $n$, and the values are the $F_{n}$ values.\n",
    "\n",
    "With only a few exceptions, we'll always use [a `Factory` software pattern](https://en.wikipedia.org/wiki/Factory_method_pattern) to construct custom composite types, in which we have a specific [`build(...)` method enoded in a Factory.jl file](src/Factory.jl) for each custom type we want to construct. These methods will have two arguments: the type that we want to build and the required data encoded in [`NamedTuple` instance](https://docs.julialang.org/en/v1/base/base/#Core.NamedTuple)."
   ]
  },
  {
   "cell_type": "code",
   "execution_count": 5,
   "id": "26dbf24d-d37a-423e-9e6a-5b25bdfea8f0",
   "metadata": {},
   "outputs": [
    {
     "data": {
      "text/plain": [
       "MyFibonacciSequenceModel(50, Dict{Int64, Int64}())"
      ]
     },
     "execution_count": 5,
     "metadata": {},
     "output_type": "execute_result"
    }
   ],
   "source": [
    "model = build(MyFibonacciSequenceModel,(\n",
    "    n = 50, # pass a value for the sequence length (n ≥ 2). Notice we didn't pass a sequence value ... why?\n",
    "));\n",
    "model"
   ]
  },
  {
   "cell_type": "markdown",
   "id": "30afece6-ce59-4961-b42c-7fc27bebbf2d",
   "metadata": {},
   "source": [
    "__Important concept__: Notice that the [`build(...)` method](src/Factory.jl) uses a [`return` statement](https://docs.julialang.org/en/v1/manual/functions/#The-return-Keyword) at the end of the function body. The [`return` keyword](https://docs.julialang.org/en/v1/manual/functions/#The-return-Keyword), as in many other languages, causes a function to return immediately, providing an expression whose value is returned to the function caller. This is an example of __non-mutating__ function."
   ]
  },
  {
   "cell_type": "markdown",
   "id": "601cfca7-ea38-4eb1-babc-cf8f0ff02eb9",
   "metadata": {},
   "source": [
    "### Check: Pass a bad $n$ value to the build method\n",
    "* __Idea__: Use the _early return pattern_ to check if the argument $n$ is appropriate. If $n<2$, then the `build` function should throw [a `DomainError` instance](https://docs.julialang.org/en/v1/base/base/#Core.DomainError) and never do any computation (is this a good idea?). The [`throws` function](https://docs.julialang.org/en/v1/base/base/#Core.throw) throws an object as an exception, in this case, [an instance of DomainError](https://docs.julialang.org/en/v1/base/base/#Core.DomainError) which is a [Julia built-in error type](https://docs.julialang.org/en/v1/base/base/#Errors). "
   ]
  },
  {
   "cell_type": "code",
   "execution_count": 8,
   "id": "1ef2d43e-bb45-4df2-b662-667df47a68ff",
   "metadata": {},
   "outputs": [],
   "source": [
    "let\n",
    "    # test your bad data handling here ...\n",
    "    # ...\n",
    "end"
   ]
  },
  {
   "cell_type": "markdown",
   "id": "bb44589e-557b-4987-a00d-ac88cf82f556",
   "metadata": {},
   "source": [
    "## Task 2: Develop a Fibonacci for-loop implementation (15 min)\n",
    "Implement a [private `_fibonacci` method](src/Compute.jl), which takes the `model::MyFibonacciSequenceModel` instance that we created above and a `for-loop` iteration model and computes a [Julia `Dict` instance](https://docs.julialang.org/en/v1/base/collections/#Dictionaries) with entries $n\\Rightarrow{F_{n}}$, i.e., the `key` will be the $n$ value and the `value` will be $F_{n}$. The private method should not have a return statement.\n",
    "\n",
    "The private `_fibonacci` method should be called by the public `fibonacci!` method. Neither the public method nor the private method have return statements. So, how is the data getting returned?\n",
    "* __Convention__: The public `fibonacci!` function has the bang `!` after the name, marking it as a __mutating function__. This is a naming convention used in the Julia-verse to mark that a method is mutating. Specific [data structures, such as Dict or Arrays](https://en.wikipedia.org/wiki/Data_structure) are mutable. And since arguments are [passed by sharing](https://docs.julialang.org/en/v1/manual/functions/#man-argument-passing), changes made to these [data structures](https://en.wikipedia.org/wiki/Data_structure) in a function, are reflected without returning them."
   ]
  },
  {
   "cell_type": "code",
   "execution_count": 10,
   "id": "e3d1cc29-7cc2-4d4e-87ee-048da87f101c",
   "metadata": {},
   "outputs": [
    {
     "ename": "LoadError",
     "evalue": "\"The fibonacci! method is not implemented yet\"",
     "output_type": "error",
     "traceback": [
      "\"The fibonacci! method is not implemented yet\"",
      "",
      "Stacktrace:",
      " [1] fibonacci!(sequencemodel::MyFibonacciSequenceModel, iterationmodel::MyForLoopIterationModel)",
      "   @ Main ~/Desktop/julia_work/CHEME-4800-5800-Examples-Fall-2024/discussion/week-2/D2d/src/Compute.jl:68",
      " [2] (::var\"#1#2\")(model::MyFibonacciSequenceModel)",
      "   @ Main ./In[10]:1",
      " [3] |>(x::MyFibonacciSequenceModel, f::var\"#1#2\")",
      "   @ Base ./operators.jl:917",
      " [4] top-level scope",
      "   @ In[10]:1"
     ]
    }
   ],
   "source": [
    "model |> model -> fibonacci!(model, MyForLoopIterationModel()) # Huh, what is going on here?"
   ]
  },
  {
   "cell_type": "markdown",
   "id": "53be827a-e95a-4944-93ef-5e32edd873c2",
   "metadata": {},
   "source": [
    "### TODO: Benchmark the for-loop implementation\n",
    "A critical measure of code quality is whether it is correct, i.e., it does what it should. However, assuming correctness, another important metric is performance, both in terms of execution time ([time complexity](https://en.wikipedia.org/wiki/Time_complexity)) and memory usage ([space complexity](https://en.wikipedia.org/wiki/Space_complexity)).\n",
    "* To measure code performance, we use [tools such as the BenchmarkTools.jl package](https://juliaci.github.io/BenchmarkTools.jl/stable/). This package provides tools to run a particular piece of code multiple times and collects information about the execution time and the memory used.\n",
    "\n",
    "Let's benchmark the `for-loop` implementation of the `fibonacci` method using [the @benchmark macro exported from the BenchmarkTools.jl package](https://juliaci.github.io/BenchmarkTools.jl/stable/)"
   ]
  },
  {
   "cell_type": "code",
   "execution_count": 12,
   "id": "b9ddc839-1e1c-43ee-9e54-4841d97ef39e",
   "metadata": {},
   "outputs": [
    {
     "ename": "LoadError",
     "evalue": "\"The fibonacci! method is not implemented yet\"",
     "output_type": "error",
     "traceback": [
      "\"The fibonacci! method is not implemented yet\"",
      "",
      "Stacktrace:",
      "  [1] fibonacci!(sequencemodel::MyFibonacciSequenceModel, iterationmodel::MyForLoopIterationModel)",
      "    @ Main ~/Desktop/julia_work/CHEME-4800-5800-Examples-Fall-2024/discussion/week-2/D2d/src/Compute.jl:68",
      "  [2] var\"##core#228\"(model#226::MyFibonacciSequenceModel, iteration_model#227::MyForLoopIterationModel)",
      "    @ Main ~/.julia/packages/BenchmarkTools/QNsku/src/execution.jl:561",
      "  [3] var\"##sample#229\"(::Tuple{MyFibonacciSequenceModel, MyForLoopIterationModel}, __params::BenchmarkTools.Parameters)",
      "    @ Main ~/.julia/packages/BenchmarkTools/QNsku/src/execution.jl:570",
      "  [4] _lineartrial(b::BenchmarkTools.Benchmark, p::BenchmarkTools.Parameters; maxevals::Int64, kwargs::@Kwargs{})",
      "    @ BenchmarkTools ~/.julia/packages/BenchmarkTools/QNsku/src/execution.jl:187",
      "  [5] _lineartrial(b::BenchmarkTools.Benchmark, p::BenchmarkTools.Parameters)",
      "    @ BenchmarkTools ~/.julia/packages/BenchmarkTools/QNsku/src/execution.jl:182",
      "  [6] #invokelatest#2",
      "    @ ./essentials.jl:892 [inlined]",
      "  [7] invokelatest",
      "    @ ./essentials.jl:889 [inlined]",
      "  [8] #lineartrial#46",
      "    @ ~/.julia/packages/BenchmarkTools/QNsku/src/execution.jl:51 [inlined]",
      "  [9] lineartrial",
      "    @ ~/.julia/packages/BenchmarkTools/QNsku/src/execution.jl:50 [inlined]",
      " [10] tune!(b::BenchmarkTools.Benchmark, p::BenchmarkTools.Parameters; progressid::Nothing, nleaves::Float64, ndone::Float64, verbose::Bool, pad::String, kwargs::@Kwargs{})",
      "    @ BenchmarkTools ~/.julia/packages/BenchmarkTools/QNsku/src/execution.jl:300",
      " [11] tune!",
      "    @ ~/.julia/packages/BenchmarkTools/QNsku/src/execution.jl:289 [inlined]",
      " [12] tune!(b::BenchmarkTools.Benchmark)",
      "    @ BenchmarkTools ~/.julia/packages/BenchmarkTools/QNsku/src/execution.jl:289",
      " [13] macro expansion",
      "    @ ~/.julia/packages/BenchmarkTools/QNsku/src/execution.jl:447 [inlined]",
      " [14] top-level scope",
      "    @ In[12]:3"
     ]
    }
   ],
   "source": [
    "let\n",
    "    iteration_model = MyForLoopIterationModel();\n",
    "    @benchmark fibonacci!($model, $iteration_model)\n",
    "end"
   ]
  },
  {
   "cell_type": "markdown",
   "id": "4e9e636f-c1ed-4fb1-b5a5-cc48604f10df",
   "metadata": {},
   "source": [
    "## Task 3: Complete the Fibonacci while loop implementation (15 min)\n",
    "Let's implement another [private `_fibonacci` method](src/Compute.jl), which takes the `model::MyFibonacciSequenceModel` instance that we created above and a `while-loop` iteration model and computes a [Julia `Dict` instance](https://docs.julialang.org/en/v1/base/collections/#Dictionaries) with entries $n\\Rightarrow{F_{n}}$, i.e., the `key` will be the $n$ value and the `value` will be $F_{n}$. The private method should not have a return statement.\n",
    "* Like a `for-loop,` a [while loop](https://docs.julialang.org/en/v1/base/base/#while) has a header line that controls iteration and a body. The same scope rules apply. However, unlike a `for-loop,` a [while loop](https://docs.julialang.org/en/v1/base/base/#while) executes until some condition evaluates to false in the header."
   ]
  },
  {
   "cell_type": "code",
   "execution_count": 14,
   "id": "006f36fc-2346-47f6-9779-ae46ade32a6e",
   "metadata": {},
   "outputs": [
    {
     "ename": "LoadError",
     "evalue": "\"The fibonacci! method is not implemented yet\"",
     "output_type": "error",
     "traceback": [
      "\"The fibonacci! method is not implemented yet\"",
      "",
      "Stacktrace:",
      " [1] fibonacci!(sequencemodel::MyFibonacciSequenceModel, iterationmodel::MyWhileLoopIterationModel)",
      "   @ Main ~/Desktop/julia_work/CHEME-4800-5800-Examples-Fall-2024/discussion/week-2/D2d/src/Compute.jl:68",
      " [2] (::var\"#3#4\")(model::MyFibonacciSequenceModel)",
      "   @ Main ./In[14]:1",
      " [3] |>(x::MyFibonacciSequenceModel, f::var\"#3#4\")",
      "   @ Base ./operators.jl:917",
      " [4] top-level scope",
      "   @ In[14]:1"
     ]
    }
   ],
   "source": [
    "model |> model -> fibonacci!(model, MyWhileLoopIterationModel())"
   ]
  },
  {
   "cell_type": "markdown",
   "id": "3837b755-811a-4126-9fff-f5f22f6204e3",
   "metadata": {},
   "source": [
    "### TODO: Benchmark the while-loop implementation\n",
    "Let's benchmark the `while-loop` implementation of the `fibonacci` method using [the @benchmark macro exported from the BenchmarkTools.jl package](https://juliaci.github.io/BenchmarkTools.jl/stable/)"
   ]
  },
  {
   "cell_type": "code",
   "execution_count": 16,
   "id": "52b1050b-f0af-4a97-8e8b-573f5fa653be",
   "metadata": {},
   "outputs": [
    {
     "ename": "LoadError",
     "evalue": "\"The fibonacci! method is not implemented yet\"",
     "output_type": "error",
     "traceback": [
      "\"The fibonacci! method is not implemented yet\"",
      "",
      "Stacktrace:",
      "  [1] fibonacci!(sequencemodel::MyFibonacciSequenceModel, iterationmodel::MyWhileLoopIterationModel)",
      "    @ Main ~/Desktop/julia_work/CHEME-4800-5800-Examples-Fall-2024/discussion/week-2/D2d/src/Compute.jl:68",
      "  [2] var\"##core#235\"(model#233::MyFibonacciSequenceModel, iteration_model#234::MyWhileLoopIterationModel)",
      "    @ Main ~/.julia/packages/BenchmarkTools/QNsku/src/execution.jl:561",
      "  [3] var\"##sample#236\"(::Tuple{MyFibonacciSequenceModel, MyWhileLoopIterationModel}, __params::BenchmarkTools.Parameters)",
      "    @ Main ~/.julia/packages/BenchmarkTools/QNsku/src/execution.jl:570",
      "  [4] _lineartrial(b::BenchmarkTools.Benchmark, p::BenchmarkTools.Parameters; maxevals::Int64, kwargs::@Kwargs{})",
      "    @ BenchmarkTools ~/.julia/packages/BenchmarkTools/QNsku/src/execution.jl:187",
      "  [5] _lineartrial(b::BenchmarkTools.Benchmark, p::BenchmarkTools.Parameters)",
      "    @ BenchmarkTools ~/.julia/packages/BenchmarkTools/QNsku/src/execution.jl:182",
      "  [6] #invokelatest#2",
      "    @ ./essentials.jl:892 [inlined]",
      "  [7] invokelatest",
      "    @ ./essentials.jl:889 [inlined]",
      "  [8] #lineartrial#46",
      "    @ ~/.julia/packages/BenchmarkTools/QNsku/src/execution.jl:51 [inlined]",
      "  [9] lineartrial",
      "    @ ~/.julia/packages/BenchmarkTools/QNsku/src/execution.jl:50 [inlined]",
      " [10] tune!(b::BenchmarkTools.Benchmark, p::BenchmarkTools.Parameters; progressid::Nothing, nleaves::Float64, ndone::Float64, verbose::Bool, pad::String, kwargs::@Kwargs{})",
      "    @ BenchmarkTools ~/.julia/packages/BenchmarkTools/QNsku/src/execution.jl:300",
      " [11] tune!",
      "    @ ~/.julia/packages/BenchmarkTools/QNsku/src/execution.jl:289 [inlined]",
      " [12] tune!(b::BenchmarkTools.Benchmark)",
      "    @ BenchmarkTools ~/.julia/packages/BenchmarkTools/QNsku/src/execution.jl:289",
      " [13] macro expansion",
      "    @ ~/.julia/packages/BenchmarkTools/QNsku/src/execution.jl:447 [inlined]",
      " [14] top-level scope",
      "    @ In[16]:3"
     ]
    }
   ],
   "source": [
    "let\n",
    "    iteration_model = MyWhileLoopIterationModel();\n",
    "    @benchmark fibonacci!($model, $iteration_model)\n",
    "end"
   ]
  }
 ],
 "metadata": {
  "kernelspec": {
   "display_name": "Julia 1.10.5",
   "language": "julia",
   "name": "julia-1.10"
  },
  "language_info": {
   "file_extension": ".jl",
   "mimetype": "application/julia",
   "name": "julia",
   "version": "1.10.5"
  }
 },
 "nbformat": 4,
 "nbformat_minor": 5
}
