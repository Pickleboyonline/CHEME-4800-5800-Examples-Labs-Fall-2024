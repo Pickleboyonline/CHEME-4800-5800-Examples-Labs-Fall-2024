{
 "cells": [
  {
   "cell_type": "markdown",
   "id": "c738208f-fb0f-4c68-815f-d2e9e65670ba",
   "metadata": {},
   "source": [
    "# Lab-2d: Compute the Fibonacci sequence using `for` and `while` loops\n",
    "This lab will familiarize students with working with [Julia methods](https://docs.julialang.org/en/v1/manual/methods/) and using [iteration patterns such as  `for-loops` and `while-loops`](https://docs.julialang.org/en/v1/manual/control-flow/#man-loops) to compute [Fibonacci sequences](https://en.wikipedia.org/wiki/Fibonacci_sequence). A [Fibonacci sequence](https://en.wikipedia.org/wiki/Fibonacci_sequence) is a sequence composed of the `Fibonacci` numbers $F_{n}$ where $F_{n}$ is governed by the recurrence relation:\n",
    "$$\n",
    "F_{n} = F_{n-2} + F_{n-1}\\quad{n\\geq{1}}\n",
    "$$\n",
    "where $F_{0}=0$ and $F_{1} = 1$.\n",
    "\n",
    "### Learning objectives\n",
    "Let's write two _private methds_ to compute [Fibonacci sequences](https://en.wikipedia.org/wiki/Fibonacci_sequence), one with a `for` loop and the second with a `while` loop in the `Compute.jl` file. Then, we'll write a _public function_ that users will call that automatically calls the correct private implementation based on arguments. "
   ]
  },
  {
   "cell_type": "markdown",
   "id": "dcd8577d-3922-4339-8a1b-8c26ff15883c",
   "metadata": {},
   "source": [
    "## Setup\n",
    "We set up the computational environment by including the `Include.jl` file using [the `include(...)` method](https://docs.julialang.org/en/v1/base/base/#Base.include). The `Include.jl` file loads external packages, various functions we may need to use in an exercise, custom types to model the components of our example problem, etc."
   ]
  },
  {
   "cell_type": "code",
   "execution_count": 3,
   "id": "4db11244-8015-421c-ab5a-8a125946c60f",
   "metadata": {},
   "outputs": [],
   "source": [
    "include(\"Include.jl\");"
   ]
  },
  {
   "cell_type": "markdown",
   "id": "74694bee-9d03-4449-8fa4-5af1e1c909d9",
   "metadata": {},
   "source": [
    "## Task 1: Build a Fibonacci sequence model\n",
    "In the [Types.jl](/src/Types.jl) file, we formulated [a mutable Julia struct](https://docs.julialang.org/en/v1/manual/types/#Composite-Types) that models a [Fibonacci sequence](https://en.wikipedia.org/wiki/Fibonacci_sequence). In particular, the `MyFibonacciSequenceModel` type has the fields:\n",
    "* `n::Int64` holds the number of elements in the sequence (assuming the sequence is `0`-based). The number of elements in the sequence must be non-negative $n\\geq{2}$.\n",
    "* `sequence::Dict{Int64, Int64}` is a [Julia `Dict` instance]() that holds the sequence values, where the keys of this dictionary are $n$, and the values are the $F_{n}$ values.\n",
    "\n",
    "With only a few exceptions, we'll always use [a `Factory` software pattern](https://en.wikipedia.org/wiki/Factory_method_pattern) to construct custom composite types, in which we have a specific [`build(...)` method enoded in a Factory.jl file](src/Factory.jl) for each custom type we want to construct. These methods will have two arguments: the type that we want to build and the required data encoded in [`NamedTuple` instance](https://docs.julialang.org/en/v1/base/base/#Core.NamedTuple)."
   ]
  },
  {
   "cell_type": "code",
   "execution_count": 5,
   "id": "26dbf24d-d37a-423e-9e6a-5b25bdfea8f0",
   "metadata": {},
   "outputs": [
    {
     "data": {
      "text/plain": [
       "MyFibonacciSequenceModel(20, Dict{Int64, Int64}())"
      ]
     },
     "execution_count": 5,
     "metadata": {},
     "output_type": "execute_result"
    }
   ],
   "source": [
    "model = build(MyFibonacciSequenceModel,(\n",
    "        n = 20, # pass a value for the sequence length (n ≥ 2). Notice we didn't pass a sequence value ... why?\n",
    "));\n",
    "model"
   ]
  },
  {
   "cell_type": "markdown",
   "id": "30afece6-ce59-4961-b42c-7fc27bebbf2d",
   "metadata": {},
   "source": [
    "__Important concept__: Notice that the [`build(...)` method](src/Factory.jl) uses a [`return` statement](https://docs.julialang.org/en/v1/manual/functions/#The-return-Keyword) at the end of the function body. The [`return` keyword](https://docs.julialang.org/en/v1/manual/functions/#The-return-Keyword), as in many other languages, causes a function to return immediately, providing an expression whose value is returned to the funtion caller. This is an example of __non-mutating__ function."
   ]
  },
  {
   "cell_type": "markdown",
   "id": "bb44589e-557b-4987-a00d-ac88cf82f556",
   "metadata": {},
   "source": [
    "## Task 2: Develop a Fibonacci `for` loop implementation\n",
    "Let's implement the [`_fibonacci` method](src/Compute.jl), which takes the `model::MyFibonacciSequenceModel` instance that we created above and an iteration model and computes a [Julia `Dict` instance](https://docs.julialang.org/en/v1/base/collections/#Dictionaries) with entries $n\\Rightarrow{F_{n}}$, i.e., the `key` will be the $n$ value and the `value` will be $F_{n}$. "
   ]
  },
  {
   "cell_type": "code",
   "execution_count": 8,
   "id": "e3d1cc29-7cc2-4d4e-87ee-048da87f101c",
   "metadata": {},
   "outputs": [
    {
     "data": {
      "text/plain": [
       "Dict{Int64, Int64} with 21 entries:\n",
       "  5  => 5\n",
       "  16 => 987\n",
       "  20 => 6765\n",
       "  12 => 144\n",
       "  8  => 21\n",
       "  17 => 1597\n",
       "  1  => 1\n",
       "  19 => 4181\n",
       "  0  => 0\n",
       "  6  => 8\n",
       "  11 => 89\n",
       "  9  => 34\n",
       "  14 => 377\n",
       "  3  => 2\n",
       "  7  => 13\n",
       "  4  => 3\n",
       "  13 => 233\n",
       "  15 => 610\n",
       "  2  => 1\n",
       "  10 => 55\n",
       "  18 => 2584"
      ]
     },
     "execution_count": 8,
     "metadata": {},
     "output_type": "execute_result"
    }
   ],
   "source": [
    "model |> model -> fibonacci(model, MyForLoopIterationModel())"
   ]
  },
  {
   "cell_type": "markdown",
   "id": "53be827a-e95a-4944-93ef-5e32edd873c2",
   "metadata": {},
   "source": [
    "### TODO: Benchmark the for-loop implementation\n",
    "Fill me in"
   ]
  },
  {
   "cell_type": "code",
   "execution_count": 24,
   "id": "b9ddc839-1e1c-43ee-9e54-4841d97ef39e",
   "metadata": {},
   "outputs": [
    {
     "data": {
      "text/plain": [
       "BenchmarkTools.Trial: 10000 samples with 204 evaluations.\n",
       " Range \u001b[90m(\u001b[39m\u001b[36m\u001b[1mmin\u001b[22m\u001b[39m … \u001b[35mmax\u001b[39m\u001b[90m):  \u001b[39m\u001b[36m\u001b[1m386.642 ns\u001b[22m\u001b[39m … \u001b[35m433.900 μs\u001b[39m  \u001b[90m┊\u001b[39m GC \u001b[90m(\u001b[39mmin … max\u001b[90m): \u001b[39m 0.00% … 99.85%\n",
       " Time  \u001b[90m(\u001b[39m\u001b[34m\u001b[1mmedian\u001b[22m\u001b[39m\u001b[90m):     \u001b[39m\u001b[34m\u001b[1m401.142 ns               \u001b[22m\u001b[39m\u001b[90m┊\u001b[39m GC \u001b[90m(\u001b[39mmedian\u001b[90m):    \u001b[39m 0.00%\n",
       " Time  \u001b[90m(\u001b[39m\u001b[32m\u001b[1mmean\u001b[22m\u001b[39m ± \u001b[32mσ\u001b[39m\u001b[90m):   \u001b[39m\u001b[32m\u001b[1m473.608 ns\u001b[22m\u001b[39m ± \u001b[32m  4.338 μs\u001b[39m  \u001b[90m┊\u001b[39m GC \u001b[90m(\u001b[39mmean ± σ\u001b[90m):  \u001b[39m11.88% ±  6.68%\n",
       "\n",
       "  \u001b[39m▁\u001b[39m▆\u001b[39m█\u001b[39m█\u001b[34m▆\u001b[39m\u001b[39m▅\u001b[39m▄\u001b[39m▃\u001b[39m▂\u001b[39m▂\u001b[39m▂\u001b[39m▂\u001b[39m▃\u001b[39m▃\u001b[39m▄\u001b[39m▄\u001b[39m▄\u001b[39m▃\u001b[39m▂\u001b[39m▁\u001b[39m▁\u001b[39m▁\u001b[39m▁\u001b[39m▂\u001b[32m▁\u001b[39m\u001b[39m▁\u001b[39m▁\u001b[39m▁\u001b[39m \u001b[39m▁\u001b[39m \u001b[39m \u001b[39m \u001b[39m \u001b[39m \u001b[39m \u001b[39m \u001b[39m \u001b[39m \u001b[39m \u001b[39m \u001b[39m \u001b[39m \u001b[39m \u001b[39m \u001b[39m \u001b[39m \u001b[39m \u001b[39m \u001b[39m \u001b[39m \u001b[39m \u001b[39m \u001b[39m \u001b[39m \u001b[39m \u001b[39m \u001b[39m \u001b[39m \u001b[39m \u001b[39m \u001b[39m \u001b[39m▂\n",
       "  \u001b[39m█\u001b[39m█\u001b[39m█\u001b[39m█\u001b[34m█\u001b[39m\u001b[39m█\u001b[39m█\u001b[39m█\u001b[39m█\u001b[39m█\u001b[39m█\u001b[39m█\u001b[39m█\u001b[39m█\u001b[39m█\u001b[39m█\u001b[39m█\u001b[39m█\u001b[39m█\u001b[39m█\u001b[39m█\u001b[39m█\u001b[39m█\u001b[39m█\u001b[32m█\u001b[39m\u001b[39m█\u001b[39m█\u001b[39m█\u001b[39m█\u001b[39m█\u001b[39m█\u001b[39m█\u001b[39m▇\u001b[39m▆\u001b[39m▇\u001b[39m▆\u001b[39m▅\u001b[39m▆\u001b[39m▆\u001b[39m▆\u001b[39m▆\u001b[39m▆\u001b[39m▇\u001b[39m▇\u001b[39m▇\u001b[39m▅\u001b[39m▄\u001b[39m▅\u001b[39m▄\u001b[39m▅\u001b[39m▄\u001b[39m▄\u001b[39m▄\u001b[39m▂\u001b[39m▃\u001b[39m▄\u001b[39m▄\u001b[39m▄\u001b[39m▂\u001b[39m▃\u001b[39m▄\u001b[39m \u001b[39m█\n",
       "  387 ns\u001b[90m        \u001b[39m\u001b[90mHistogram: \u001b[39m\u001b[90m\u001b[1mlog(\u001b[22m\u001b[39m\u001b[90mfrequency\u001b[39m\u001b[90m\u001b[1m)\u001b[22m\u001b[39m\u001b[90m by time\u001b[39m        607 ns \u001b[0m\u001b[1m<\u001b[22m\n",
       "\n",
       " Memory estimate\u001b[90m: \u001b[39m\u001b[33m1.78 KiB\u001b[39m, allocs estimate\u001b[90m: \u001b[39m\u001b[33m7\u001b[39m."
      ]
     },
     "execution_count": 24,
     "metadata": {},
     "output_type": "execute_result"
    }
   ],
   "source": [
    "let\n",
    "    iteration_model = MyForLoopIterationModel();\n",
    "    @benchmark fibonacci($model, $iteration_model)\n",
    "end"
   ]
  },
  {
   "cell_type": "markdown",
   "id": "4e9e636f-c1ed-4fb1-b5a5-cc48604f10df",
   "metadata": {},
   "source": [
    "## Task 3: Develop a Fibonacci `while` loop implementation\n",
    "Let's implement the `fibonacci_while_loop` function, which takes the argument `n::Int64` and returns a [Dictionary](https://docs.julialang.org/en/v1/base/collections/#Dictionaries) with entries $n\\Rightarrow{F_{n}}$, i.e., the `key` will be the $n$ value and the `value` will be $F_{n}$. \n",
    "* Like a `for` loop, a [while loop](https://docs.julialang.org/en/v1/base/base/#while) has a header line which controls iteration and a body. The same scope rules apply. However, unlike a `for` loop, a [while loop](https://docs.julialang.org/en/v1/base/base/#while) executes until some condition evaluates to false in the header.\n",
    "* Let's use the `early return pattern` to check if the argument $n$ is non-negative. If $n<0$, then the `fibonacci_while_loop` function `throws` a `DomainError` and never does any computation (is this a good idea?). The [throws function](https://docs.julialang.org/en/v1/base/base/#Core.throw) `throws` an object as an exception, in this case, an instance of [DomainError](https://docs.julialang.org/en/v1/base/base/#Core.DomainError) which is a [Julia built-in error type](https://docs.julialang.org/en/v1/base/base/#Errors). \n",
    "* Otherwise, the sequence $F_{0},F_{1},\\dots,F_{n}$ is returned to the caller as a `Dict{Int64, Int64}`."
   ]
  },
  {
   "cell_type": "code",
   "execution_count": 12,
   "id": "006f36fc-2346-47f6-9779-ae46ade32a6e",
   "metadata": {},
   "outputs": [
    {
     "data": {
      "text/plain": [
       "Dict{Int64, Int64} with 21 entries:\n",
       "  5  => 5\n",
       "  16 => 987\n",
       "  20 => 6765\n",
       "  12 => 144\n",
       "  8  => 21\n",
       "  17 => 1597\n",
       "  1  => 1\n",
       "  19 => 4181\n",
       "  0  => 0\n",
       "  6  => 8\n",
       "  11 => 89\n",
       "  9  => 34\n",
       "  14 => 377\n",
       "  3  => 2\n",
       "  7  => 13\n",
       "  4  => 3\n",
       "  13 => 233\n",
       "  15 => 610\n",
       "  2  => 1\n",
       "  10 => 55\n",
       "  18 => 2584"
      ]
     },
     "execution_count": 12,
     "metadata": {},
     "output_type": "execute_result"
    }
   ],
   "source": [
    "model |> model -> fibonacci(model, MyWhileLoopIterationModel())"
   ]
  },
  {
   "cell_type": "markdown",
   "id": "3837b755-811a-4126-9fff-f5f22f6204e3",
   "metadata": {},
   "source": [
    "### TODO: Benchmark the while-loop implementation\n",
    "Fill me in"
   ]
  },
  {
   "cell_type": "code",
   "execution_count": 14,
   "id": "52b1050b-f0af-4a97-8e8b-573f5fa653be",
   "metadata": {},
   "outputs": [
    {
     "data": {
      "text/plain": [
       "BenchmarkTools.Trial: 10000 samples with 203 evaluations.\n",
       " Range \u001b[90m(\u001b[39m\u001b[36m\u001b[1mmin\u001b[22m\u001b[39m … \u001b[35mmax\u001b[39m\u001b[90m):  \u001b[39m\u001b[36m\u001b[1m389.571 ns\u001b[22m\u001b[39m … \u001b[35m451.184 μs\u001b[39m  \u001b[90m┊\u001b[39m GC \u001b[90m(\u001b[39mmin … max\u001b[90m): \u001b[39m 0.00% … 99.85%\n",
       " Time  \u001b[90m(\u001b[39m\u001b[34m\u001b[1mmedian\u001b[22m\u001b[39m\u001b[90m):     \u001b[39m\u001b[34m\u001b[1m404.557 ns               \u001b[22m\u001b[39m\u001b[90m┊\u001b[39m GC \u001b[90m(\u001b[39mmedian\u001b[90m):    \u001b[39m 0.00%\n",
       " Time  \u001b[90m(\u001b[39m\u001b[32m\u001b[1mmean\u001b[22m\u001b[39m ± \u001b[32mσ\u001b[39m\u001b[90m):   \u001b[39m\u001b[32m\u001b[1m478.495 ns\u001b[22m\u001b[39m ± \u001b[32m  4.511 μs\u001b[39m  \u001b[90m┊\u001b[39m GC \u001b[90m(\u001b[39mmean ± σ\u001b[90m):  \u001b[39m12.20% ±  6.70%\n",
       "\n",
       "  \u001b[39m▃\u001b[39m▇\u001b[39m█\u001b[34m▇\u001b[39m\u001b[39m▆\u001b[39m▅\u001b[39m▃\u001b[39m▂\u001b[39m▂\u001b[39m▂\u001b[39m▃\u001b[39m▃\u001b[39m▃\u001b[39m▃\u001b[39m▂\u001b[39m▁\u001b[39m▁\u001b[39m \u001b[39m \u001b[32m▁\u001b[39m\u001b[39m▁\u001b[39m▁\u001b[39m▁\u001b[39m▁\u001b[39m▁\u001b[39m \u001b[39m \u001b[39m \u001b[39m \u001b[39m \u001b[39m \u001b[39m \u001b[39m \u001b[39m \u001b[39m \u001b[39m \u001b[39m \u001b[39m \u001b[39m \u001b[39m \u001b[39m \u001b[39m \u001b[39m \u001b[39m \u001b[39m \u001b[39m \u001b[39m \u001b[39m \u001b[39m \u001b[39m \u001b[39m \u001b[39m \u001b[39m \u001b[39m \u001b[39m \u001b[39m \u001b[39m \u001b[39m \u001b[39m \u001b[39m \u001b[39m \u001b[39m \u001b[39m▂\n",
       "  \u001b[39m█\u001b[39m█\u001b[39m█\u001b[34m█\u001b[39m\u001b[39m█\u001b[39m█\u001b[39m█\u001b[39m█\u001b[39m█\u001b[39m█\u001b[39m█\u001b[39m█\u001b[39m█\u001b[39m█\u001b[39m█\u001b[39m█\u001b[39m█\u001b[39m█\u001b[39m█\u001b[32m█\u001b[39m\u001b[39m█\u001b[39m█\u001b[39m█\u001b[39m█\u001b[39m█\u001b[39m█\u001b[39m▇\u001b[39m█\u001b[39m▇\u001b[39m▇\u001b[39m▇\u001b[39m▇\u001b[39m▇\u001b[39m▇\u001b[39m▆\u001b[39m▇\u001b[39m▇\u001b[39m▇\u001b[39m▄\u001b[39m▄\u001b[39m▅\u001b[39m▄\u001b[39m▄\u001b[39m▄\u001b[39m▅\u001b[39m▄\u001b[39m▄\u001b[39m▄\u001b[39m▄\u001b[39m▅\u001b[39m▅\u001b[39m▃\u001b[39m▂\u001b[39m▄\u001b[39m▅\u001b[39m▄\u001b[39m▃\u001b[39m▂\u001b[39m▂\u001b[39m▃\u001b[39m▃\u001b[39m \u001b[39m█\n",
       "  390 ns\u001b[90m        \u001b[39m\u001b[90mHistogram: \u001b[39m\u001b[90m\u001b[1mlog(\u001b[22m\u001b[39m\u001b[90mfrequency\u001b[39m\u001b[90m\u001b[1m)\u001b[22m\u001b[39m\u001b[90m by time\u001b[39m        672 ns \u001b[0m\u001b[1m<\u001b[22m\n",
       "\n",
       " Memory estimate\u001b[90m: \u001b[39m\u001b[33m1.78 KiB\u001b[39m, allocs estimate\u001b[90m: \u001b[39m\u001b[33m7\u001b[39m."
      ]
     },
     "execution_count": 14,
     "metadata": {},
     "output_type": "execute_result"
    }
   ],
   "source": [
    "let\n",
    "    iteration_model = MyWhileLoopIterationModel();\n",
    "    @benchmark fibonacci($model, $iteration_model)\n",
    "end"
   ]
  },
  {
   "cell_type": "code",
   "execution_count": null,
   "id": "387b8491-c861-447a-a7fd-f43f17ac0e53",
   "metadata": {},
   "outputs": [],
   "source": []
  }
 ],
 "metadata": {
  "kernelspec": {
   "display_name": "Julia 1.10.5",
   "language": "julia",
   "name": "julia-1.10"
  },
  "language_info": {
   "file_extension": ".jl",
   "mimetype": "application/julia",
   "name": "julia",
   "version": "1.10.5"
  }
 },
 "nbformat": 4,
 "nbformat_minor": 5
}
