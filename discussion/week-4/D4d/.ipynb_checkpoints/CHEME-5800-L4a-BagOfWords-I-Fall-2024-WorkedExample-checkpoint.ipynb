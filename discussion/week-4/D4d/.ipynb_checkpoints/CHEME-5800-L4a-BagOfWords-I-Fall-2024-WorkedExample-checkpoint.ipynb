{
 "cells": [
  {
   "cell_type": "markdown",
   "id": "ad7659ba-0b99-494e-8f38-4a6fb55efb58",
   "metadata": {},
   "source": [
    "# Example: Let's start working on our Bag of Words (BoW) implementation\n",
    "Fill me in"
   ]
  },
  {
   "cell_type": "markdown",
   "id": "b0b7e2a4-ab90-4a70-ace1-f80993588cc7",
   "metadata": {},
   "source": [
    "## Setup\n",
    "We set up the computational environment by including [the `Include. jl` file](Include.jl) using [the `include(...)` method](https://docs.julialang.org/en/v1/base/base/#Base.include). The [`Include.jl` file](Include.jl) loads external packages and functions we will use in these examples. \n",
    "* For additional information on functions and types used in this example, see the [Julia programming language documentation](https://docs.julialang.org/en/v1/). "
   ]
  },
  {
   "cell_type": "code",
   "execution_count": 4,
   "id": "ba8b1e06-749a-437e-a1bf-0390f66c0f0f",
   "metadata": {},
   "outputs": [
    {
     "data": {
      "text/plain": [
       "hashing_vectorizer"
      ]
     },
     "execution_count": 4,
     "metadata": {},
     "output_type": "execute_result"
    }
   ],
   "source": [
    "include(\"Include.jl\");"
   ]
  },
  {
   "cell_type": "markdown",
   "id": "e17fe5c5-f7b2-4717-a69e-c9416b2a9395",
   "metadata": {},
   "source": [
    "## Task 1: Load the positive movie review datasets\n",
    "In this task, we will load the `positive` movie dataset from a text file by parsing each movie file."
   ]
  },
  {
   "cell_type": "code",
   "execution_count": 18,
   "id": "c88f18dc-8b47-403a-8d5b-e7c4bd2b244e",
   "metadata": {},
   "outputs": [],
   "source": [
    "list_of_positive_review_files = readdir(_PATH_TO_POSITIVE_REVIEWS);\n",
    "list_of_documents = readfiles(list_of_positive_review_files, \n",
    "    base = _PATH_TO_POSITIVE_REVIEWS, delim = \" \");"
   ]
  },
  {
   "cell_type": "markdown",
   "id": "49e29929-c6b1-4d4a-b49c-0cb052435237",
   "metadata": {},
   "source": [
    "## Task 2: Load the negative movie review datasets\n",
    "In this task, we will load the `negative` movie dataset from a text file by parsing each movie file."
   ]
  },
  {
   "cell_type": "markdown",
   "id": "1ce506b5-1493-422d-964d-09662fef1583",
   "metadata": {},
   "source": [
    "## Task 3: Let's experiment with feature hashing a movie review\n",
    "Fill me in"
   ]
  },
  {
   "cell_type": "code",
   "execution_count": null,
   "id": "da19b7d5-6b92-4991-bfae-01484d9f7a38",
   "metadata": {},
   "outputs": [],
   "source": []
  }
 ],
 "metadata": {
  "kernelspec": {
   "display_name": "Julia 1.10.5",
   "language": "julia",
   "name": "julia-1.10"
  },
  "language_info": {
   "file_extension": ".jl",
   "mimetype": "application/julia",
   "name": "julia",
   "version": "1.10.5"
  }
 },
 "nbformat": 4,
 "nbformat_minor": 5
}
