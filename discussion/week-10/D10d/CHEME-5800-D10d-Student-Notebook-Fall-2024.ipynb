{
 "cells": [
  {
   "cell_type": "markdown",
   "id": "583c7e9a-b38f-41c5-b2ed-44732c21fd1a",
   "metadata": {},
   "source": [
    "## Lab 10d: Optimize the feature set of a rack-mounted M2 MacPro Server\n",
    "The [new MacPro with the M2 Ultra chip has been released](https://www.apple.com/shop/buy-mac/mac-pro/rack#). The MacPro M2 has several configuration options broadly organized into five categories: `{CPU, Memory, Storage, Accessories, Software}` with multiple options per category:\n",
    "1. The `CPU` category has `2` options. Only one option can be selected from the `CPU` category\n",
    "2. The `Memory` category has `3` options. Only one option can be selected from the `Memory` category.\n",
    "3. The `Storage` category has `4` options. Only one option can be selected from the `Storage` category.\n",
    "4. The `Accessories` category has `3` options. Only one option can be selected from the `Accessories` category\n",
    "5. The `Software` category has `2` options. Neither or both options can be selected from the `Software` category\n",
    "\n",
    "### Problem statement\n",
    "Assuming a linear utility model subject to budget and feature constraints, estimate the optimal features for a rack-mounted MacPro M2. This problem resembles lecture examples, except that our decision variables will be binary: $x_{i}\\in{0,1}$, where `0` means not selecting feature $i$, and `1` means selecting it. \n",
    "\n",
    "Formally, an agent has a set of $n$ configuration options $X = \\left\\{x_{i}\\right\\}_{i=1}^{n}$, a linear utility function, and a total of $I$ units of resource to allocate, e.g., money, and potentially other constraints. An optimal agent maximizes its utility subject to its resource and other constraints:\n",
    "$$\n",
    "\\begin{eqnarray}\n",
    "\\text{maximize}~\\mathcal{O} &=& \\sum_{i\\in{1,\\dotsc,n}}\\alpha_{i}x_{i} \\\\\n",
    "\\text{subject to}~\\sum_{i\\in{1,\\dotsc,n}}c_{i}x_{i} & = & I\\\\\n",
    "\\text{and}~\\mathbf{C}\\mathbf{x} & \\leq & \\mathbf{b} \\\\\n",
    "\\text{and}~x_{i}&\\in&{0,1}\\qquad{i=1,2,\\dots,n}\n",
    "\\end{eqnarray}\n",
    "$$\n",
    "The quantity $c_{i}\\geq{0}~\\forall{i}$ denotes the cost of option $i$, $\\alpha_{i}$ denotes the user-specified coefficient in the Linear utility function, $x_{i}\\in{0,1}$ is the design variable, i.e., it represents the choice of option $i$, and $\\mathbf{C}\\mathbf{x} \\leq \\mathbf{b}$ represents additional constraints governing the decision.\n",
    "\n",
    "#### List of Tasks\n",
    "* __Task 1__: In this task, you'll specify the `configuration_array` a `14` $\\times$ `2` array, holding perception and cost information about each design option. \n",
    "* __Task 2__: In this task, we'll set up the constraint matrix $\\mathbf{C}$. The constraint matrix $\\mathbf{C}$ will be a `|categories|`$\\times$ `|options|` array which forces only one choice per category (except `software`).\n",
    "* __Task 3__: In this task, build a problem model and solve the binary choice equipment configuration problem.\n",
    "* __Task 4__: Try different weighting schemes and budget values, and explore how these design choices influence the optimal configuration (one of these __can__ be the default values specified below)."
   ]
  },
  {
   "cell_type": "markdown",
   "id": "a7e3433e-d93b-40ee-88a1-49fef419bd1e",
   "metadata": {},
   "source": [
    "## Setup\n",
    "We set up the computational environment by including [the `Include. jl` file](Include.jl) using [the `include(...)` method](https://docs.julialang.org/en/v1/base/base/#Base.include). The [`Include.jl` file](Include.jl) loads external packages and functions we will use in these examples. \n",
    "* For additional information on functions and types used in this example, see the [Julia programming language documentation](https://docs.julialang.org/en/v1/). "
   ]
  },
  {
   "cell_type": "code",
   "execution_count": 3,
   "id": "c0782b15-84b4-4b38-be1f-f551bc67731d",
   "metadata": {
    "tags": []
   },
   "outputs": [],
   "source": [
    "include(\"Include.jl\");"
   ]
  },
  {
   "cell_type": "markdown",
   "id": "c49e194e-2d0f-4141-9a2c-a1f0db603a89",
   "metadata": {},
   "source": [
    "#### Specify constants and other static stuff"
   ]
  },
  {
   "cell_type": "code",
   "execution_count": 5,
   "id": "6e9bfd9d-5794-4fa7-8022-f627623704ad",
   "metadata": {
    "tags": []
   },
   "outputs": [],
   "source": [
    "number_of_choices = 14;\n",
    "bounds_array = Array{Float64,2}(undef, number_of_choices,2)\n",
    "for i ∈ 1:number_of_choices\n",
    "    bounds_array[i,1] = 0.0\n",
    "    bounds_array[i,2] = 1.0;\n",
    "end"
   ]
  },
  {
   "cell_type": "markdown",
   "id": "20f23dc4-3f25-4e08-be32-6a6e3702f533",
   "metadata": {},
   "source": [
    "Next, we add the `label_dictionary` dictionary, which holds the labels for the options in our choice set:"
   ]
  },
  {
   "cell_type": "code",
   "execution_count": 7,
   "id": "62962777-00aa-4917-9dc9-ef9b36c8efaa",
   "metadata": {},
   "outputs": [],
   "source": [
    "label_dictionary = let\n",
    "    label_dictionary = Dict{Int64,String}()\n",
    "    label_dictionary[1] = \"CPU 1\"\n",
    "    label_dictionary[2] = \"CPU 2\"\n",
    "    label_dictionary[3] = \"Memory 1\"\n",
    "    label_dictionary[4] = \"Memory 2\"\n",
    "    label_dictionary[5] = \"Memory 3\"\n",
    "    label_dictionary[6] = \"Storage 1\"\n",
    "    label_dictionary[7] = \"Storage 2\"\n",
    "    label_dictionary[8] = \"Storage 3\"\n",
    "    label_dictionary[9] = \"Storage 4\"\n",
    "    label_dictionary[10] = \"Accessory 1\"\n",
    "    label_dictionary[11] = \"Accessory 2\"\n",
    "    label_dictionary[12] = \"Accessory 3\"\n",
    "    label_dictionary[13] = \"Software 1\"\n",
    "    label_dictionary[14] = \"Software 2\";\n",
    "\n",
    "    # return the label dictionary\n",
    "    label_dictionary\n",
    "end;"
   ]
  },
  {
   "cell_type": "markdown",
   "id": "43de8c26-7bf9-4c42-8902-37571f2fc467",
   "metadata": {},
   "source": [
    "Finally, let's specify how much we are willing to spend on this hardware in the `I::Float64` variable:"
   ]
  },
  {
   "cell_type": "code",
   "execution_count": 9,
   "id": "870fdd3b-f1c9-412d-a863-96b271aa832e",
   "metadata": {},
   "outputs": [],
   "source": [
    "I = 10000; # default budget is 10K USD"
   ]
  },
  {
   "cell_type": "markdown",
   "id": "59a60542-a0f6-454c-b829-957ca16ed2bc",
   "metadata": {},
   "source": [
    "## Task 1: Specify the configuration array\n",
    "In this task, you'll specify the `configuration_array` a `14` $\\times$ `2` array the holding perception and the cost information about each design option. \n",
    "\n",
    "* Each row of the `configuration_array` contains data for a particular MacPro configuration option. The first column contains the coefficients of the Linear utility function, i.e., the elements of the $\\alpha$-vecto, while the unit price of the features, i.e., elements of the $c$-vector, are in the second column.  \n",
    "\n",
    "The prices of each configuration option have been estimated from the [Apple MacPro server website](https://www.apple.com/shop/buy-mac/mac-pro/rack#). We'll use a category-based weighting scheme. In each of the five categories, allocate `1` unit of weight:\n",
    "* In each category, the coefficients in the Linear utility function for options in that category must sum to one.\n",
    "For example, if you have equal feelings about three options in a category, then `0.33, 0.33, 0.33` would be a typical scheme. On the other hand, if you are excited about feature `1` over the other two in the category, then `0.8,0.1,0.1` could be an appropriate weight scheme."
   ]
  },
  {
   "cell_type": "code",
   "execution_count": 11,
   "id": "f1f4c2f7-1ba7-4be9-9bbf-87ace097a4ba",
   "metadata": {},
   "outputs": [],
   "source": [
    "# Specify your perceived value in the first column\n",
    "configuration_array = [\n",
    "\n",
    "    # CPU options\n",
    "    0.5 2640.0    ; # 1 CPU 1\n",
    "    0.5 3649.0    ; # 2 CPU 2\n",
    "\n",
    "    # Memory options\n",
    "    0.333 3840.0  ; # 3 Memory 1\n",
    "    0.333 4640.0  ; # 4 Memory 2\n",
    "    0.333 3600.0  ; # 5 Memory 3\n",
    "\n",
    "    # Storage options -\n",
    "    0.25 1440.0   ; # 6 Storage 1\n",
    "    0.25 1840.0   ; # 7 Storage 2\n",
    "    0.25 2440.0   ; # 8 Storage 3\n",
    "    0.25 3640.0   ; # 9 Storage 4\n",
    "\n",
    "    # Accessory options\n",
    "    0.333 79.0    ; # 10 Accessory 1\n",
    "    0.333 129.0   ; # 11 Accessory 2\n",
    "    0.333 149.0   ; # 12 Accessory 3\n",
    "    \n",
    "    # Software options\n",
    "    0.5 299.0     ; # 13 Software 1\n",
    "    0.5 149.0     ; # 14 Software 2\n",
    "];"
   ]
  },
  {
   "cell_type": "markdown",
   "id": "d95754dc-5bd3-4adb-a902-46aacd490142",
   "metadata": {
    "tags": []
   },
   "source": [
    "### Task 2: Specify the feature constraint matrix $\\mathbf{C}$\n",
    "In this task, we'll set up the constraint matrix $\\mathbf{C}$. The constraint matrix $\\mathbf{C}$ will be a `|categories|`$\\times$ `|options|` array which forces only one choice per category (except `software`).\n",
    "* In each category (row), only a finite number of options (columns) can be selected simultaneously, typically only a single option, with the exception being the `Software` category, which is unconstrained (can have from zero up to two items selected). Because the decision variables are binary, we can implement this requirement with an additional set of constraints of the form:\n",
    "$$\n",
    "\\begin{equation}\n",
    "\\mathbf{C}\\cdot\\mathbf{x} = \\mathbf{1}\n",
    "\\end{equation}\n",
    "$$\n",
    "where $\\mathbf{C}$ denotes the constraint matrix, $\\mathbf{x}$ denotes the choice vector and $\\mathbf{1}$ denotes a vector of `1`'s. "
   ]
  },
  {
   "cell_type": "code",
   "execution_count": 13,
   "id": "d1d0a2b8-16e3-4a41-934a-f3dec5be01f0",
   "metadata": {
    "tags": []
   },
   "outputs": [
    {
     "ename": "LoadError",
     "evalue": "\"C-matrix has not been updated yet\"",
     "output_type": "error",
     "traceback": [
      "\"C-matrix has not been updated yet\"",
      "",
      "Stacktrace:",
      " [1] top-level scope",
      "   @ In[13]:8"
     ]
    }
   ],
   "source": [
    "C = let\n",
    "    \n",
    "    # initialize -\n",
    "    C = zeros(4,14); # understanding question: why is this a 4 x 14 array?\n",
    "\n",
    "    # update the C-matrix. Only one option can be selected from each category except software (unconstrained)\n",
    "    # TODO: update\n",
    "    throw(\"C-matrix has not been updated yet\")\n",
    "\n",
    "    # return -\n",
    "    C;\n",
    "end"
   ]
  },
  {
   "cell_type": "markdown",
   "id": "7ca8f780-d5a9-4bf6-aeda-2e5a6c09aa53",
   "metadata": {},
   "source": [
    "__Note__: Julia's Array syntax is similar to Matlab/Octave, except with square brackets. See [the Array documentation](https://docs.julialang.org/en/v1/base/arrays/) or various other [Julia tutorials on the web](https://www.tutorialspoint.com/julia/julia_arrays.htm) about working with the Array data structure."
   ]
  },
  {
   "cell_type": "markdown",
   "id": "bf9738eb-627e-4c69-ad4c-9aabc7fda7fe",
   "metadata": {},
   "source": [
    "### Task 3: Specify the problem model and solve for the optimal configuration\n",
    "In this task, build a problem model and solve the binary choice equipment configuration problem.\n",
    "\n",
    "* Build [a `MySimpleBinaryVariableLinearChoiceProblem` model](src/Types.jl) using [the `build(...)` method](src/Factory.jl), set this instance to the `problem` variable\n",
    "* Next, pass the `problem` object to [the `solve(...)` method](src/Solve.jl). The [`solve(...)` method](src/Solve.jl) will solve the `ILP` problem using the [GLPK.jl](https://github.com/jump-dev/GLPK.jl) interface to the [GLPK linear programming solver](https://www.gnu.org/software/glpk/). The solution will be stored in the `solution::Dict{String,Any}` dictionary"
   ]
  },
  {
   "cell_type": "markdown",
   "id": "04721b36-8412-47f1-99cd-b54031e0a4af",
   "metadata": {},
   "source": [
    "#### Build problem model:"
   ]
  },
  {
   "cell_type": "code",
   "execution_count": 17,
   "id": "38a1b19e-8610-4e41-8eb3-4bf89f85d694",
   "metadata": {
    "tags": []
   },
   "outputs": [
    {
     "ename": "LoadError",
     "evalue": "\"Problem model has not been constructed yet!\"",
     "output_type": "error",
     "traceback": [
      "\"Problem model has not been constructed yet!\"",
      "",
      "Stacktrace:",
      " [1] top-level scope",
      "   @ In[17]:9"
     ]
    }
   ],
   "source": [
    "problem = let\n",
    "    \n",
    "    # initialize\n",
    "    problem = nothing;\n",
    "    α = configuration_array[:,1];\n",
    "    c = configuration_array[:,2];\n",
    "\n",
    "    # TODO: build problem model -\n",
    "    throw(\"Problem model has not been constructed yet!\");\n",
    "    \n",
    "    # return\n",
    "    problem;\n",
    "end;"
   ]
  },
  {
   "cell_type": "markdown",
   "id": "a1dad744-0cb5-4258-bc3e-2391e02b8822",
   "metadata": {},
   "source": [
    "#### Solve the design problem"
   ]
  },
  {
   "cell_type": "code",
   "execution_count": 19,
   "id": "54ab2943-c9b2-4caf-a330-833385d16917",
   "metadata": {},
   "outputs": [
    {
     "name": "stdout",
     "output_type": "stream",
     "text": [
      "Oooops! Error: UndefVarError(:problem, Main)\n"
     ]
    }
   ],
   "source": [
    "solution = let\n",
    "\n",
    "    solution = nothing;\n",
    "    try \n",
    "        solution = solve(problem);\n",
    "    catch error\n",
    "        println(\"Oooops! Error: $(error)\");\n",
    "    end\n",
    "    \n",
    "    # return\n",
    "    solution\n",
    "end"
   ]
  },
  {
   "cell_type": "markdown",
   "id": "23160512-ce24-43c8-adc3-7a5d2c247efb",
   "metadata": {},
   "source": [
    "#### Check: Are the choice constraints enforced?\n",
    "We can only select a fixed number of items from each category. Does your solution reflect this restriction? If the choice constraints are enforced, then the product of the solution and the constraint matrix should be the `4`$\\times$`1` vector of `1's`:"
   ]
  },
  {
   "cell_type": "code",
   "execution_count": 21,
   "id": "0dfb7169-546c-4728-afb0-28ebb44d5311",
   "metadata": {
    "tags": []
   },
   "outputs": [
    {
     "ename": "LoadError",
     "evalue": "MethodError: no method matching getindex(::Nothing, ::String)\nThe function `getindex` exists, but no method is defined for this combination of argument types.",
     "output_type": "error",
     "traceback": [
      "MethodError: no method matching getindex(::Nothing, ::String)\nThe function `getindex` exists, but no method is defined for this combination of argument types.",
      "",
      "Stacktrace:",
      " [1] top-level scope",
      "   @ In[21]:2"
     ]
    }
   ],
   "source": [
    "let\n",
    "    x = solution[\"argmax\"]; # get the solution\n",
    "    rhs = C*x;\n",
    "    findall(x-> x!=1.0,rhs) |> i-> @assert isempty(i) == true\n",
    "end"
   ]
  },
  {
   "cell_type": "markdown",
   "id": "31adf843-7925-4ce1-9291-8c9f4d4e583d",
   "metadata": {},
   "source": [
    "#### Visualize\n",
    "Which choices did we make? let's make a table which shows the design choices made by the algorithm."
   ]
  },
  {
   "cell_type": "code",
   "execution_count": 23,
   "id": "27fdabe6-2a55-494a-8ad1-38aae02146e3",
   "metadata": {
    "jupyter": {
     "source_hidden": true
    }
   },
   "outputs": [
    {
     "ename": "LoadError",
     "evalue": "MethodError: no method matching getindex(::Nothing, ::String)\nThe function `getindex` exists, but no method is defined for this combination of argument types.",
     "output_type": "error",
     "traceback": [
      "MethodError: no method matching getindex(::Nothing, ::String)\nThe function `getindex` exists, but no method is defined for this combination of argument types.",
      "",
      "Stacktrace:",
      " [1] top-level scope",
      "   @ In[23]:3"
     ]
    }
   ],
   "source": [
    "let\n",
    "    df = DataFrame();\n",
    "    x = solution[\"argmax\"]; # get the solution\n",
    "    choices = findall(x-> x == 1.0, x);\n",
    "    cost_total = 0.0;\n",
    "    for i ∈ eachindex(choices)\n",
    "        j = choices[i];\n",
    "        row_df = (\n",
    "            choice = label_dictionary[j],\n",
    "            value = configuration_array[j,1],\n",
    "            cost = configuration_array[j,2]\n",
    "        );\n",
    "        push!(df, row_df);\n",
    "        cost_total += configuration_array[j,2];\n",
    "    end\n",
    "    footer_row = (\n",
    "        choice = \"\",\n",
    "        value = 0.0,\n",
    "        cost = cost_total\n",
    "    );\n",
    "    push!(df, footer_row);\n",
    "\n",
    "    # display the table\n",
    "    pretty_table(df, tf=tf_simple)\n",
    "end"
   ]
  },
  {
   "cell_type": "markdown",
   "id": "70eb10c8-3c05-4de9-954a-775fc981fe2c",
   "metadata": {},
   "source": [
    "## Task 4: How does changing the $\\alpha$-vector (or the budget $I$) influence the configuration choice?\n",
    "Let's explore two cases which mimics how I purchase Apple products, namely:\n",
    "* `Case 1`: I maximize all the options (and hit my budget constraint)\n",
    "* `Case 2`: I maximize all the options (hit my budget constraint) but spend more than I wanted to (increase the budget constraint)"
   ]
  },
  {
   "cell_type": "markdown",
   "id": "7567a367-a02d-47c5-a148-52b02fedc87a",
   "metadata": {
    "tags": []
   },
   "source": [
    "### Case 1: Value the highest performance selections the most (change the $\\alpha$ values) with the original budget\n",
    "First, let's create a new configuration array named `configuration_array_case_1` in which we value the most expensive element of each category:"
   ]
  },
  {
   "cell_type": "code",
   "execution_count": 26,
   "id": "fd69d427-1d7c-4343-a3ba-f71aead001b2",
   "metadata": {},
   "outputs": [],
   "source": [
    "configuration_array_case_1 = [\n",
    "\n",
    "    # 1 CPU options\n",
    "    0.05 2640.0    ; # 1 CPU 1\n",
    "    0.95 3649.0    ; # 2 CPU 2\n",
    "\n",
    "    # 2 Memory options\n",
    "    0.1 3840.0  ; # 3 Memory 1\n",
    "    0.1 4640.0  ; # 4 Memory 2\n",
    "    0.8 3600.0  ; # 5 Memory 3\n",
    "\n",
    "    # 3 Storage options -\n",
    "    0.1 1440.0   ; # 6 Storage 1\n",
    "    0.1 1840.0   ; # 7 Storage 2\n",
    "    0.1 2440.0   ; # 8 Storage 3\n",
    "    0.7 3640.0   ; # 9 Storage 4\n",
    "\n",
    "    # 4 Accessory options\n",
    "    0.1 79.0    ; # 10 Accessory 1\n",
    "    0.1 129.0   ; # 11 Accessory 2\n",
    "    0.8 149.0   ; # 12 Accessory 3\n",
    "    \n",
    "    # Software options\n",
    "    0.1 299.0     ; # 13 Software 1\n",
    "    0.9 149.0     ; # 14 Software 2\n",
    "];"
   ]
  },
  {
   "cell_type": "markdown",
   "id": "709475c3-4401-4765-a740-a064d85f5b46",
   "metadata": {},
   "source": [
    "Next, create a new problem object using the updated configuration array using the `build(...)` method and assign it to the `problem_case_1` variable. Then, solve the problem using the `solve(...)` method. Assign the solution to the `solution_case_1` variable:"
   ]
  },
  {
   "cell_type": "code",
   "execution_count": 28,
   "id": "f6dd0ffe-86ef-4ffd-a1ce-10b28ab42062",
   "metadata": {
    "jupyter": {
     "source_hidden": true
    }
   },
   "outputs": [
    {
     "ename": "LoadError",
     "evalue": "UndefVarError: `C` not defined in `Main`\nSuggestion: check for spelling errors or missing imports.",
     "output_type": "error",
     "traceback": [
      "UndefVarError: `C` not defined in `Main`\nSuggestion: check for spelling errors or missing imports.",
      "",
      "Stacktrace:",
      " [1] top-level scope",
      "   @ In[28]:4"
     ]
    }
   ],
   "source": [
    "problem_case_1 = let\n",
    "    α₁ = configuration_array_case_1[:,1];\n",
    "    c₁ = configuration_array_case_1[:,2];\n",
    "    problem_case_1 = build(MySimpleBinaryVariableLinearChoiceProblem, (\n",
    "        α = α₁,\n",
    "        c = c₁,\n",
    "        I = I,\n",
    "        initial = zeros(14),\n",
    "        bounds = bounds_array,\n",
    "        \n",
    "        # extra constraints -\n",
    "        C = C\n",
    "    ));\n",
    "\n",
    "    # return -\n",
    "    problem_case_1;\n",
    "end;"
   ]
  },
  {
   "cell_type": "markdown",
   "id": "52a47373-7438-44af-a27a-2b5387c2f94a",
   "metadata": {},
   "source": [
    "Solve case 1:"
   ]
  },
  {
   "cell_type": "code",
   "execution_count": 30,
   "id": "af6b120c-0dd5-4264-a1e7-57a92fe0947d",
   "metadata": {
    "jupyter": {
     "source_hidden": true
    }
   },
   "outputs": [
    {
     "name": "stdout",
     "output_type": "stream",
     "text": [
      "Oooops! Error: UndefVarError(:problem_case_1, Main)\n"
     ]
    }
   ],
   "source": [
    "solution_case_1 = let\n",
    "\n",
    "    solution = nothing;\n",
    "    try \n",
    "        solution = solve(problem_case_1);\n",
    "    catch error\n",
    "        println(\"Oooops! Error: $(error)\");\n",
    "    end\n",
    "    \n",
    "    # return\n",
    "    solution\n",
    "end"
   ]
  },
  {
   "cell_type": "markdown",
   "id": "61556573-d844-4017-b2e0-54c860a6fdd0",
   "metadata": {},
   "source": [
    "#### Visualize case 1:"
   ]
  },
  {
   "cell_type": "code",
   "execution_count": 32,
   "id": "458b087e-dd96-4909-9b91-7cab43686ddb",
   "metadata": {
    "jupyter": {
     "source_hidden": true
    }
   },
   "outputs": [
    {
     "ename": "LoadError",
     "evalue": "MethodError: no method matching getindex(::Nothing, ::String)\nThe function `getindex` exists, but no method is defined for this combination of argument types.",
     "output_type": "error",
     "traceback": [
      "MethodError: no method matching getindex(::Nothing, ::String)\nThe function `getindex` exists, but no method is defined for this combination of argument types.",
      "",
      "Stacktrace:",
      " [1] top-level scope",
      "   @ In[32]:3"
     ]
    }
   ],
   "source": [
    "let\n",
    "    df = DataFrame();\n",
    "    x = solution_case_1[\"argmax\"]; # get the solution\n",
    "    choices = findall(x-> x == 1.0, x);\n",
    "    cost_total = 0.0;\n",
    "    for i ∈ eachindex(choices)\n",
    "        j = choices[i];\n",
    "        row_df = (\n",
    "            choice = label_dictionary[j],\n",
    "            value = configuration_array[j,1],\n",
    "            cost = configuration_array[j,2]\n",
    "        );\n",
    "        push!(df, row_df);\n",
    "        cost_total += configuration_array[j,2];\n",
    "    end\n",
    "    footer_row = (\n",
    "        choice = \"\",\n",
    "        value = 0.0,\n",
    "        cost = cost_total\n",
    "    );\n",
    "    push!(df, footer_row);\n",
    "\n",
    "    # display the table\n",
    "    pretty_table(df, tf=tf_simple)\n",
    "end"
   ]
  },
  {
   "cell_type": "markdown",
   "id": "50c719a9-9226-448c-a73a-37281f70ea3e",
   "metadata": {},
   "source": [
    "### Case 2: Value the highest performance selections the most, and increase the budget to `I = 15000 USD`\n",
    "Create a new problem object using the updated budget value `I = 15000` and configuration array from `case 1` using the `build(...)` method and assign it to the `problem_case_2` variable. Then, solve the problem using the `solve(...)` method. Assign the solution to the `solution_case_2` variable:"
   ]
  },
  {
   "cell_type": "code",
   "execution_count": 34,
   "id": "4333ec85-ec6a-40cd-8af1-428e75c337db",
   "metadata": {},
   "outputs": [
    {
     "ename": "LoadError",
     "evalue": "UndefVarError: `C` not defined in `Main`\nSuggestion: check for spelling errors or missing imports.",
     "output_type": "error",
     "traceback": [
      "UndefVarError: `C` not defined in `Main`\nSuggestion: check for spelling errors or missing imports.",
      "",
      "Stacktrace:",
      " [1] top-level scope",
      "   @ In[34]:4"
     ]
    }
   ],
   "source": [
    "problem_case_2 = let\n",
    "    α₂ = configuration_array_case_1[:,1];\n",
    "    c₂ = configuration_array_case_1[:,2];\n",
    "    problem_case_2 = build(MySimpleBinaryVariableLinearChoiceProblem, (\n",
    "    \n",
    "        α = α₂,\n",
    "        c = c₂,\n",
    "        I = 15000,\n",
    "        initial = zeros(14),\n",
    "        bounds = bounds_array,\n",
    "\n",
    "        # extra constraints -\n",
    "        C = C\n",
    "    ));\n",
    "\n",
    "    # return -\n",
    "    problem_case_2;\n",
    "end;"
   ]
  },
  {
   "cell_type": "markdown",
   "id": "4ab3bcf6-c694-4bb5-bc00-189601a4ac11",
   "metadata": {},
   "source": [
    "Solve case 2:"
   ]
  },
  {
   "cell_type": "code",
   "execution_count": 36,
   "id": "a3b53840-511d-4c87-8e31-782006c40e5a",
   "metadata": {},
   "outputs": [
    {
     "name": "stdout",
     "output_type": "stream",
     "text": [
      "Oooops! Error: UndefVarError(:problem_case_2, Main)\n"
     ]
    }
   ],
   "source": [
    "solution_case_2 = let\n",
    "\n",
    "    solution = nothing;\n",
    "    try \n",
    "        solution = solve(problem_case_2);\n",
    "    catch error\n",
    "        println(\"Oooops! Error: $(error)\");\n",
    "    end\n",
    "    \n",
    "    # return\n",
    "    solution\n",
    "end"
   ]
  },
  {
   "cell_type": "markdown",
   "id": "2dab7a21-33ff-4703-b07a-df3f4bb57473",
   "metadata": {},
   "source": [
    "#### Visualize case 2:"
   ]
  },
  {
   "cell_type": "code",
   "execution_count": 38,
   "id": "c9e3a52a-dae8-4b82-9ceb-38830fe53af7",
   "metadata": {
    "jupyter": {
     "source_hidden": true
    }
   },
   "outputs": [
    {
     "ename": "LoadError",
     "evalue": "MethodError: no method matching getindex(::Nothing, ::String)\nThe function `getindex` exists, but no method is defined for this combination of argument types.",
     "output_type": "error",
     "traceback": [
      "MethodError: no method matching getindex(::Nothing, ::String)\nThe function `getindex` exists, but no method is defined for this combination of argument types.",
      "",
      "Stacktrace:",
      " [1] top-level scope",
      "   @ In[38]:3"
     ]
    }
   ],
   "source": [
    "let\n",
    "    df = DataFrame();\n",
    "    x = solution_case_2[\"argmax\"]; # get the solution\n",
    "    choices = findall(x-> x == 1.0, x);\n",
    "    cost_total = 0.0;\n",
    "    for i ∈ eachindex(choices)\n",
    "        j = choices[i];\n",
    "        row_df = (\n",
    "            choice = label_dictionary[j],\n",
    "            value = configuration_array[j,1],\n",
    "            cost = configuration_array[j,2]\n",
    "        );\n",
    "        push!(df, row_df);\n",
    "        cost_total += configuration_array[j,2];\n",
    "    end\n",
    "    footer_row = (\n",
    "        choice = \"\",\n",
    "        value = 0.0,\n",
    "        cost = cost_total\n",
    "    );\n",
    "    push!(df, footer_row);\n",
    "\n",
    "    # display the table\n",
    "    pretty_table(df, tf=tf_simple)\n",
    "end"
   ]
  },
  {
   "cell_type": "code",
   "execution_count": null,
   "id": "0bc5ec94-0760-45d5-bb87-5d5f6617503a",
   "metadata": {},
   "outputs": [],
   "source": []
  }
 ],
 "metadata": {
  "kernelspec": {
   "display_name": "Julia 1.11.1",
   "language": "julia",
   "name": "julia-1.11"
  },
  "language_info": {
   "file_extension": ".jl",
   "mimetype": "application/julia",
   "name": "julia",
   "version": "1.11.1"
  }
 },
 "nbformat": 4,
 "nbformat_minor": 5
}
