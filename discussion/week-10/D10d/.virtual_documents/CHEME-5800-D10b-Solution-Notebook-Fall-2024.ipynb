





include("Include.jl");





# extra stuff that I'm adding -
using Pkg;
Pkg.add("DataFrames")
using DataFrames





number_of_choices = 14;
bounds_array = Array{Float64,2}(undef, number_of_choices,2)
for i ∈ 1:number_of_choices
    bounds_array[i,1] = 0.0
    bounds_array[i,2] = 1.0;
end





label_dictionary = Dict{Int64,String}()
label_dictionary[1] = "CPU 1"
label_dictionary[2] = "CPU 2"
label_dictionary[3] = "Memory 1"
label_dictionary[4] = "Memory 2"
label_dictionary[5] = "Memory 3"
label_dictionary[6] = "Storage 1"
label_dictionary[7] = "Storage 2"
label_dictionary[8] = "Storage 3"
label_dictionary[9] = "Storage 4"
label_dictionary[10] = "Accessory 1"
label_dictionary[11] = "Accessory 2"
label_dictionary[12] = "Accessory 3"
label_dictionary[13] = "Software 1"
label_dictionary[14] = "Software 2";





configuration_array = [

    # 1 CPU options
    0.5 2640.0    ; # 1 CPU 1
    0.5 3649.0    ; # 2 CPU 2

    # 2 Memory options
    0.333 3840.0  ; # 3 Memory 1
    0.333 4640.0  ; # 4 Memory 2
    0.333 3600.0  ; # 5 Memory 3

    # 3 Storage options -
    0.25 1440.0   ; # 6 Storage 1
    0.25 1840.0   ; # 7 Storage 2
    0.25 2440.0   ; # 8 Storage 3
    0.25 3640.0   ; # 9 Storage 4

    # 4 Accessory options
    0.333 79.0    ; # 10 Accessory 1
    0.333 129.0   ; # 11 Accessory 2
    0.333 149.0   ; # 12 Accessory 3
    
    # Software options
    0.5 299.0     ; # 13 Software 1
    0.5 149.0     ; # 14 Software 2
];





C = zeros(4,14); # understanding qestion: why is this a 4 x 14 array?


C[1,1:2] .= 1;    # constraints on CPU options
C[2,3:5] .= 1;    # constraints on memory options
C[3,6:9] .= 1;    # constraints on storage options
C[4,10:12] .= 1;  # constraints on accessory options








α = configuration_array[:,1];
c = configuration_array[:,2];
I = 10000; # default budget is 10K USD


problem = build(MySimpleBinaryVariableLinearChoiceProblem, (
    
    α = α,
    c = c,
    I = I,
    initial = zeros(14),
    bounds = bounds_array,

    # extra constraints -
    C = C
));
solution = solve(problem)





x = solution["argmax"]


C*x








configuration_array_case_1 = [

    # 1 CPU options
    0.05 2640.0    ; # 1 CPU 1
    0.95 3649.0    ; # 2 CPU 2

    # 2 Memory options
    0.1 3840.0  ; # 3 Memory 1
    0.1 4640.0  ; # 4 Memory 2
    0.8 3600.0  ; # 5 Memory 3

    # 3 Storage options -
    0.1 1440.0   ; # 6 Storage 1
    0.1 1840.0   ; # 7 Storage 2
    0.1 2440.0   ; # 8 Storage 3
    0.7 3640.0   ; # 9 Storage 4

    # 4 Accessory options
    0.1 79.0    ; # 10 Accessory 1
    0.1 129.0   ; # 11 Accessory 2
    0.8 149.0   ; # 12 Accessory 3
    
    # Software options
    0.1 299.0     ; # 13 Software 1
    0.9 149.0     ; # 14 Software 2
];





α₁ = configuration_array_case_1[:,1];
c₁ = configuration_array_case_1[:,2];
problem_case_1 = build(MySimpleBinaryVariableLinearChoiceProblem, (
    
    α = α₁,
    c = c₁,
    I = I,
    initial = zeros(14),
    bounds = bounds_array,

    # extra constraints -
    C = C
));
solution_case_1 = solve(problem_case_1)


x₁ = solution_case_1["argmax"]


C*x₁





table_case_1 = DataFrame()
for i ∈ eachindex(x₁)
    
    choice_value = x₁[i]
    if (choice_value == 1)
        
        # row data -
        row_data = (
            option = label_dictionary[i],
            price = c₁[i]
        )
        push!(table_case_1, row_data)
    end
end
table_case_1


total_cost = sum(table_case_1[:,:price])





α₂ = configuration_array_case_1[:,1];
c₂ = configuration_array_case_1[:,2];
problem_case_2 = build(MySimpleBinaryVariableLinearChoiceProblem, (
    
    α = α₂,
    c = c₂,
    I = 25000,
    initial = zeros(14),
    bounds = bounds_array,

    # extra constraints -
    C = C
));
solution_case_2 = solve(problem_case_2)


x₂ = solution_case_2["argmax"]





table_case_2 = DataFrame()
for i ∈ eachindex(x₂)
    
    choice_value = x₂[i]
    if (choice_value == 1)
        
        # row data -
        row_data = (
            option = label_dictionary[i],
            price = c₂[i]
        )
        push!(table_case_2, row_data)
    end
end
table_case_2


total_cost = sum(table_case_2[:,:price])
