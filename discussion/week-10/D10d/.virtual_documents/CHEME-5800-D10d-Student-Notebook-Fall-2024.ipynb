





include("Include.jl");





number_of_choices = 14;
bounds_array = Array{Float64,2}(undef, number_of_choices,2)
for i ∈ 1:number_of_choices
    bounds_array[i,1] = 0.0
    bounds_array[i,2] = 1.0;
end





label_dictionary = let
    label_dictionary = Dict{Int64,String}()
    label_dictionary[1] = "CPU 1"
    label_dictionary[2] = "CPU 2"
    label_dictionary[3] = "Memory 1"
    label_dictionary[4] = "Memory 2"
    label_dictionary[5] = "Memory 3"
    label_dictionary[6] = "Storage 1"
    label_dictionary[7] = "Storage 2"
    label_dictionary[8] = "Storage 3"
    label_dictionary[9] = "Storage 4"
    label_dictionary[10] = "Accessory 1"
    label_dictionary[11] = "Accessory 2"
    label_dictionary[12] = "Accessory 3"
    label_dictionary[13] = "Software 1"
    label_dictionary[14] = "Software 2";

    # return the label dictionary
    label_dictionary
end;





I = 10000; # default budget is 10K USD





# Specify your perceived value in the first column
configuration_array = [

    # CPU options
    0.5 2640.0    ; # 1 CPU 1
    0.5 3649.0    ; # 2 CPU 2

    # Memory options
    0.333 3840.0  ; # 3 Memory 1
    0.333 4640.0  ; # 4 Memory 2
    0.333 3600.0  ; # 5 Memory 3

    # Storage options -
    0.25 1440.0   ; # 6 Storage 1
    0.25 1840.0   ; # 7 Storage 2
    0.25 2440.0   ; # 8 Storage 3
    0.25 3640.0   ; # 9 Storage 4

    # Accessory options
    0.333 79.0    ; # 10 Accessory 1
    0.333 129.0   ; # 11 Accessory 2
    0.333 149.0   ; # 12 Accessory 3
    
    # Software options
    0.5 299.0     ; # 13 Software 1
    0.5 149.0     ; # 14 Software 2
];





C = let
    
    # initialize -
    C = zeros(4,14); # understanding question: why is this a 4 x 14 array?

    # update the C-matrix. Only one option can be selected from each category except software (unconstrained)
    C[1,1:2] .= 1;    # constraints on CPU options
    C[2,3:5] .= 1;    # constraints on memory options
    C[3,6:9] .= 1;    # constraints on storage options
    C[4,10:12] .= 1;  # constraints on accessory options

    # return -
    C;
end











problem = let
    
    # initialize
    problem = nothing;
    α = configuration_array[:,1];
    c = configuration_array[:,2];

    # TODO: build problem model -
    problem = build(MySimpleBinaryVariableLinearChoiceProblem, (
    
        α = α,
        c = c,
        I = I,
        initial = zeros(14),
        bounds = bounds_array,

        # extra constraints -
        C = C
    ));
    
    # return
    problem;
end;





solution = let

    solution = nothing;
    try 
        solution = solve(problem);
    catch error
        println("Oooops! Error: $(error)");
    end
    
    # return
    solution
end





let
    x = solution["argmax"]; # get the solution
    rhs = C*x;
    findall(x-> x!=1.0,rhs) |> i-> @assert isempty(i) == true
end





let
    df = DataFrame();
    x = solution["argmax"]; # get the solution
    choices = findall(x-> x == 1.0, x);
    cost_total = 0.0;
    for i ∈ eachindex(choices)
        j = choices[i];
        row_df = (
            choice = label_dictionary[j],
            value = configuration_array[j,1],
            cost = configuration_array[j,2]
        );
        push!(df, row_df);
        cost_total += configuration_array[j,2];
    end
    footer_row = (
        choice = "",
        value = 0.0,
        cost = cost_total
    );
    push!(df, footer_row);

    # display the table
    pretty_table(df, tf=tf_simple)
end








configuration_array_case_1 = [

    # 1 CPU options
    0.05 2640.0    ; # 1 CPU 1
    0.95 3649.0    ; # 2 CPU 2

    # 2 Memory options
    0.1 3840.0  ; # 3 Memory 1
    0.1 4640.0  ; # 4 Memory 2
    0.8 3600.0  ; # 5 Memory 3

    # 3 Storage options -
    0.1 1440.0   ; # 6 Storage 1
    0.1 1840.0   ; # 7 Storage 2
    0.1 2440.0   ; # 8 Storage 3
    0.7 3640.0   ; # 9 Storage 4

    # 4 Accessory options
    0.1 79.0    ; # 10 Accessory 1
    0.1 129.0   ; # 11 Accessory 2
    0.8 149.0   ; # 12 Accessory 3
    
    # Software options
    0.1 299.0     ; # 13 Software 1
    0.9 149.0     ; # 14 Software 2
];





problem_case_1 = let
    α₁ = configuration_array_case_1[:,1];
    c₁ = configuration_array_case_1[:,2];
    problem_case_1 = build(MySimpleBinaryVariableLinearChoiceProblem, (
        α = α₁,
        c = c₁,
        I = I,
        initial = zeros(14),
        bounds = bounds_array,
        
        # extra constraints -
        C = C
    ));

    # return -
    problem_case_1;
end;





solution_case_1 = let

    solution = nothing;
    try 
        solution = solve(problem_case_1);
    catch error
        println("Oooops! Error: $(error)");
    end
    
    # return
    solution
end





let
    df = DataFrame();
    x = solution_case_1["argmax"]; # get the solution
    choices = findall(x-> x == 1.0, x);
    cost_total = 0.0;
    for i ∈ eachindex(choices)
        j = choices[i];
        row_df = (
            choice = label_dictionary[j],
            value = configuration_array[j,1],
            cost = configuration_array[j,2]
        );
        push!(df, row_df);
        cost_total += configuration_array[j,2];
    end
    footer_row = (
        choice = "",
        value = 0.0,
        cost = cost_total
    );
    push!(df, footer_row);

    # display the table
    pretty_table(df, tf=tf_simple)
end





problem_case_2 = let
    α₂ = configuration_array_case_1[:,1];
    c₂ = configuration_array_case_1[:,2];
    problem_case_2 = build(MySimpleBinaryVariableLinearChoiceProblem, (
    
        α = α₂,
        c = c₂,
        I = 15000,
        initial = zeros(14),
        bounds = bounds_array,

        # extra constraints -
        C = C
    ));

    # return -
    problem_case_2;
end;





solution_case_2 = let

    solution = nothing;
    try 
        solution = solve(problem_case_2);
    catch error
        println("Oooops! Error: $(error)");
    end
    
    # return
    solution
end





let
    df = DataFrame();
    x = solution_case_2["argmax"]; # get the solution
    choices = findall(x-> x == 1.0, x);
    cost_total = 0.0;
    for i ∈ eachindex(choices)
        j = choices[i];
        row_df = (
            choice = label_dictionary[j],
            value = configuration_array[j,1],
            cost = configuration_array[j,2]
        );
        push!(df, row_df);
        cost_total += configuration_array[j,2];
    end
    footer_row = (
        choice = "",
        value = 0.0,
        cost = cost_total
    );
    push!(df, footer_row);

    # display the table
    pretty_table(df, tf=tf_simple)
end



