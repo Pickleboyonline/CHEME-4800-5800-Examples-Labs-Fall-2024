{
 "cells": [
  {
   "cell_type": "markdown",
   "id": "ec311a4c-a1b2-4261-8f07-2d43cf0571bc",
   "metadata": {},
   "source": [
    "# Example: Fun With Queues, Stacks and Linked Lists\n",
    "Fill me in"
   ]
  },
  {
   "cell_type": "markdown",
   "id": "d7830622-e8cf-49a8-a983-81db11681379",
   "metadata": {},
   "source": [
    "## Setup\n",
    "We set up the computational environment by including the `Include. jl` file using [the `include(...)` method](https://docs.julialang.org/en/v1/base/base/#Base.include). The `Include.jl` file loads external packages and functions we will use in these examples. \n",
    "* For additional information on functions and types used in this example, see the [Julia programming language documentation](https://docs.julialang.org/en/v1/). "
   ]
  },
  {
   "cell_type": "code",
   "execution_count": 3,
   "id": "da04a530-ac93-4b4e-af06-6c117a742040",
   "metadata": {},
   "outputs": [],
   "source": [
    "include(\"Include.jl\");"
   ]
  },
  {
   "cell_type": "markdown",
   "id": "0c570398-b649-4261-8315-6dd6e0e71d55",
   "metadata": {},
   "source": [
    "## Example 1: Build a Stack holding a molecular formula string\n",
    "Fill me in."
   ]
  },
  {
   "cell_type": "code",
   "execution_count": 26,
   "id": "d6d8200d-7202-4587-ae02-481710ae10e1",
   "metadata": {},
   "outputs": [],
   "source": [
    "compound_for_stack = \"C6H1206\"; # Glucose"
   ]
  },
  {
   "cell_type": "markdown",
   "id": "0407f0d5-a5a9-4950-a2f2-09df8edb835e",
   "metadata": {},
   "source": [
    "Fill me in"
   ]
  },
  {
   "cell_type": "code",
   "execution_count": 7,
   "id": "1c6aea11-fd4b-4ffa-b57f-e3098fd891ee",
   "metadata": {},
   "outputs": [
    {
     "data": {
      "text/plain": [
       "Stack{Char}(Deque [['C', '6', 'H', '1', '2', '0', '6']])"
      ]
     },
     "execution_count": 7,
     "metadata": {},
     "output_type": "execute_result"
    }
   ],
   "source": [
    "compound_stack = build(Stack{Char}, compound_for_stack)"
   ]
  },
  {
   "cell_type": "markdown",
   "id": "0bc6eead-f5c0-45eb-84f7-b9978b17dcf5",
   "metadata": {},
   "source": [
    "Fill me in"
   ]
  },
  {
   "cell_type": "code",
   "execution_count": 13,
   "id": "0b15d2ae-5b19-4200-9bad-fc337aa02ffa",
   "metadata": {},
   "outputs": [
    {
     "data": {
      "text/plain": [
       "'6': ASCII/Unicode U+0036 (category Nd: Number, decimal digit)"
      ]
     },
     "execution_count": 13,
     "metadata": {},
     "output_type": "execute_result"
    }
   ],
   "source": [
    "pop!(compound_stack)"
   ]
  },
  {
   "cell_type": "code",
   "execution_count": 15,
   "id": "7d7d41ce-d37d-4f92-80ba-336774cd1775",
   "metadata": {},
   "outputs": [
    {
     "data": {
      "text/plain": [
       "Stack{Char}(Deque [['C', '6', 'H', '1', '2', '0']])"
      ]
     },
     "execution_count": 15,
     "metadata": {},
     "output_type": "execute_result"
    }
   ],
   "source": [
    "compound_stack"
   ]
  },
  {
   "cell_type": "markdown",
   "id": "8ce5b186-64a0-46df-9782-0d687b453a7b",
   "metadata": {},
   "source": [
    "Fill me in"
   ]
  },
  {
   "cell_type": "code",
   "execution_count": 18,
   "id": "263d72b7-bbea-4e63-8487-301bddd1ce3f",
   "metadata": {},
   "outputs": [
    {
     "name": "stdout",
     "output_type": "stream",
     "text": [
      "c = '0'\n",
      "c = '2'\n",
      "c = '1'\n",
      "c = 'H'\n",
      "c = '6'\n",
      "c = 'C'\n"
     ]
    }
   ],
   "source": [
    "while (isempty(compound_stack) == false)\n",
    "    c = pop!(compound_stack)\n",
    "    @show c\n",
    "end"
   ]
  },
  {
   "cell_type": "markdown",
   "id": "bf626227-86de-4a90-83d2-51a8f4bc64ff",
   "metadata": {},
   "source": [
    "## Example 2: Build a Queue holding a molecular formula string\n",
    "Fill me in"
   ]
  },
  {
   "cell_type": "code",
   "execution_count": 22,
   "id": "c89f501a-9494-4a54-95b1-799546343270",
   "metadata": {},
   "outputs": [],
   "source": [
    "compound_for_queue = \"C10H16N5P13P3\"; # ATP"
   ]
  },
  {
   "cell_type": "markdown",
   "id": "a2c4b3dd-b64a-45d6-a607-8097a9ceb83b",
   "metadata": {},
   "source": [
    "Fill me in"
   ]
  },
  {
   "cell_type": "code",
   "execution_count": 29,
   "id": "ee74d431-60e5-4800-9b54-6f70169a5a45",
   "metadata": {},
   "outputs": [
    {
     "data": {
      "text/plain": [
       "Queue{Char}(Deque [['C', '1', '0', 'H', '1', '6', 'N', '5', 'P', '1', '3', 'P', '3']])"
      ]
     },
     "execution_count": 29,
     "metadata": {},
     "output_type": "execute_result"
    }
   ],
   "source": [
    "compound_queue = build(Queue{Char}, compound_for_queue)"
   ]
  },
  {
   "cell_type": "markdown",
   "id": "9d4cd008-5e76-44c4-909b-16d987810539",
   "metadata": {},
   "source": [
    "Fill me in"
   ]
  },
  {
   "cell_type": "code",
   "execution_count": 32,
   "id": "93e3e86f-6198-48f2-84de-c326d3254089",
   "metadata": {},
   "outputs": [
    {
     "name": "stdout",
     "output_type": "stream",
     "text": [
      "c = 'C'\n",
      "c = '1'\n",
      "c = '0'\n",
      "c = 'H'\n",
      "c = '1'\n",
      "c = '6'\n",
      "c = 'N'\n",
      "c = '5'\n",
      "c = 'P'\n",
      "c = '1'\n",
      "c = '3'\n",
      "c = 'P'\n",
      "c = '3'\n"
     ]
    }
   ],
   "source": [
    "while (isempty(compound_queue) == false)\n",
    "    c = dequeue!(compound_queue)\n",
    "    @show c\n",
    "end"
   ]
  },
  {
   "cell_type": "markdown",
   "id": "572e413e-a9f3-458c-bf90-8672142a6d50",
   "metadata": {},
   "source": [
    "## Example 3: Build a Linked List holding a molecular formula string\n",
    "Fill me in"
   ]
  },
  {
   "cell_type": "code",
   "execution_count": null,
   "id": "ef6aa391-8447-448b-840b-a043aa29f341",
   "metadata": {},
   "outputs": [],
   "source": [
    "compound_linked_list = \"C21H29N7O17P3\"; # NADPH"
   ]
  }
 ],
 "metadata": {
  "kernelspec": {
   "display_name": "Julia 1.10.5",
   "language": "julia",
   "name": "julia-1.10"
  },
  "language_info": {
   "file_extension": ".jl",
   "mimetype": "application/julia",
   "name": "julia",
   "version": "1.10.5"
  }
 },
 "nbformat": 4,
 "nbformat_minor": 5
}
