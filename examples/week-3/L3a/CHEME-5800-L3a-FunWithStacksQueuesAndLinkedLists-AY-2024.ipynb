{
 "cells": [
  {
   "cell_type": "markdown",
   "id": "ec311a4c-a1b2-4261-8f07-2d43cf0571bc",
   "metadata": {},
   "source": [
    "# Example: Fun With Queues, Stacks and Linked Lists\n",
    "Fill me in"
   ]
  },
  {
   "cell_type": "markdown",
   "id": "d7830622-e8cf-49a8-a983-81db11681379",
   "metadata": {},
   "source": [
    "## Setup\n",
    "We set up the computational environment by including the `Include. jl` file using [the `include(...)` method](https://docs.julialang.org/en/v1/base/base/#Base.include). The `Include.jl` file loads external packages and functions we will use in these examples. \n",
    "* For additional information on functions and types used in this example, see the [Julia programming language documentation](https://docs.julialang.org/en/v1/). "
   ]
  },
  {
   "cell_type": "code",
   "execution_count": 3,
   "id": "da04a530-ac93-4b4e-af06-6c117a742040",
   "metadata": {},
   "outputs": [],
   "source": [
    "include(\"Include.jl\");"
   ]
  },
  {
   "cell_type": "markdown",
   "id": "0c570398-b649-4261-8315-6dd6e0e71d55",
   "metadata": {},
   "source": [
    "## Example 1: Build a Stack holding a molecular formula string\n",
    "Fill me in."
   ]
  },
  {
   "cell_type": "code",
   "execution_count": 5,
   "id": "d6d8200d-7202-4587-ae02-481710ae10e1",
   "metadata": {},
   "outputs": [],
   "source": [
    "compound_for_stack = \"C6H1206\"; # Glucose"
   ]
  },
  {
   "cell_type": "markdown",
   "id": "0407f0d5-a5a9-4950-a2f2-09df8edb835e",
   "metadata": {},
   "source": [
    "Fill me in"
   ]
  },
  {
   "cell_type": "code",
   "execution_count": 7,
   "id": "1c6aea11-fd4b-4ffa-b57f-e3098fd891ee",
   "metadata": {},
   "outputs": [
    {
     "data": {
      "text/plain": [
       "Stack{Char}(Deque [['C', '6', 'H', '1', '2', '0', '6']])"
      ]
     },
     "execution_count": 7,
     "metadata": {},
     "output_type": "execute_result"
    }
   ],
   "source": [
    "compound_stack = build(Stack{Char}, compound_for_stack)"
   ]
  },
  {
   "cell_type": "markdown",
   "id": "0bc6eead-f5c0-45eb-84f7-b9978b17dcf5",
   "metadata": {},
   "source": [
    "Fill me in"
   ]
  },
  {
   "cell_type": "code",
   "execution_count": 9,
   "id": "0b15d2ae-5b19-4200-9bad-fc337aa02ffa",
   "metadata": {},
   "outputs": [
    {
     "data": {
      "text/plain": [
       "'6': ASCII/Unicode U+0036 (category Nd: Number, decimal digit)"
      ]
     },
     "execution_count": 9,
     "metadata": {},
     "output_type": "execute_result"
    }
   ],
   "source": [
    "pop!(compound_stack)"
   ]
  },
  {
   "cell_type": "code",
   "execution_count": 10,
   "id": "7d7d41ce-d37d-4f92-80ba-336774cd1775",
   "metadata": {},
   "outputs": [
    {
     "data": {
      "text/plain": [
       "Stack{Char}(Deque [['C', '6', 'H', '1', '2', '0']])"
      ]
     },
     "execution_count": 10,
     "metadata": {},
     "output_type": "execute_result"
    }
   ],
   "source": [
    "compound_stack"
   ]
  },
  {
   "cell_type": "markdown",
   "id": "8ce5b186-64a0-46df-9782-0d687b453a7b",
   "metadata": {},
   "source": [
    "Fill me in"
   ]
  },
  {
   "cell_type": "code",
   "execution_count": 12,
   "id": "263d72b7-bbea-4e63-8487-301bddd1ce3f",
   "metadata": {},
   "outputs": [
    {
     "name": "stdout",
     "output_type": "stream",
     "text": [
      "(c, compound_stack) = ('0', Stack{Char}(Deque [['C', '6', 'H', '1', '2']]))\n",
      "(c, compound_stack) = ('2', Stack{Char}(Deque [['C', '6', 'H', '1']]))\n",
      "(c, compound_stack) = ('1', Stack{Char}(Deque [['C', '6', 'H']]))\n",
      "(c, compound_stack) = ('H', Stack{Char}(Deque [['C', '6']]))\n",
      "(c, compound_stack) = ('6', Stack{Char}(Deque [['C']]))\n",
      "(c, compound_stack) = ('C', Stack{Char}(Deque [Char[]]))\n"
     ]
    }
   ],
   "source": [
    "while (isempty(compound_stack) == false)\n",
    "    c = pop!(compound_stack)\n",
    "    @show (c, compound_stack)\n",
    "end"
   ]
  },
  {
   "cell_type": "markdown",
   "id": "bf626227-86de-4a90-83d2-51a8f4bc64ff",
   "metadata": {},
   "source": [
    "## Example 2: Build a Queue holding a molecular formula string\n",
    "Fill me in"
   ]
  },
  {
   "cell_type": "code",
   "execution_count": 14,
   "id": "c89f501a-9494-4a54-95b1-799546343270",
   "metadata": {},
   "outputs": [],
   "source": [
    "compound_for_queue = \"C10H16N5P13P3\"; # ATP"
   ]
  },
  {
   "cell_type": "markdown",
   "id": "a2c4b3dd-b64a-45d6-a607-8097a9ceb83b",
   "metadata": {},
   "source": [
    "Fill me in"
   ]
  },
  {
   "cell_type": "code",
   "execution_count": 16,
   "id": "ee74d431-60e5-4800-9b54-6f70169a5a45",
   "metadata": {},
   "outputs": [
    {
     "data": {
      "text/plain": [
       "Queue{Char}(Deque [['C', '1', '0', 'H', '1', '6', 'N', '5', 'P', '1', '3', 'P', '3']])"
      ]
     },
     "execution_count": 16,
     "metadata": {},
     "output_type": "execute_result"
    }
   ],
   "source": [
    "compound_queue = build(Queue{Char}, compound_for_queue)"
   ]
  },
  {
   "cell_type": "markdown",
   "id": "9d4cd008-5e76-44c4-909b-16d987810539",
   "metadata": {},
   "source": [
    "Fill me in"
   ]
  },
  {
   "cell_type": "code",
   "execution_count": 18,
   "id": "93e3e86f-6198-48f2-84de-c326d3254089",
   "metadata": {},
   "outputs": [
    {
     "name": "stdout",
     "output_type": "stream",
     "text": [
      "(c, compound_queue) = ('C', Queue{Char}(Deque [['1', '0', 'H', '1', '6', 'N', '5', 'P', '1', '3', 'P', '3']]))\n",
      "(c, compound_queue) = ('1', Queue{Char}(Deque [['0', 'H', '1', '6', 'N', '5', 'P', '1', '3', 'P', '3']]))\n",
      "(c, compound_queue) = ('0', Queue{Char}(Deque [['H', '1', '6', 'N', '5', 'P', '1', '3', 'P', '3']]))\n",
      "(c, compound_queue) = ('H', Queue{Char}(Deque [['1', '6', 'N', '5', 'P', '1', '3', 'P', '3']]))\n",
      "(c, compound_queue) = ('1', Queue{Char}(Deque [['6', 'N', '5', 'P', '1', '3', 'P', '3']]))\n",
      "(c, compound_queue) = ('6', Queue{Char}(Deque [['N', '5', 'P', '1', '3', 'P', '3']]))\n",
      "(c, compound_queue) = ('N', Queue{Char}(Deque [['5', 'P', '1', '3', 'P', '3']]))\n",
      "(c, compound_queue) = ('5', Queue{Char}(Deque [['P', '1', '3', 'P', '3']]))\n",
      "(c, compound_queue) = ('P', Queue{Char}(Deque [['1', '3', 'P', '3']]))\n",
      "(c, compound_queue) = ('1', Queue{Char}(Deque [['3', 'P', '3']]))\n",
      "(c, compound_queue) = ('3', Queue{Char}(Deque [['P', '3']]))\n",
      "(c, compound_queue) = ('P', Queue{Char}(Deque [['3']]))\n",
      "(c, compound_queue) = ('3', Queue{Char}(Deque [Char[]]))\n"
     ]
    }
   ],
   "source": [
    "while (isempty(compound_queue) == false)\n",
    "    c = dequeue!(compound_queue)\n",
    "    @show (c, compound_queue)\n",
    "end"
   ]
  },
  {
   "cell_type": "markdown",
   "id": "572e413e-a9f3-458c-bf90-8672142a6d50",
   "metadata": {},
   "source": [
    "## Example 3: Build a Linked List holding a molecular formula string\n",
    "Fill me in"
   ]
  },
  {
   "cell_type": "code",
   "execution_count": 20,
   "id": "ef6aa391-8447-448b-840b-a043aa29f341",
   "metadata": {},
   "outputs": [],
   "source": [
    "compound_for_linked_list = \"C21H29N7O17P3\"; # NADPH"
   ]
  },
  {
   "cell_type": "markdown",
   "id": "7eb17cd1-6f67-45af-84bc-138b98f8fd02",
   "metadata": {},
   "source": [
    "Fill me in"
   ]
  },
  {
   "cell_type": "code",
   "execution_count": 22,
   "id": "40c7f290-0018-4b13-8bb6-60807095d796",
   "metadata": {},
   "outputs": [
    {
     "data": {
      "text/plain": [
       "MutableLinkedList{Char}(C, 2, 1, H, 2, 9, N, 7, O, 1, 7, P, 3)"
      ]
     },
     "execution_count": 22,
     "metadata": {},
     "output_type": "execute_result"
    }
   ],
   "source": [
    "compound_linked_list = build(MutableLinkedList{Char}, compound_for_linked_list)"
   ]
  },
  {
   "cell_type": "markdown",
   "id": "3535bb3c-d6dc-4f92-8a12-13c197e9c422",
   "metadata": {},
   "source": [
    "Fill me in"
   ]
  },
  {
   "cell_type": "code",
   "execution_count": 24,
   "id": "806804a3-87e0-4560-b21a-9921ebbfa2d4",
   "metadata": {},
   "outputs": [
    {
     "name": "stdout",
     "output_type": "stream",
     "text": [
      "(c, compound_linked_list) = ('3', MutableLinkedList{Char}(C, 2, 1, H, 2, 9, N, 7, O, 1, 7, P))\n",
      "(c, compound_linked_list) = ('P', MutableLinkedList{Char}(C, 2, 1, H, 2, 9, N, 7, O, 1, 7))\n",
      "(c, compound_linked_list) = ('7', MutableLinkedList{Char}(C, 2, 1, H, 2, 9, N, 7, O, 1))\n",
      "(c, compound_linked_list) = ('1', MutableLinkedList{Char}(C, 2, 1, H, 2, 9, N, 7, O))\n",
      "(c, compound_linked_list) = ('O', MutableLinkedList{Char}(C, 2, 1, H, 2, 9, N, 7))\n",
      "(c, compound_linked_list) = ('7', MutableLinkedList{Char}(C, 2, 1, H, 2, 9, N))\n",
      "(c, compound_linked_list) = ('N', MutableLinkedList{Char}(C, 2, 1, H, 2, 9))\n",
      "(c, compound_linked_list) = ('9', MutableLinkedList{Char}(C, 2, 1, H, 2))\n",
      "(c, compound_linked_list) = ('2', MutableLinkedList{Char}(C, 2, 1, H))\n",
      "(c, compound_linked_list) = ('H', MutableLinkedList{Char}(C, 2, 1))\n",
      "(c, compound_linked_list) = ('1', MutableLinkedList{Char}(C, 2))\n",
      "(c, compound_linked_list) = ('2', MutableLinkedList{Char}(C))\n",
      "(c, compound_linked_list) = ('C', MutableLinkedList{Char}())\n"
     ]
    }
   ],
   "source": [
    "while (isempty(compound_linked_list) == false)\n",
    "    c = pop!(compound_linked_list)\n",
    "    @show (c,compound_linked_list)\n",
    "end"
   ]
  }
 ],
 "metadata": {
  "kernelspec": {
   "display_name": "Julia 1.10.5",
   "language": "julia",
   "name": "julia-1.10"
  },
  "language_info": {
   "file_extension": ".jl",
   "mimetype": "application/julia",
   "name": "julia",
   "version": "1.10.5"
  }
 },
 "nbformat": 4,
 "nbformat_minor": 5
}
