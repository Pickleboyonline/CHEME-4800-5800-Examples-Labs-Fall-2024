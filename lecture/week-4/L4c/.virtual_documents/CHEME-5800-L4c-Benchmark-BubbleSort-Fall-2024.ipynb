





include("Include.jl");





results_array = let

    number_of_samples = 12;
    collection = [2^i for i ∈ 1:number_of_samples]; # This is a comprehension,

    push!(collection, 1500); # add out of sequence
    push!(collection, 2500); # add out of sequence
    push!(collection, 3000); # add out of sequence
    push!(collection, 3500); # add out of sequence
    collection |> sort! # put back in order
    
    results = Array{Any, 2}(undef, length(collection), 2);
    sounds = nothing;

    counter = 1;
    @showprogress dt=1 desc="Computing..." for i ∈ eachindex(collection)
        
        tmp_random_array = rand(1:collection[i] ,collection[i]) |> v->sort(v, rev=true) # hmmm. what is going on here?
        tvals = @benchmark bubble_sort($tmp_random_array; sounds = $sounds);
        
        results[counter, 1] = collection[i];
        results[counter, 2] = median(tvals.times);
        counter += 1;
    end
    results;
end;





let

    scale_factor = maximum(results_array[:,2])
    N = results_array[:,1]
    X = (100/scale_factor)*results_array[:,2];
    
    plot(N,X, c=:red, lw=2, label="")
    scatter!(N,X, c=:white, msc=:red, label="Observations")

    xlabel!("Length of random input vector", fontsize = 18);
    ylabel!("Scaled runtime (AU)", fontsize = 18)
end


example_index = 2;
input = results_array[example_index,1]/results_array[example_index-1,1];
ouput = results_array[example_index,2]/results_array[example_index-1,2];
println("Input increase factor: $(input), time increase factor: $(ouput) for i = $(example_index)")



