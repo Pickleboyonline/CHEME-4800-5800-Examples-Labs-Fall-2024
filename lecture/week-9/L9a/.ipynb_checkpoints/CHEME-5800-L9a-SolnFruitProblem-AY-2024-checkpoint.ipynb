{
 "cells": [
  {
   "cell_type": "markdown",
   "id": "2f6d69dd-fb67-4d2e-b87c-5aa8b6bc3c50",
   "metadata": {},
   "source": [
    "# Example: Grocery Store Fruit Problem using a Linear Utility Function\n",
    "This example will familiarize students with solving constrained maximum utility problems and will serve as an introduction to linear programming. In this example, we'll use a numerical approach to solve for the optimal allocation between `apples` and `oranges,` assuming a `Linear` utility function. In particular,\n",
    "* We'll estimate the optimal case we expect, solve the linear programming problem, and compare the solutions \n",
    "* We'll visualize the budget constraint and the indifference curve and show that the numerical optimum is either a corner solution or the entire resource constraint line\n",
    "\n",
    "### Problem\n",
    "Consider a utility maximization problem that uses a Linear utility function $U(x_{1},x_{2}) = \\alpha_{1}x_{1}+\\alpha_{2}x_{2}$ subject to a budget constraint. The Lagrangian is:\n",
    "$$\n",
    "\\begin{equation*}\n",
    "\\mathcal{L}(x,\\lambda) = \\alpha_{1}x_{1} + \\alpha_{2}x_{2} + \\lambda\\cdot\\left(I-c_{1}x_{1}-c_{2}x_{2}\\right)\n",
    "\\end{equation*}\n",
    "$$\n",
    "which gives the first-order optimality conditions:\n",
    "$$\n",
    "\\begin{eqnarray*}\n",
    "\\frac{\\partial\\mathcal{L}}{\\partial{x_{1}}} & = & \\alpha_{1} - \\lambda\\cdot{c_{1}} = 0 \\\\\n",
    "\\frac{\\partial\\mathcal{L}}{\\partial{x_{2}}} & = & \\alpha_{2} - \\lambda\\cdot{c_{2}} = 0 \\\\\n",
    "\\frac{\\partial\\mathcal{L}}{\\partial\\lambda} & = & I - c_{1}x_{1} - c_{2}x_{2} = 0\n",
    "\\end{eqnarray*}\n",
    "$$"
   ]
  },
  {
   "cell_type": "markdown",
   "id": "d67c8632-7d55-4318-bb52-b7576d32e6a1",
   "metadata": {},
   "source": [
    "## Setup\n",
    "The computations in this lab (or example) are enabled by the [VLDecisionsPackage.jl](https://github.com/varnerlab/VLDecisionsPackage.jl.git) and several external `Julia` packages. To load the required packages and any custom codes the teaching team has developed to work with these packages, we [include](https://docs.julialang.org/en/v1/manual/code-loading/) the `Include.jl` file):"
   ]
  },
  {
   "cell_type": "code",
   "execution_count": 3,
   "id": "5881ff1f-768f-4170-81d9-33eb82844429",
   "metadata": {
    "tags": []
   },
   "outputs": [],
   "source": [
    "include(\"Include.jl\");"
   ]
  },
  {
   "cell_type": "markdown",
   "id": "cd7ffc58-d23a-42a0-b545-746d69e24c90",
   "metadata": {},
   "source": [
    "## Prerequisites\n",
    "Let's set the prices, $\\alpha_{i}$, and budget for our `Apple` versus `Oranges` problem. We'll store the prices in the `c` array and the coefficients in the utility function in the `α` variable.\n",
    "* The $\\alpha_{i}$ coefficients (because we have a linear utility function) are the [marginal utilities](https://en.wikipedia.org/wiki/Marginal_utility), i.e., they tell us the satisfaction we gain from consuming an additional unit of good $i$. They have units of `utils/qty`\n",
    "* The $c_{i}$ coefficients represent the unit cost of each good, e.g., the cost of a single apple or orange. The $c_{i}$ coefficients have units of `USD/qty.`\n",
    "* Finally, the `total_budget` variable holds the amount of money we spend on apples and oranges. The `total_budget` has units of `USD`."
   ]
  },
  {
   "cell_type": "code",
   "execution_count": 5,
   "id": "51290a76-1cda-4008-aa48-dd9c3a8b4065",
   "metadata": {},
   "outputs": [],
   "source": [
    "# α = [0.55, 0.45]; # coefficients for case A\n",
    "α = [0.15, 0.55]; # coefficients for case B\n",
    "# α = [2.0, 4.0]; # coefficients for case C\n",
    "c = [2.0 4.0]; # price of x1 and x2\n",
    "total_budget = 100.0;"
   ]
  },
  {
   "cell_type": "markdown",
   "id": "4c38060e-2138-4a21-a4af-7bea7d0bef6c",
   "metadata": {},
   "source": [
    "### Check: Are the first-order optimality LAEs underdetermined?\n",
    "At first glance, it's not obvious (at least to me) why the system of linear algebraic equations representing the first-order optimality conditions should be underdetermined. Let's check this out by setting up the system matrix and computing the rank."
   ]
  },
  {
   "cell_type": "code",
   "execution_count": 7,
   "id": "a0c850ad-4f71-4f76-be3b-b1a2fe294f4f",
   "metadata": {},
   "outputs": [
    {
     "data": {
      "text/plain": [
       "3×3 Matrix{Float64}:\n",
       "  0.0   0.0  -2.0\n",
       "  0.0   0.0  -4.0\n",
       " -2.0  -4.0   0.0"
      ]
     },
     "execution_count": 7,
     "metadata": {},
     "output_type": "execute_result"
    }
   ],
   "source": [
    "A = [\n",
    "    0 0 -c[1]     ; # x1 \n",
    "    0 0 -c[2]     ; # x2\n",
    "    -c[1] -c[2] 0 ; # lambda\n",
    "]"
   ]
  },
  {
   "cell_type": "code",
   "execution_count": 8,
   "id": "f2ec6ae2-1c41-44c0-9c93-7a88c1ddc73d",
   "metadata": {},
   "outputs": [
    {
     "data": {
      "text/plain": [
       "2"
      ]
     },
     "execution_count": 8,
     "metadata": {},
     "output_type": "execute_result"
    }
   ],
   "source": [
    "rank(A)"
   ]
  },
  {
   "cell_type": "markdown",
   "id": "66ece252-2c6a-41bc-8ea6-f3bfbb97ac34",
   "metadata": {},
   "source": [
    "## Compute the optimal mix of `Apples` and `Oranges`\n",
    "Hmmm. So the [Lagrange multiplier method](https://en.wikipedia.org/wiki/Lagrange_multiplier#:~:text=In%20mathematical%20optimization%2C%20the%20method,chosen%20values%20of%20the%20variables).) failed. Let's solve this as a [Linear programming problem](https://en.wikipedia.org/wiki/Linear_programming). Let's not worry so much about how a linear programming solver works (we are invoking the `buy` side of `buy` versus `build`). Instead, let's try to understand how the problem works, and then we'll dig into the details. Here's how we compute the optimal value for a constrained `Linear` utility maximization problem. \n",
    "* First, we create an instance of the `MySimpleLinearChoiceProblem` type using the `build(...)` method. We input problem parameters, such as the utility function coefficients, cost values, total budget values, an initial guess, and allocation bounds.\n",
    "* Next, we use the `solve(...)` method with the 'problem' variable and store the solution in the `solution` variable:"
   ]
  },
  {
   "cell_type": "code",
   "execution_count": 10,
   "id": "f5909105-b12f-4e0f-bd86-fdad43e214f4",
   "metadata": {
    "tags": []
   },
   "outputs": [
    {
     "ename": "LoadError",
     "evalue": "MethodError: no method matching Matrix{Float64}(::Vector{Float64})\nThe type `Matrix{Float64}` exists, but no method is defined for this combination of argument types when trying to construct it.\n\n\u001b[0mClosest candidates are:\n\u001b[0m  Array{T, N}(::AbstractArray{S, N}) where {T, N, S}\n\u001b[0m\u001b[90m   @\u001b[39m \u001b[90mBase\u001b[39m \u001b[90m\u001b[4marray.jl:615\u001b[24m\u001b[39m\n\u001b[0m  Matrix{T}(\u001b[91m::UndefInitializer\u001b[39m, \u001b[91m::Tuple{Int64, Int64}\u001b[39m) where T\n\u001b[0m\u001b[90m   @\u001b[39m \u001b[90mCore\u001b[39m \u001b[90m\u001b[4mboot.jl:592\u001b[24m\u001b[39m\n\u001b[0m  Matrix{T}(\u001b[91m::UndefInitializer\u001b[39m, \u001b[91m::Int64\u001b[39m, \u001b[91m::Int64\u001b[39m) where T\n\u001b[0m\u001b[90m   @\u001b[39m \u001b[90mCore\u001b[39m \u001b[90m\u001b[4mboot.jl:581\u001b[24m\u001b[39m\n\u001b[0m  ...\n",
     "output_type": "error",
     "traceback": [
      "MethodError: no method matching Matrix{Float64}(::Vector{Float64})\nThe type `Matrix{Float64}` exists, but no method is defined for this combination of argument types when trying to construct it.\n\n\u001b[0mClosest candidates are:\n\u001b[0m  Array{T, N}(::AbstractArray{S, N}) where {T, N, S}\n\u001b[0m\u001b[90m   @\u001b[39m \u001b[90mBase\u001b[39m \u001b[90m\u001b[4marray.jl:615\u001b[24m\u001b[39m\n\u001b[0m  Matrix{T}(\u001b[91m::UndefInitializer\u001b[39m, \u001b[91m::Tuple{Int64, Int64}\u001b[39m) where T\n\u001b[0m\u001b[90m   @\u001b[39m \u001b[90mCore\u001b[39m \u001b[90m\u001b[4mboot.jl:592\u001b[24m\u001b[39m\n\u001b[0m  Matrix{T}(\u001b[91m::UndefInitializer\u001b[39m, \u001b[91m::Int64\u001b[39m, \u001b[91m::Int64\u001b[39m) where T\n\u001b[0m\u001b[90m   @\u001b[39m \u001b[90mCore\u001b[39m \u001b[90m\u001b[4mboot.jl:581\u001b[24m\u001b[39m\n\u001b[0m  ...\n",
      "",
      "Stacktrace:",
      " [1] convert(::Type{Matrix{Float64}}, a::Vector{Float64})",
      "   @ Base ./array.jl:607",
      " [2] setproperty!(x::MyLinearProgrammingProblemModel, f::Symbol, v::Vector{Float64})",
      "   @ Base ./Base.jl:52",
      " [3] build(modeltype::Type{MyLinearProgrammingProblemModel}, data::@NamedTuple{initial::Vector{Float64}, c::Vector{Float64}, A::Vector{Float64}, b::Vector{Float64}, lb::Vector{Float64}, ub::Vector{Float64}})",
      "   @ Main ~/Desktop/julia_work/CHEME-4800-5800-Examples-Fall-2024/lecture/week-9/L9a/src/Factory.jl:58",
      " [4] top-level scope",
      "   @ In[10]:5"
     ]
    }
   ],
   "source": [
    "# bounds on the choice variables -\n",
    "bounds = [\n",
    "    0.0 100.0; # L U\n",
    "    0.0 100.0; # L U\n",
    "]\n",
    "\n",
    "# build my problem object -\n",
    "problem = build(MyLinearProgrammingProblemModel, (\n",
    "    \n",
    "    initial = 0.1*ones(2), # initial guess for how  much x₁ and x₂ we are buying\n",
    "    c = α, # coefficients\n",
    "    A = c, # price of x1 and x2\n",
    "    b = [total_budget], # income\n",
    "    \n",
    "    # how much of x₁ and x₂ can be we buy?\n",
    "    lb = bounds[:,1],\n",
    "    ub = bounds[:,2]\n",
    "));\n",
    "\n",
    "# call the solve function. This will return a dictionary -\n",
    "solution = solve(problem);"
   ]
  },
  {
   "cell_type": "markdown",
   "id": "b322038e-0cf2-40cd-b272-73a2c9946dc7",
   "metadata": {
    "tags": []
   },
   "source": [
    "The `solution` variable is a [Julia Dictionary type](https://docs.julialang.org/en/v1/base/collections/#Base.Dict) which holds three `string keys`:\n",
    "* `argmax`: Holds the optimal solution vector\n",
    "* `budget`: Holds the value of resources expended by the optimal solution, e.g., how money we spent at the optimum\n",
    "* `objective_value`: Holds the optimal value of the utility"
   ]
  },
  {
   "cell_type": "code",
   "execution_count": 12,
   "id": "945c3948-fcde-4bca-b875-86c0128137b1",
   "metadata": {
    "tags": []
   },
   "outputs": [
    {
     "ename": "LoadError",
     "evalue": "UndefVarError: `solution` not defined in `Main`\nSuggestion: check for spelling errors or missing imports.",
     "output_type": "error",
     "traceback": [
      "UndefVarError: `solution` not defined in `Main`\nSuggestion: check for spelling errors or missing imports.",
      ""
     ]
    }
   ],
   "source": [
    "solution"
   ]
  },
  {
   "cell_type": "markdown",
   "id": "f3d8e2e3-f83f-44c2-acbb-908e3fa90d40",
   "metadata": {},
   "source": [
    "### Check: What case do we have?\n",
    "Depending upon the absolute value of the slope of the budget line $|m_{B}|$ and the indifference curve $|m_{I}|$, we should get one of three possible solution types:\n",
    "* __Case A__: The `abs` slope of the indifference curve is _greater than_ the budget line, i.e., $ |m_{I}|>|m_{B}|$. This gives the `bottom` corner as a solution, i.e., we spend all our budget on good 1, in this case, `apples.`\n",
    "* __Case B__: The `abs` slope of the indifference curve is _less than_ than the budget line, i.e., $|m_{I}|<|m_{B}|$. This gives the `top` corner as a solution, i.e., we spend all our budget on good 2, in this case, `oranges.`\n",
    "* __Case C__: The `abs` slope of the indifference curve is _equal to_ the budget line, i.e., $|m_{I}|=|m_{B}|$. This gives the _any solution on the budget line_."
   ]
  },
  {
   "cell_type": "code",
   "execution_count": 14,
   "id": "c7078f03-4203-42ed-9584-6f2997669ad3",
   "metadata": {
    "jupyter": {
     "source_hidden": true
    },
    "tags": []
   },
   "outputs": [
    {
     "name": "stdout",
     "output_type": "stream",
     "text": [
      "slope budget = -0.5, slope indiff = -0.2727272727272727\n"
     ]
    }
   ],
   "source": [
    "slope_budget_line = -1*(c[1]/c[2]);\n",
    "slope_indifference_curve = -1*(α[1]/α[2])\n",
    "println(\"slope budget = $(slope_budget_line), slope indiff = $(slope_indifference_curve)\")"
   ]
  },
  {
   "cell_type": "code",
   "execution_count": 15,
   "id": "bce4f467-21c2-4375-af3a-4917cd3d411f",
   "metadata": {
    "jupyter": {
     "source_hidden": true
    },
    "tags": []
   },
   "outputs": [
    {
     "name": "stdout",
     "output_type": "stream",
     "text": [
      "Case B: Solution should be the y-intercept corner point\n"
     ]
    }
   ],
   "source": [
    "if (abs(slope_budget_line) < abs(slope_indifference_curve))\n",
    "    println(\"Case A: Solution should be the x-intercept corner point\")\n",
    "elseif (abs(slope_budget_line) > abs(slope_indifference_curve))\n",
    "    println(\"Case B: Solution should be the y-intercept corner point\")\n",
    "else (abs(slope_budget_line) == abs(slope_indifference_curve))\n",
    "    println(\"Case C: We will have an infinite number of solutions\")\n",
    "end"
   ]
  },
  {
   "cell_type": "code",
   "execution_count": 16,
   "id": "1d5d90eb-3821-4e18-949d-a8c3d6786811",
   "metadata": {
    "tags": []
   },
   "outputs": [
    {
     "name": "stdout",
     "output_type": "stream",
     "text": [
      "The corner solutions (apples,oranges) = (50.0,25.0)\n"
     ]
    }
   ],
   "source": [
    "x̂₁ = total_budget/c[1]\n",
    "x̂₂ = total_budget/c[2]\n",
    "println(\"The corner solutions (apples,oranges) = ($(x̂₁),$(x̂₂))\")"
   ]
  },
  {
   "cell_type": "markdown",
   "id": "ccd74582-e3ab-4aba-b8b5-6843d294a0b2",
   "metadata": {},
   "source": [
    "#### Check: Does this solution satisfy the first-order optimality conditions?\n",
    "The solution calculated by the linear program should satisfy at most rank `r` number of first-order optimality conditions. Let's check this out by grabbing the calculated solution and various components of the problem and computing the optimality conditions. \n",
    "* We'll use the [isapprox function](https://docs.julialang.org/en/v1/base/math/#Base.isapprox) function to check how close each optimality equation is away from `0` where we set `atol` parameter to control what we mean by `close`. The [isapprox function](https://docs.julialang.org/en/v1/base/math/#Base.isapprox) returns a `Bool` value."
   ]
  },
  {
   "cell_type": "code",
   "execution_count": 18,
   "id": "370858e8-dc91-4067-b1c1-0460f141b364",
   "metadata": {
    "tags": []
   },
   "outputs": [
    {
     "ename": "LoadError",
     "evalue": "UndefVarError: `solution` not defined in `Main`\nSuggestion: check for spelling errors or missing imports.",
     "output_type": "error",
     "traceback": [
      "UndefVarError: `solution` not defined in `Main`\nSuggestion: check for spelling errors or missing imports.",
      "",
      "Stacktrace:",
      " [1] top-level scope",
      "   @ In[18]:1"
     ]
    }
   ],
   "source": [
    "# get the solution values from the solution dictionary\n",
    "x̂₁ = solution[\"argmax\"][1];\n",
    "x̂₂ = solution[\"argmax\"][2];\n",
    "c₁ = c[1];\n",
    "c₂ = c[2];\n",
    "I = solution[\"budget\"]\n",
    "\n",
    "# compute the marginal utility at the optimum -\n",
    "Ū₁ = α[1];\n",
    "Ū₂ = α[2];\n",
    "\n",
    "# compute the Lagrange multiplier (from eqn 1)\n",
    "λ = Ū₁/c₁;\n",
    "\n",
    "# Compute the first-order conditions -\n",
    "E1 = Ū₁ - λ*c₁\n",
    "E2 = Ū₂ - λ*c₂\n",
    "E3 = I - (c₁*x̂₁ + c₂*x̂₂)\n",
    "\n",
    "# checkme -\n",
    "isapprox.((E1,E2,E3),(0.0,0.0,0.0), atol=1e-10) # notice the . "
   ]
  },
  {
   "cell_type": "code",
   "execution_count": 19,
   "id": "d1bff25d-6989-4d3e-9d44-1ea32e98f1b2",
   "metadata": {
    "tags": []
   },
   "outputs": [
    {
     "ename": "LoadError",
     "evalue": "UndefVarError: `E1` not defined in `Main`\nSuggestion: check for spelling errors or missing imports.",
     "output_type": "error",
     "traceback": [
      "UndefVarError: `E1` not defined in `Main`\nSuggestion: check for spelling errors or missing imports.",
      "",
      "Stacktrace:",
      " [1] top-level scope",
      "   @ In[19]:1"
     ]
    }
   ],
   "source": [
    "E1, E2, E3"
   ]
  },
  {
   "cell_type": "markdown",
   "id": "4e2de07d-eb6f-4203-b50a-dede06119738",
   "metadata": {},
   "source": [
    "## Visualize the Resource line, Indifference curve, and the Optimal Solution\n",
    "`Unhide` the code block below to see how we visualized the resource constraint, the optimal indifference curve, and the optimal solution."
   ]
  },
  {
   "cell_type": "code",
   "execution_count": 21,
   "id": "88310e78-3361-463e-af1a-73ba2178a3ce",
   "metadata": {
    "jupyter": {
     "source_hidden": true
    },
    "tags": []
   },
   "outputs": [
    {
     "ename": "LoadError",
     "evalue": "UndefVarError: `solution` not defined in `Main`\nSuggestion: check for spelling errors or missing imports.",
     "output_type": "error",
     "traceback": [
      "UndefVarError: `solution` not defined in `Main`\nSuggestion: check for spelling errors or missing imports.",
      "",
      "Stacktrace:",
      " [1] top-level scope",
      "   @ In[21]:1"
     ]
    }
   ],
   "source": [
    "# ok, let's grab the results dictionary, and the Uopt -\n",
    "Uopt = round(solution[\"objective_value\"], sigdigits=4);\n",
    "xopt = solution[\"argmax\"];\n",
    "c = problem.c;\n",
    "budget_value = problem.I;\n",
    "\n",
    "# indifference_bounds -\n",
    "indifference_bounds = [\n",
    "    0.0 1.1*(budget_value/c[1]) ;\n",
    "    0.0 1.1*(budget_value/c[2]) ;\n",
    "];\n",
    "\n",
    "xlim = [0.0, 1.1*(budget_value/c[1])];\n",
    "ylim = [0.0, 1.1*(budget_value/c[2])];\n",
    "x1_opt = round(xopt[1]; sigdigits=3)\n",
    "x2_opt = round(xopt[2]; sigdigits=3)\n",
    "\n",
    "# compute the indifference curve -\n",
    "INC = indifference(problem, Uopt, indifference_bounds)\n",
    "\n",
    "# compute the budget -\n",
    "BC = budget(problem, xlim)\n",
    "\n",
    "# make the plots -\n",
    "plot(INC[:,1],INC[:,2],label=\"\", lw=3, c=:blue,\n",
    "    bg=\"floralwhite\", background_color_outside=\"white\", framestyle = :box, fg_legend = :transparent);\n",
    "plot!(BC[:,1],BC[:,2], label=\"Budget $(budget_value) USD\", lw=3,c=:black, xlim = xlim, ylim = ylim)\n",
    "scatter!([xopt[1]], [xopt[2]], ms=4, c=:orange, msc=:orange, label=\"Opt: ($(x1_opt),$(x2_opt))\")\n",
    "xlabel!(\"Number of Apples\", fontsize=18)\n",
    "ylabel!(\"Number of Oranges\", fontsize=18)"
   ]
  }
 ],
 "metadata": {
  "kernelspec": {
   "display_name": "Julia 1.11.1",
   "language": "julia",
   "name": "julia-1.11"
  },
  "language_info": {
   "file_extension": ".jl",
   "mimetype": "application/julia",
   "name": "julia",
   "version": "1.11.1"
  }
 },
 "nbformat": 4,
 "nbformat_minor": 5
}
