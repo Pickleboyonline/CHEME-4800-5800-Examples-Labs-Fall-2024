{
 "cells": [
  {
   "cell_type": "markdown",
   "id": "85d92774-9d31-4fef-b09c-f1a91eefd2ec",
   "metadata": {},
   "source": [
    "# Example: Solving the Primal and Dual Production Allocation Problem\n",
    "Consider a hypothetical manufacturing facility that converts a cheap raw material into five possible products $\\left\\{p_{i}\\right\\}_{i=1}^{i=5}$ using processes $\\left\\{P_{j}\\right\\}_{j=1}^{j=4}$. The capacity of each process, i.e., the maximum number of product units that can be produced per process, the unit price of each product, and the capacity required to manufacture product $i$ using process $j$  are given by:\n",
    "\n",
    "| Process | Capacity | p$_{1}$ |  p$_{2}$ | p$_{3}$ | p$_{4}$ | p$_{5}$ |\n",
    "| :---: | :---: | --- | --- | --- | --- | --- |\n",
    "P$_{1}$ | 160 | 1.2 | 1.3 | 0.7 | 0.0 | 0.5\n",
    "P$_{2}$ | 200 | 0.7 | 2.2 | 1.6 | 0.5 | 1.0 |\n",
    "P$_{3}$ | 120 | 0.9 | 0.7 | 1.3 | 1.0 | 0.8 |\n",
    "P$_{4}$ | 280 | 1.4 | 2.8 | 0.5 | 1.2 | 0.6 |\n",
    "Unit price $ | -- | 18 | 25 | 10 | 12 | 15\n",
    "\n",
    "Estimate the optimum production quantities for the products $p_{i}$ that maximize the total revenue. Let's try to solve this problem using linear programming."
   ]
  },
  {
   "cell_type": "markdown",
   "id": "8942e071-f6a8-425e-979e-1815eb87c328",
   "metadata": {},
   "source": [
    "## Setup\n",
    "This example requires several external libraries and a function to compute the outer product. Let's download and install these packages and call our `Include.jl` file."
   ]
  },
  {
   "cell_type": "code",
   "execution_count": 3,
   "id": "c77ac271-b2ed-41e3-bae5-b64d4a53c450",
   "metadata": {},
   "outputs": [],
   "source": [
    "include(\"Include.jl\");"
   ]
  },
  {
   "cell_type": "markdown",
   "id": "ec82d047-b207-4a6f-8e0f-60500738ec63",
   "metadata": {},
   "source": [
    "## Task 1: Setup linear programming problem\n",
    "In this task, we setup the linear programing problem. First, we specify the number of products that we are producing, and the number of processes that we have to produce "
   ]
  },
  {
   "cell_type": "code",
   "execution_count": 5,
   "id": "3a0fc920-d922-47f6-9b73-1f1c9ec3c213",
   "metadata": {},
   "outputs": [],
   "source": [
    "number_of_products = 5; # How many products do we have?\n",
    "number_of_processes = 4; # How many processes do we have?"
   ]
  },
  {
   "cell_type": "markdown",
   "id": "aa810774-e062-4bd8-bbf2-327c7487c4ff",
   "metadata": {},
   "source": [
    "Next, define the system constraint matrix $\\mathbf{A}$. The entries of $a_{ij}\\in\\mathbf{A}$ represent the capacity cost of manufacturing product $j$ using process $i$."
   ]
  },
  {
   "cell_type": "code",
   "execution_count": 7,
   "id": "849f899a-6420-485e-9f90-b959196fa500",
   "metadata": {},
   "outputs": [],
   "source": [
    "A = [\n",
    "    1.2 1.3 0.7 0.0 0.5 ; # process 1\n",
    "    0.7 2.2 1.6 0.5 1.0 ; # process 2\n",
    "    0.9 0.7 1.3 1.0 0.8 ; # process 3\n",
    "    1.4 2.8 0.5 1.2 0.6 ; # process 4\n",
    "];"
   ]
  },
  {
   "cell_type": "markdown",
   "id": "2fa05c27-4782-4787-a98e-b7130d3092f5",
   "metadata": {},
   "source": [
    "Then, we'll define the right-hand side vector $\\mathbf{b}$ (these represent the maximum capacities of the machines)."
   ]
  },
  {
   "cell_type": "code",
   "execution_count": 9,
   "id": "3408c064-9fb9-4780-896e-c7756ba6a3c4",
   "metadata": {},
   "outputs": [],
   "source": [
    "b = [160, 200, 120, 280]; # Setup the right hand side vector (capcity)"
   ]
  },
  {
   "cell_type": "markdown",
   "id": "1e847951-2c46-48c0-9be0-9c0ba91a41f2",
   "metadata": {},
   "source": [
    "The last thing we need to specify is the coefficients of the objective function $\\mathbf{c}$. The entry $c_{i}\\in\\mathbf{c}$ is the unit price of product $i$ in our set of products."
   ]
  },
  {
   "cell_type": "code",
   "execution_count": 11,
   "id": "fab2d204-a692-4867-ae67-bb58b150ff36",
   "metadata": {},
   "outputs": [],
   "source": [
    "c = [18.0,25.0,10.0,12.0,15.0]; # revenue for each product"
   ]
  },
  {
   "cell_type": "markdown",
   "id": "1051896e-8220-440c-ab97-c76c64ba9582",
   "metadata": {},
   "source": [
    "Finally, each of our decision variables $x_{i}$ (how much of product $i$ to manufacture) is bounded such that $L_{i}\\leq{x}_{i}\\leq{U_{i}}$, where $L_{i}$ denotes the lower bound (in this case all variables must be greater than zero) and $U_{i}$ denotes the upper bound (in this case, some big number)."
   ]
  },
  {
   "cell_type": "code",
   "execution_count": 13,
   "id": "3df72c0d-0702-45bd-a020-1f901ed13381",
   "metadata": {},
   "outputs": [],
   "source": [
    "bounds = [\n",
    "    0.0 1000.0; # L U compound 1\n",
    "    0.0 1000.0; # L U compound 2\n",
    "    0.0 1000.0; # L U compound 3\n",
    "    0.0 1000.0; # L U compound 4\n",
    "    0.0 1000.0; # L U compound 5\n",
    "];"
   ]
  },
  {
   "cell_type": "markdown",
   "id": "384d9155-baa1-4451-a249-e757d8355f23",
   "metadata": {},
   "source": [
    "Now that we have all the components, create an instance of [the `MyLinearProgrammingProblemModel` type](src/Types.jl) using [a `build(...)` method](src/Factory.jl). We input problem parameters, such as the objective function coefficients, cost values, total budget values, an initial guess, and allocation bounds."
   ]
  },
  {
   "cell_type": "code",
   "execution_count": 15,
   "id": "84f07ce0-17d0-497d-a2a9-93e39cd1af82",
   "metadata": {},
   "outputs": [],
   "source": [
    "primal_problem = build(MyLinearProgrammingProblemModel, (\n",
    " \n",
    "    c = c, # coefficients in the objective function (unit costs)\n",
    "    A = A, # production table (processes to compounds)\n",
    "    b = b, # capacity constraints\n",
    "    \n",
    "    # how much of x₁ and x₂ can be we buy?\n",
    "    lb = bounds[:,1], # lower bound\n",
    "    ub = bounds[:,2] # uppber bound\n",
    "));"
   ]
  },
  {
   "cell_type": "code",
   "execution_count": 16,
   "id": "bc32544f-ca58-4d5f-a482-611633aefc9a",
   "metadata": {},
   "outputs": [
    {
     "data": {
      "text/plain": [
       "4×5 Matrix{Float64}:\n",
       " 1.2  1.3  0.7  0.0  0.5\n",
       " 0.7  2.2  1.6  0.5  1.0\n",
       " 0.9  0.7  1.3  1.0  0.8\n",
       " 1.4  2.8  0.5  1.2  0.6"
      ]
     },
     "execution_count": 16,
     "metadata": {},
     "output_type": "execute_result"
    }
   ],
   "source": [
    "primal_problem.A"
   ]
  },
  {
   "cell_type": "markdown",
   "id": "0a2bd649-989c-4586-86f1-a1e976a73c91",
   "metadata": {},
   "source": [
    "## Task 2: Solve the primal linear programming problem\n",
    "In this task, we solve the production problem as a [Linear programming problem](https://en.wikipedia.org/wiki/Linear_programming). Let's not worry so much about how a linear programming solver works (we are invoking the `buy` side of `buy` versus `build`). Instead, let's try to understand how the problem is structured, and then we'll dig into the details of the solver later. \n",
    "* To solve the primal problem, we use [the `solve(...)` method](src/Solver.jl) with the `primal_problem::MyLinearProgrammingProblemModel` variable and store the solution in the `primal_solution` variable.\n",
    "* __What's up with the try-catch?__ The call to [the `solve(...)` method](src/Solve.jl) has a check to see if the solution returned by the solver is feasible. This check uses [the @assert macro](), which can throw [an AssertionError](https://docs.julialang.org/en/v1/base/base/#Core.AssertionError). So, we wrap our call to [the `solve(...)` method](src/Solve.jl) in [try-catch block](https://docs.julialang.org/en/v1/manual/control-flow/#The-try/catch-statement) to catch this exception gracefully should it occur."
   ]
  },
  {
   "cell_type": "code",
   "execution_count": 18,
   "id": "5866527e-331b-4169-b906-6332dd0914ed",
   "metadata": {},
   "outputs": [
    {
     "data": {
      "text/plain": [
       "Dict{String, Any} with 2 entries:\n",
       "  \"argmax\"          => [0.0, 0.0, 0.0, 0.0, 133.333]\n",
       "  \"objective_value\" => 2000.0"
      ]
     },
     "execution_count": 18,
     "metadata": {},
     "output_type": "execute_result"
    }
   ],
   "source": [
    "primal_solution = nothing;\n",
    "try\n",
    "    primal_solution = solve(primal_problem)\n",
    "catch error\n",
    "    println(error)\n",
    "end"
   ]
  },
  {
   "cell_type": "code",
   "execution_count": 19,
   "id": "9d4fc8e1-e602-42f9-9fab-157b81c13294",
   "metadata": {},
   "outputs": [
    {
     "name": "stdout",
     "output_type": "stream",
     "text": [
      "The optimal revenue is: 2000.0000000000002 USD\n"
     ]
    }
   ],
   "source": [
    "optimal_revenue = primal_solution[\"objective_value\"];\n",
    "println(\"The optimal revenue is: $(optimal_revenue) USD\")"
   ]
  },
  {
   "cell_type": "markdown",
   "id": "8ce799af-949d-43a8-9b01-99a18368b533",
   "metadata": {},
   "source": [
    "### Visualize product mix\n",
    "`Unhide` the code block below to see how we make a table holding the optimal production mixture produced by the primal problem.\n",
    "* __Summary__: Given the default parameters, the optimal product mix does not include product `3.` Product `2` was the most manufactured product, followed by `1`, then `5` and finally `4`."
   ]
  },
  {
   "cell_type": "code",
   "execution_count": 21,
   "id": "937a0852-732e-4991-817b-19b2164c70f8",
   "metadata": {
    "jupyter": {
     "source_hidden": true
    }
   },
   "outputs": [
    {
     "name": "stdout",
     "output_type": "stream",
     "text": [
      "========== =============\n",
      " \u001b[1m product \u001b[0m \u001b[1m production \u001b[0m\n",
      " \u001b[90m   Int64 \u001b[0m \u001b[90m    Float64 \u001b[0m\n",
      "========== =============\n",
      "        1          0.0\n",
      "        2          0.0\n",
      "        3          0.0\n",
      "        4          0.0\n",
      "        5      133.333\n",
      "========== =============\n"
     ]
    }
   ],
   "source": [
    "let\n",
    "    df = DataFrame();\n",
    "    C = primal_solution[\"argmax\"]\n",
    "    for i ∈ 1:number_of_products \n",
    "        row_df = (\n",
    "            product = i,\n",
    "            production = C[i],\n",
    "        )\n",
    "        push!(df, row_df);\n",
    "    end\n",
    "    pretty_table(df, tf=tf_simple)\n",
    "end"
   ]
  },
  {
   "cell_type": "markdown",
   "id": "ff35e799-cf4f-49ad-80cc-c7f4056b31a2",
   "metadata": {},
   "source": [
    "### Visualize machine capacity\n",
    "`Unhide` the code block below to see how we make a table holding which machines were utilized to produce our optimal product mixture.\n",
    "* __Summary__: Even though we have inequality constraints, all machines were allocated to capacity when maximizing the revenue for selling the products. "
   ]
  },
  {
   "cell_type": "code",
   "execution_count": 23,
   "id": "71e898f5-7859-457e-b460-62b713dca6d0",
   "metadata": {
    "jupyter": {
     "source_hidden": true
    }
   },
   "outputs": [
    {
     "name": "stdout",
     "output_type": "stream",
     "text": [
      "========== ============= ===========\n",
      " \u001b[1m process \u001b[0m \u001b[1m utilization \u001b[0m \u001b[1m capacity \u001b[0m\n",
      " \u001b[90m   Int64 \u001b[0m \u001b[90m     Float64 \u001b[0m \u001b[90m    Int64 \u001b[0m\n",
      "========== ============= ===========\n",
      "        1       66.6667        160\n",
      "        2       133.333        200\n",
      "        3       106.667        120\n",
      "        4          80.0         80\n",
      "========== ============= ===========\n"
     ]
    }
   ],
   "source": [
    "let\n",
    "    df = DataFrame();\n",
    "    C = primal_solution[\"argmax\"]\n",
    "    P = A*C;\n",
    "    \n",
    "    for i ∈ 1:number_of_processes\n",
    "        row_df = (\n",
    "            process = i,\n",
    "            utilization = P[i],\n",
    "            capacity = b[i]\n",
    "        )\n",
    "        push!(df, row_df);\n",
    "    end\n",
    "    pretty_table(df, tf=tf_simple)\n",
    "end"
   ]
  },
  {
   "cell_type": "markdown",
   "id": "b59c12bf-706d-4ac3-91a3-53458d43ac6f",
   "metadata": {},
   "source": [
    "## Task 3: Solve the dual production planning problem.\n",
    "In this task, we'll solve the dual production planning problem. To better understand the dual, let's look at the units. The dual problem is given by:\n",
    "$$\n",
    "\\begin{eqnarray*}\n",
    "\\text{minimize}~\\mathcal{O}^{\\prime}(\\mathbf{y}) &=& \\sum_{i=1}^{m} b_{i}\\cdot{y}_{i}\\\\\n",
    "\\text{subject to}~\\mathbf{A}^{T}\\cdot\\mathbf{y} &\\geq&\\mathbf{c}\\\\\n",
    "\\text{and}~y_{i}&\\geq&{0}\\qquad{i=1,2,\\dots,m}\n",
    "\\end{eqnarray*}\n",
    "$$\n",
    "where $b_{i}$ denotes the maximum machine capacities from the primal problem (units: `capacity`), and $\\mathbf{c}$ is the unit cost vector (units: `USD/unit`). The entries in the constraint matrix $a_{ij}\\in\\mathbf{A}$ have units of `capacity/unit.` Thus, the dual variables $y_{i}\\in\\mathbf{y}$ have units of `USD/capacity.` Putting all this together:\n",
    "* The dual problem is minimizing the cost of operating the facility so that we can generate at least the revenue of the primal problem. Thus, we are exploring the problem through the lens of efficiency."
   ]
  },
  {
   "cell_type": "markdown",
   "id": "887a37d7-eb25-4246-98ba-80002a2f9290",
   "metadata": {},
   "source": [
    "First, we'll create the appropriate problem type, and then we'll pass this problem type to the solver. Let's begin by creating [a `MyLinearProgrammingDualProblemModel` instance](src/Types.jl) using [a `build(...)` method](src/Factory.jl). We'll save the dual problem model in the `dual_problem::MyLinearProgrammingDualProblemModel` variable:"
   ]
  },
  {
   "cell_type": "code",
   "execution_count": 26,
   "id": "7bc3437c-e54d-44b3-9f75-a4d23302adf8",
   "metadata": {},
   "outputs": [],
   "source": [
    "dual_problem = let\n",
    "\n",
    "        bounds = zeros(number_of_processes,2);\n",
    "        bounds[:,2] .= 1000; # what is going on with the .= ??\n",
    "    \n",
    "        problem = build(MyLinearProgrammingDualProblemModel, (\n",
    "\n",
    "            c = b, # dual: the coefficients in the objective function are primal right-hand sides\n",
    "            b = c, # dual: the right-hand side of the constraints is now the coeff of the obj function from the primal problem\n",
    "            A = transpose(A), # constraint matrix is the transpose(A)\n",
    "\n",
    "            lb = bounds[:,1], # lower bound (zeros)\n",
    "            ub = bounds[:,2]  # upper bound (some big number)\n",
    "        ));\n",
    "\n",
    "    problem\n",
    "end;"
   ]
  },
  {
   "cell_type": "markdown",
   "id": "e371b69b-ca00-4336-a97a-2cead06dd0cf",
   "metadata": {},
   "source": [
    "Now that we have the dual problem model, we can solve the problem [using the `solve(...)` method](src/Solver.jl).\n",
    "* To solve the primal problem, we pass the `dual_problem::MyLinearProgrammingDualProblemModel` problem instance to [the `solve(...)` method](src/Solver.jl). We store the solution in the `dual_solution` variable.\n",
    "* __What's up with the try-catch?__ The call to [the `solve(...)` method](src/Solve.jl) has a check to see if the solution returned by the solver is feasible. This check uses [the @assert macro](), which can throw [an AssertionError](https://docs.julialang.org/en/v1/base/base/#Core.AssertionError). So, we wrap our call to [the `solve(...)` method](src/Solve.jl) in [try-catch block](https://docs.julialang.org/en/v1/manual/control-flow/#The-try/catch-statement) to catch this exception gracefully should it occur."
   ]
  },
  {
   "cell_type": "code",
   "execution_count": 28,
   "id": "af83225f-3a59-417f-a509-303b942a6d2e",
   "metadata": {},
   "outputs": [
    {
     "data": {
      "text/plain": [
       "Dict{String, Any} with 2 entries:\n",
       "  \"argmin\"          => [0.0, 0.0, 0.0, 25.0]\n",
       "  \"objective_value\" => 2000.0"
      ]
     },
     "execution_count": 28,
     "metadata": {},
     "output_type": "execute_result"
    }
   ],
   "source": [
    "dual_solution = nothing;\n",
    "try\n",
    "    dual_solution = solve(dual_problem)\n",
    "catch error\n",
    "    println(error);\n",
    "end"
   ]
  }
 ],
 "metadata": {
  "kernelspec": {
   "display_name": "Julia 1.11.1",
   "language": "julia",
   "name": "julia-1.11"
  },
  "language_info": {
   "file_extension": ".jl",
   "mimetype": "application/julia",
   "name": "julia",
   "version": "1.11.1"
  }
 },
 "nbformat": 4,
 "nbformat_minor": 5
}
