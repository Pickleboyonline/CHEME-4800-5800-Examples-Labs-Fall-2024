{
 "cells": [
  {
   "cell_type": "markdown",
   "id": "8486ffbb-a72f-4d5f-8feb-37db2a7d5819",
   "metadata": {},
   "source": [
    "# Example: Fun with Numerical Data Type Representations in Julia\n",
    "This example will familiarize students with working with [numerical types in Julia](https://docs.julialang.org/en/v1/base/numbers/#Standard-Numeric-Types) and [logical `Bool` types](https://docs.julialang.org/en/v1/base/numbers/#Core.Bool). Let $k$ denote the `word size` of the computer, i.e., the number of bits in a `word.` On this machine, the `word size` is `64-bit`. The base $b$ representation of a number uses the digit set:\n",
    "\\begin{equation*}\n",
    "\\mathcal{D}_{b} = \\left\\{0, 1, \\dots, (b - 1)\\right\\}\n",
    "\\end{equation*}\n",
    "\n",
    "For any $n\\geq{0}$ and $b\\geq{2}$, there is a string of $k$-digits $\\left(a_{k-1}\\,a_{k-2},\\dots,a_{2}\\,a_{1}a_{0}\\right)_{b}$ \n",
    "where $a_{i}\\in\\mathcal{D}_{b}\\,\\forall{i}$ such that the `base-10` representation of the number $n$ is given by:\n",
    "\\begin{equation*}\n",
    "n = \\sum_{j=0}^{k-1}a_{j}\\cdot{b^{j}}\n",
    "\\end{equation*}\n",
    "where $a_{j}$ denotes the digit in position $j$, the quantity $b$ denotes the base, and $k$ denotes the number of bits in a `word.`"
   ]
  },
  {
   "cell_type": "markdown",
   "id": "142adf06-4c24-4dc4-baa6-9878641e50d2",
   "metadata": {},
   "source": [
    "## Example 1: `64-bit` integer written as a `base 2` (binary) number\n",
    "Show that the `64-bit` binary representation of the integer value `1800` is given by:\n",
    "$$\n",
    "\\begin{equation}\n",
    "1800 \\stackrel{?}{=} (0000000000000000000000000000000000000000000000000000011100001000)_{2}\n",
    "\\end{equation}\n",
    "$$"
   ]
  },
  {
   "cell_type": "markdown",
   "id": "3fe03e72-20b1-4779-9f4e-07e84a2430b7",
   "metadata": {},
   "source": [
    "### Solution\n",
    "A `binary` number is written respect to the `base 2`. Thus, we have $b=2$ and a digit set equal to $\\mathcal{D}_{2}=\\left\\{0,1\\right\\}$. Further, we know that word size (on this machine) is `64-bit`, so `k = 64`. The `base b` summation runs from $0\\rightarrow{63}$:\n",
    "$$\n",
    "\\begin{equation}\n",
    "1800 \\stackrel{?}{=} \\sum_{j=0}^{63}a_{j}\\cdot{2^j}\n",
    "\\end{equation}\n",
    "$$\n",
    "where $a_{j}$ denotes the value in the jth position of the binary number, i.e., $a_{j}=\\left\\{0,1\\right\\}$ in position $j$. Most of the the $a_{j}$ values in the binary number are zero _except_ for a few positions; thus, the summation reduces to:\n",
    "\n",
    "$$\n",
    "\\begin{equation}\n",
    "1800 \\stackrel{?}{=} 2^{3}+2^{8}+2^{9}+2^{10}\n",
    "\\end{equation}\n",
    "$$"
   ]
  },
  {
   "cell_type": "markdown",
   "id": "452f978b-b0a9-4089-9152-ad99204c5b45",
   "metadata": {},
   "source": [
    "#### Check\n",
    "To check the equality condition, we use the [Julia @assert macro](https://docs.julialang.org/en/v1/base/base/#Base.@assert). If the statement passed to the [@assert macro](https://docs.julialang.org/en/v1/base/base/#Base.@assert) evaluates to `false,` i.e., in the case the [the `sum(...)` method](https://docs.julialang.org/en/v1/base/collections/#Base.sum) does not return a value of `1800`, then an [AssertionError](https://docs.julialang.org/en/v1/base/base/#Core.AssertionError) is thrown altering us that there is an issue. \n",
    "* __Note__: we use the equality `==` operator (not the assignment operator `=`). There is also the `===` comparison operator in Julia, which determines whether `x` and `y` are identical, in the sense that no program could distinguish them. We'll see this operator later."
   ]
  },
  {
   "cell_type": "code",
   "execution_count": 4,
   "id": "983f6a22-3bed-41e0-8e76-e50577a2d11d",
   "metadata": {},
   "outputs": [],
   "source": [
    "@assert (1800 == sum([2^3,2^8,2^9,2^10]))"
   ]
  },
  {
   "cell_type": "markdown",
   "id": "a9a7707e-567e-4185-a81b-163508814f8b",
   "metadata": {},
   "source": [
    "### Can we see the binary sequence?\n",
    "__Tip__: The [Julia `bitstring(...)` methods](https://docs.julialang.org/en/v1/base/numbers/#Base.bitstring) display the binary representation of different types of data, e.g., numerical data types and maybe even strings and characters (if we could convert them to numerical types somehow, hmmm). Let's use [the `bitstring(...)` method](https://docs.julialang.org/en/v1/base/numbers/#Base.bitstring) to show the binary version of `1800`."
   ]
  },
  {
   "cell_type": "code",
   "execution_count": 71,
   "id": "c53bf25f-b6f4-4882-a576-b7085c8ee379",
   "metadata": {},
   "outputs": [
    {
     "data": {
      "text/plain": [
       "\"0000000000000000000000000000000000000000000000000000011100001000\""
      ]
     },
     "execution_count": 71,
     "metadata": {},
     "output_type": "execute_result"
    }
   ],
   "source": [
    "z = bitstring(1800) # This is expression: what does it say?"
   ]
  },
  {
   "cell_type": "markdown",
   "id": "f21ff94a-a580-4566-b25e-9b7532e3e12c",
   "metadata": {},
   "source": [
    "However, while [the `bitstring(...)` method](https://docs.julialang.org/en/v1/base/numbers/#Base.bitstring) is definitely cool (no doubt about it!), it returns the bit pattern of only `binary` numbers, i.e., numbers of `base 2`, and returns this representation as a [`String` type](https://docs.julialang.org/en/v1/base/strings/#lib-strings) (which makes mathematics challenging). Hmmm. That's a bummer.\n",
    "* __Tip__: we can check the `type` of something using the [Julia `typeof(...)` method](https://docs.julialang.org/en/v1/base/base/#Core.typeof). This method returns the type of a variable, e.g., a [`String`](https://docs.julialang.org/en/v1/base/strings/#lib-strings), [`Int64`](https://docs.julialang.org/en/v1/base/numbers/#Core.Int64), [`Float64`](https://docs.julialang.org/en/v1/base/numbers/#Core.Float64), etc."
   ]
  },
  {
   "cell_type": "code",
   "execution_count": 8,
   "id": "a7f44eb9-4bb6-493e-baa5-6f08ac3dd27f",
   "metadata": {},
   "outputs": [
    {
     "data": {
      "text/plain": [
       "String"
      ]
     },
     "execution_count": 8,
     "metadata": {},
     "output_type": "execute_result"
    }
   ],
   "source": [
    "typeof(z)"
   ]
  },
  {
   "cell_type": "markdown",
   "id": "685d78b6-bcc9-4bbf-8239-043c7cdcca72",
   "metadata": {},
   "source": [
    "## Example 2: The values of a `base 8` (octal) number\n",
    "Show that the octal number $\\left(0\\cdots0112\\right)_{8}$ has a value of `74` in the `base 10` number system."
   ]
  },
  {
   "cell_type": "markdown",
   "id": "1febead0-da1a-40cf-9523-4be24e35827c",
   "metadata": {},
   "source": [
    "### Solution\n",
    "An `octal` number is written respect to the `base 8`. Thus, we have $b=8$ and a digit set equal to $\\mathcal{D}_{8}=\\left\\{0,1,2,\\cdots,7\\right\\}$. Further, we know that word size (on this machine) is `64-bit`, so `k = 64`. The `base 8` summation, which runs from $0\\rightarrow{63}$ on this machine, takes the form:\n",
    "$$\n",
    "\\begin{equation}\n",
    "74 \\stackrel{?}{=} \\sum_{j=0}^{63}a_{j}\\cdot{8^j}\n",
    "\\end{equation}\n",
    "$$\n",
    "where $a_{j}$ denotes the value in the jth position of the octal number (numbering from `right` to `left`). Most of the $a_{j}$ values in the example octal number are zero _except_ for a few positions; thus, the summation reduces to:\n",
    "$$\n",
    "\\begin{equation}\n",
    "n = 2\\times{8}^{0}+1\\times{8}^{1}+1\\times{8}^2\n",
    "\\end{equation}\n",
    "$$\n",
    "or $n = 74$."
   ]
  },
  {
   "cell_type": "markdown",
   "id": "2af67c65-639a-4ba2-aa4a-b09e51d0ed35",
   "metadata": {},
   "source": [
    "#### Check\n",
    "To check the equality condition, we use the [Julia @assert macro](https://docs.julialang.org/en/v1/base/base/#Base.@assert). If the statement passed to the [@assert macro](https://docs.julialang.org/en/v1/base/base/#Base.@assert) evaluates to `false,` i.e., in the case the [the `sum(...)` method](https://docs.julialang.org/en/v1/base/collections/#Base.sum) does not return a value of `74`, then an [AssertionError](https://docs.julialang.org/en/v1/base/base/#Core.AssertionError) is thrown altering us that there is an issue. \n",
    "* __Note__: we use the equality `==` operator (not the assignment operator `=`). There is also the `===` comparison operator in Julia, which determines whether `x` and `y` are identical, in the sense that no program could distinguish them. We'll see this operator later."
   ]
  },
  {
   "cell_type": "code",
   "execution_count": 12,
   "id": "668e771a-aa01-4fe6-9c30-1e98459a4005",
   "metadata": {},
   "outputs": [],
   "source": [
    "@assert (74 == sum([2,8,8^2]))"
   ]
  },
  {
   "cell_type": "markdown",
   "id": "93264342-fd15-49ec-bbc2-e03f65c3226f",
   "metadata": {},
   "source": [
    "### Check: Let's go from `base 10` $\\rightarrow$ `base 8`, and then back again\n",
    "Instead of calling [the `bitstring(...)` method](https://docs.julialang.org/en/v1/base/numbers/#Base.bitstring), let's explore [the `digits(...)` method](https://docs.julialang.org/en/v1/base/numbers/#Base.digits). The [`digits(...)` method](https://docs.julialang.org/en/v1/base/numbers/#Base.digits) takes a `number,` a `base,` and a `pad` argument and returns the bit pattern for `number` written with respect to `base` assuming a word size equal to `pad.`\n",
    "* Let's use [the `digits(...)` method](https://docs.julialang.org/en/v1/base/numbers/#Base.digits) to get the bit pattern for $n = 74$ written in `base = 8` for a `64-bit` machine. Save this data in the `bit_pattern_array::Vector{Int64}` variable."
   ]
  },
  {
   "cell_type": "code",
   "execution_count": 120,
   "id": "b3d74cc5-48c0-42da-b7ab-b5e2e2a3f41b",
   "metadata": {},
   "outputs": [
    {
     "data": {
      "text/plain": [
       "64-element Vector{Int64}:\n",
       " 2\n",
       " 1\n",
       " 1\n",
       " 0\n",
       " 0\n",
       " 0\n",
       " 0\n",
       " 0\n",
       " 0\n",
       " 0\n",
       " 0\n",
       " 0\n",
       " 0\n",
       " ⋮\n",
       " 0\n",
       " 0\n",
       " 0\n",
       " 0\n",
       " 0\n",
       " 0\n",
       " 0\n",
       " 0\n",
       " 0\n",
       " 0\n",
       " 0\n",
       " 0"
      ]
     },
     "execution_count": 120,
     "metadata": {},
     "output_type": "execute_result"
    }
   ],
   "source": [
    "bit_pattern_array = digits(74, base=8, pad=64)"
   ]
  },
  {
   "cell_type": "markdown",
   "id": "e4332d65-efa3-40c7-8757-9e895d62375a",
   "metadata": {},
   "source": [
    "Cool! The [`digits(...)` method](https://docs.julialang.org/en/v1/base/numbers/#Base.digits) seems to be what we need, the answer to all of our `base b` number system needs and wants. But there is one `wrinkle`. [Array (lists of items) indexing in Julia](https://docs.julialang.org/en/v1/base/arrays/#lib-arrays) is `1`-based, meaning we call the first element of an array index `1`. But many algorithms (and theoretical tools) are `0`-based. How do we fix this?\n",
    "* `Proper solution`: In addition to the `Hack` below (which I use _all the time__), the (potentially) proper solution is to use [an instance of an `OffsetArray` exported by the OffsetArrays.jl package](https://github.com/JuliaArrays/OffsetArrays.jl) to fix the `1`-based array issue.\n",
    "* `Hack`: we can also fix the `1`-based array issue and introduce a supremely useful, non-linear data structure [called a Dictionary](https://docs.julialang.org/en/v1/base/collections/#Base.Dict) that we can use to make a `0`-based array (sort of). Let's copy the `bit_pattern_array` into a dictionary (which we can make `0`-based) called `bit_patten_dictionary::Dict{Int64,Int64}`"
   ]
  },
  {
   "cell_type": "code",
   "execution_count": 16,
   "id": "04466bb3-a1f1-405e-ada0-9db2b59d5ccc",
   "metadata": {},
   "outputs": [
    {
     "data": {
      "text/plain": [
       "2"
      ]
     },
     "execution_count": 16,
     "metadata": {},
     "output_type": "execute_result"
    }
   ],
   "source": [
    "bit_patten_dictionary = Dict{Int64,Int64}(); # what are we doing here?\n",
    "for i ∈ eachindex(bit_pattern_array)\n",
    "    bit_patten_dictionary[i-1] = bit_pattern_array[i] # what are we doing here?\n",
    "end\n",
    "bit_patten_dictionary[0] # what is going on here?"
   ]
  },
  {
   "cell_type": "markdown",
   "id": "d46df2df-2d90-47bc-b724-ef470af4f7d2",
   "metadata": {},
   "source": [
    "__Aside__: But wait, can we do this in fewer lines? Yes, yes, we can. This is a thing with me (sort of a point of pride), but this prideful display _comes at the expense of readability_. To make this work, we use [the `foreach(...)` method](https://docs.julialang.org/en/v1/base/collections/#Base.foreach), which allows to write the for-loop in `1-line`:"
   ]
  },
  {
   "cell_type": "code",
   "execution_count": 141,
   "id": "ea85be4a-7900-4304-854b-a2797c41a476",
   "metadata": {},
   "outputs": [],
   "source": [
    "bit_patten_dictionary_short = Dict{Int64,Int64}();\n",
    "foreach(i -> bit_patten_dictionary_short[i-1] = bit_pattern_array[i], eachindex(bit_pattern_array))"
   ]
  },
  {
   "cell_type": "markdown",
   "id": "6dce835f-1885-4631-a437-99ef1a62be27",
   "metadata": {},
   "source": [
    "Are `bit_patten_dictionary` and `bit_patten_dictionary_short` the same? Let's check this using [the @assert macro](https://docs.julialang.org/en/v1/base/base/#Base.@assert), where we compare each element of the dictionaries using the `==` operator"
   ]
  },
  {
   "cell_type": "code",
   "execution_count": 146,
   "id": "3be24051-559b-480f-8bdb-e30314c8e9c7",
   "metadata": {},
   "outputs": [],
   "source": [
    "for i ∈ eachindex(bit_pattern_array\n",
    "    @assert bit_patten_dictionary_short[i-1] == bit_patten_dictionary[i-1]\n",
    "end"
   ]
  },
  {
   "cell_type": "markdown",
   "id": "212d75f5-c97b-4507-b507-07efaa5e3292",
   "metadata": {},
   "source": [
    "Okay, so enough showing off. Let's compute the `base b` sum using the values in the `bit_patten_dictionary` variable. In this code block, we demonstrate a couple of cool concepts.\n",
    "* The [`range(...)` method](https://docs.julialang.org/en/v1/base/math/#Base.range) computes a range of values, and we turn that into a collection of items that we can iterate over using [the `collect(...)` method](https://docs.julialang.org/en/v1/base/collections/#Base.collect-Tuple{Type,%20Any}). However, what is [the `|>` operator](https://docs.julialang.org/en/v1/manual/functions/#Function-composition-and-piping) doing? The [`|>`  is the Julia pipe operator](https://docs.julialang.org/en/v1/manual/functions/#Function-composition-and-piping); it passes the output of one function into another function, i.e., `output |> input.`\n",
    "* We use [Julia the `|>` operator](https://docs.julialang.org/en/v1/manual/functions/#Function-composition-and-piping) __everywhere, all the time__, so check out the documentation and get more familiar with this trick."
   ]
  },
  {
   "cell_type": "code",
   "execution_count": 174,
   "id": "0ebd1749-b85c-4a49-b861-379d90767175",
   "metadata": {},
   "outputs": [],
   "source": [
    "sum_value = 0;\n",
    "word = range(0,63,step=1) |> collect; # hmmm: this seems a little strange, what is |>??\n",
    "base = 8;\n",
    "for k ∈ word # what that what??\n",
    "    aₖ = bit_patten_dictionary[k]\n",
    "    sum_value += aₖ*(base^k)\n",
    "end\n",
    "@assert sum_value == 74 # check"
   ]
  },
  {
   "cell_type": "markdown",
   "id": "79b0298e-bec5-42c1-8d7a-b75b940f8056",
   "metadata": {},
   "source": [
    "## Example 3: The bit pattern of `Bool` variables\n",
    "Show that bit pattern for a variable of [type `Bool,`](https://docs.julialang.org/en/v1/base/numbers/#Core.Bool) i.e., $x\\in\\mathbb{B}$ where $\\mathbb{B}=$`{true, false}` is an `8-bit` integer that evaluates to either `0` = `false` or `1` = `true`"
   ]
  },
  {
   "cell_type": "markdown",
   "id": "7c17143e-ea7f-47ca-9adc-0df6cca665fd",
   "metadata": {},
   "source": [
    "### Solution \n",
    "A [`Bool` number](https://docs.julialang.org/en/v1/base/numbers/#Core.Bool) is a `base 10` value (that evaluates to either `0` or `1`), but the memory used to hold a [`Bool` value](https://docs.julialang.org/en/v1/base/numbers/#Core.Bool) is only `1`$\\times$`byte` or `8-bits`. Let's first use [the `bitstring(...)` method](https://docs.julialang.org/en/v1/base/numbers/#Base.bitstring) on a [`Bool` value](https://docs.julialang.org/en/v1/base/numbers/#Core.Bool) to see this. Define a [`Bool` variable](https://docs.julialang.org/en/v1/base/numbers/#Core.Bool) called `test_bool_variable`:"
   ]
  },
  {
   "cell_type": "code",
   "execution_count": 181,
   "id": "02c14fd8-4940-4b17-b4dc-2ec7eabe5dec",
   "metadata": {},
   "outputs": [],
   "source": [
    "test_bool_variable = false;"
   ]
  },
  {
   "cell_type": "markdown",
   "id": "e9110c25-52a8-49f0-a9ff-9c167c697419",
   "metadata": {},
   "source": [
    "Now, let's call [the `bitstring(...)` method](https://docs.julialang.org/en/v1/base/numbers/#Base.bitstring) on `test_bool_variable`, which returns the bit pattern as a [`String` type](https://docs.julialang.org/en/v1/manual/strings/#man-strings):"
   ]
  },
  {
   "cell_type": "code",
   "execution_count": 23,
   "id": "5ffd7f1e-30a2-472a-9cb5-9fb5aa441944",
   "metadata": {},
   "outputs": [
    {
     "data": {
      "text/plain": [
       "\"00000000\""
      ]
     },
     "execution_count": 23,
     "metadata": {},
     "output_type": "execute_result"
    }
   ],
   "source": [
    "bitstring(test_bool_variable)"
   ]
  },
  {
   "cell_type": "markdown",
   "id": "15e5d5c5-dc5c-4da6-aec6-3cbd08c2c468",
   "metadata": {},
   "source": [
    "The `test_bool_variable` variable is `8-bits`, but does it evaluate to `true` = `1` or `false` = `0`? Let's check this condition by using the `base b` number representation, i.e., let's create an `8-bit` string and then compute its value. The [`bitstring(...)` method](https://docs.julialang.org/en/v1/base/numbers/#Base.bitstring) returns [a `String,`](https://docs.julialang.org/en/v1/manual/strings/#man-strings) but we need numerical data types to compute. Toward this issue:\n",
    "* First, we'll use [the `digits(...)` method](https://docs.julialang.org/en/v1/base/numbers/#Base.digits) to build an array of values, save these values in the `bool_bit_pattern_array::Array{Int64,1}` variable"
   ]
  },
  {
   "cell_type": "code",
   "execution_count": 25,
   "id": "ab7c2df3-3e89-4047-a14d-103967e330f6",
   "metadata": {},
   "outputs": [
    {
     "data": {
      "text/plain": [
       "8-element Vector{Int64}:\n",
       " 0\n",
       " 0\n",
       " 0\n",
       " 0\n",
       " 0\n",
       " 0\n",
       " 0\n",
       " 0"
      ]
     },
     "execution_count": 25,
     "metadata": {},
     "output_type": "execute_result"
    }
   ],
   "source": [
    "bool_bit_pattern_array = digits(0, base=10, pad=8) # what are these arguments saying?"
   ]
  },
  {
   "cell_type": "markdown",
   "id": "1b0a40e9-b6b5-4927-a56d-8df81548eb05",
   "metadata": {},
   "source": [
    "Next, convert `bool_bit_pattern_array` array to a `0-based` dictionary like before. We'll save the bit pattern in the `bool_bit_patten_dictionary::Dict{Int64, Int64}` dictionary."
   ]
  },
  {
   "cell_type": "code",
   "execution_count": 26,
   "id": "7e0f41da-167f-462a-9f65-0ef32734715c",
   "metadata": {},
   "outputs": [
    {
     "data": {
      "text/plain": [
       "Dict{Int64, Int64} with 8 entries:\n",
       "  0 => 0\n",
       "  4 => 0\n",
       "  5 => 0\n",
       "  6 => 0\n",
       "  2 => 0\n",
       "  7 => 0\n",
       "  3 => 0\n",
       "  1 => 0"
      ]
     },
     "execution_count": 26,
     "metadata": {},
     "output_type": "execute_result"
    }
   ],
   "source": [
    "bool_bit_patten_dictionary = Dict{Int64,Int64}(); # what are we doing here?\n",
    "for i ∈ eachindex(bool_bit_pattern_array)\n",
    "    bool_bit_patten_dictionary[i-1] = bool_bit_pattern_array[i] # what are we doing here?\n",
    "end\n",
    "bool_bit_patten_dictionary # what is going on here?"
   ]
  },
  {
   "cell_type": "markdown",
   "id": "17c2ac72-a858-4819-8790-f0385f069614",
   "metadata": {},
   "source": [
    "Next, iterate over the values in the dictionary and show they sum to `0` for `false` or `1` for `true.` Compute the `base b` sum using the values in the `bit_patten_dictionary` variable:"
   ]
  },
  {
   "cell_type": "code",
   "execution_count": 186,
   "id": "6b4b4ff0-316a-4c46-baed-7e7869c5f788",
   "metadata": {},
   "outputs": [
    {
     "data": {
      "text/plain": [
       "0"
      ]
     },
     "execution_count": 186,
     "metadata": {},
     "output_type": "execute_result"
    }
   ],
   "source": [
    "sum_value = 0;\n",
    "word = range(0,7,step=1) |> x-> collect(x) # hmmm: this seems a little strange. \n",
    "base = 10;\n",
    "for k ∈ word\n",
    "    sum_value += bool_bit_patten_dictionary[k]*(base^k)\n",
    "end\n",
    "sum_value"
   ]
  }
 ],
 "metadata": {
  "kernelspec": {
   "display_name": "Julia 1.10.4",
   "language": "julia",
   "name": "julia-1.10"
  },
  "language_info": {
   "file_extension": ".jl",
   "mimetype": "application/julia",
   "name": "julia",
   "version": "1.10.4"
  }
 },
 "nbformat": 4,
 "nbformat_minor": 5
}
