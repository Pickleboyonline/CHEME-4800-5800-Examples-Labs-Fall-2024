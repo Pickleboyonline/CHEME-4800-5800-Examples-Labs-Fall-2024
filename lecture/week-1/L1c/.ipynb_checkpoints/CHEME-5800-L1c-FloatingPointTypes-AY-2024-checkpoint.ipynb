{
 "cells": [
  {
   "cell_type": "markdown",
   "id": "fba06ba5-0585-4f6f-849e-3721cb406cb0",
   "metadata": {},
   "source": [
    "# Example: Memory Representation of Floating Point Numbers\n",
    "This example will familiarize students with the memory layout of floating point numbers. Floating point numbers $x\\in\\mathbb{R}$ are stored using 4$\\times$bytes (single-precision) or 8$\\times$bytes (double-precision)\n",
    "following the [IEEE-754 standard](https://en.wikipedia.org/wiki/IEEE_754). \n",
    "The components of number $x\\in\\mathbb{R}$ are encoded in different segments of the`32-bit` or `64-bit` word, e.g., for a `64-bit` Float:\n",
    "\\begin{equation*}\n",
    "x = -1^{S}\\times{M}\\times{2}^{(E-1023)}\n",
    "\\end{equation*}\n",
    "where $S$ denotes the sign bit, $M$ denotes the mantissa (fraction) and $E$ denotes the exponent.\n",
    "* For a `32-bit` floating point number, $S$ is bit 31 denoted by $a_{31}$, $M$ is encoded in bits $a_0\\rightarrow{a_{22}}$ and $E$ is encoded by bits $a_{23}\\rightarrow{a_{30}}$.\n",
    "* For a `64-bit` floating point number, the sign bit $S$ is $a_{63}$, the mantissa $M$ is the number encoded by bits $a_0\\rightarrow{a_{51}}$, and the exponent $E$ is encoded by bits $a_{52}\\rightarrow{a_{62}}$."
   ]
  },
  {
   "cell_type": "markdown",
   "id": "fec02a9a-b39a-4bb8-8243-11841727fa4a",
   "metadata": {
    "jp-MarkdownHeadingCollapsed": true
   },
   "source": [
    "## Task 1: Compute the bit pattern for a Floating point number\n",
    "Let's specify a `64-bit` floating point number in the variable `floating_point_nunber_example` and then reconstruct that number from the bit pattern:"
   ]
  },
  {
   "cell_type": "code",
   "execution_count": 3,
   "id": "ccbd03bd-4081-463c-8509-23ae8a87967e",
   "metadata": {},
   "outputs": [],
   "source": [
    "floating_point_nunber_example = 2.311898736;"
   ]
  },
  {
   "cell_type": "markdown",
   "id": "7a088698-bd32-49d5-8d38-2043899ad12d",
   "metadata": {},
   "source": [
    "We know we can get the bit pattern by calling [the `bitstring(...)` method](https://docs.julialang.org/en/v1/base/numbers/#Base.bitstring), but the wrinkle is that [`bitstring(...)`](https://docs.julialang.org/en/v1/base/numbers/#Base.bitstring) returns the bit pattern as [a `String` type](https://docs.julialang.org/en/v1/manual/strings/#man-strings). We'll have to convert [the `String`](https://docs.julialang.org/en/v1/manual/strings/#man-strings) to an array of `0` and `1`, but more later."
   ]
  },
  {
   "cell_type": "code",
   "execution_count": 5,
   "id": "fa2d28dc-4c66-405c-a86f-4d68a12068b4",
   "metadata": {},
   "outputs": [
    {
     "data": {
      "text/plain": [
       "\"0100000000000010011111101100010011000011101101100100010100011000\""
      ]
     },
     "execution_count": 5,
     "metadata": {},
     "output_type": "execute_result"
    }
   ],
   "source": [
    "bitstring(floating_point_nunber_example)"
   ]
  },
  {
   "cell_type": "markdown",
   "id": "7e729d09-d59d-491f-840b-3b5dd7728d4c",
   "metadata": {},
   "source": [
    "To understand where to go from here, we need a few things. The following logic contains a few advanced things, e.g., working with arrays and [`String` and `Char` types](https://docs.julialang.org/en/v1/manual/strings/#man-strings), function [piping `|>`](https://docs.julialang.org/en/v1/manual/functions/#Function-composition-and-piping), etc; don't worry too much about these now:\n",
    "* We can convert a string into an array, i.e., an ordered list of [`Char` types](https://docs.julialang.org/en/v1/manual/strings/#man-characters) using the [`collect(...)` method](https://docs.julialang.org/en/v1/base/collections/#Base.collect-Tuple{Type,%20Any}). If we have the [`Char`](https://docs.julialang.org/en/v1/manual/strings/#man-characters) version of `1` or `0`, we can then try to convert it into an `Int` using the [`parse(...)` method](https://docs.julialang.org/en/v1/base/numbers/#Base.parse) in Julia.\n",
    "* _Aside_: in older languages such as `C,` strings were natively represented as arrays of characters; in fact, there was no formal string class in `C.` However, newer languages that include [Unicode character sets](https://en.wikipedia.org/wiki/Unicode) have dedicated [`String` types](https://docs.julialang.org/en/v1/manual/strings/#man-strings) that are more complex. \n",
    "* We daisy chain together commands, i.e., `cmd_1 |> cmd_2` where the output of `cmd_1` is the input into `cmd_2` using the [Julia `|>` piping operator](https://docs.julialang.org/en/v1/manual/functions/#Function-composition-and-piping)"
   ]
  },
  {
   "cell_type": "code",
   "execution_count": 7,
   "id": "f8fce82c-f778-4429-b6b4-e7d1999f9be5",
   "metadata": {},
   "outputs": [
    {
     "data": {
      "text/plain": [
       "64-element Vector{Int64}:\n",
       " 0\n",
       " 0\n",
       " 0\n",
       " 1\n",
       " 1\n",
       " 0\n",
       " 0\n",
       " 0\n",
       " 1\n",
       " 0\n",
       " 1\n",
       " 0\n",
       " 0\n",
       " ⋮\n",
       " 0\n",
       " 0\n",
       " 0\n",
       " 0\n",
       " 0\n",
       " 0\n",
       " 0\n",
       " 0\n",
       " 0\n",
       " 0\n",
       " 1\n",
       " 0"
      ]
     },
     "execution_count": 7,
     "metadata": {},
     "output_type": "execute_result"
    }
   ],
   "source": [
    "bit_pattern_array = bitstring(floating_point_nunber_example) |> collect |> reverse .|> x-> parse(Int,x)"
   ]
  },
  {
   "cell_type": "markdown",
   "id": "3a31b3de-d3f6-4fb4-96c3-41fa4c0c4c1e",
   "metadata": {},
   "source": [
    "`Hack`: fix the `1`-based array issue by copying the `bit_pattern_array` into a dictionary (which we can make `0`-based), called `bit_patten_dictionary::Dict{Int64,Int64}`:"
   ]
  },
  {
   "cell_type": "code",
   "execution_count": 9,
   "id": "b6069b0d-9840-4014-9f9c-1f929f45f7fc",
   "metadata": {},
   "outputs": [],
   "source": [
    "bit_patten_dictionary = Dict{Int64,Int64}(); # what are we doing here?\n",
    "for i ∈ eachindex(bit_pattern_array)\n",
    "    bit_patten_dictionary[i-1] = bit_pattern_array[i] # what are we doing here?\n",
    "end\n",
    "bit_patten_dictionary; # what is going on here?"
   ]
  },
  {
   "cell_type": "markdown",
   "id": "57fb5b3d-053a-4919-bfde-5505f8cf08d3",
   "metadata": {},
   "source": [
    "### Why can't we use the digits method?\n",
    "We have previously used [the `digits(...)` method](https://docs.julialang.org/en/v1/base/numbers/#Base.digits) to produce the bit pattern for [Integer numbers](https://docs.julialang.org/en/v1/manual/integers-and-floating-point-numbers/#Integers), can we do the same for [Floating point numbers](https://docs.julialang.org/en/v1/manual/integers-and-floating-point-numbers/#Floating-Point-Numbers)?"
   ]
  },
  {
   "cell_type": "code",
   "execution_count": 11,
   "id": "93b491d0-b52d-41eb-a477-c122893b6283",
   "metadata": {},
   "outputs": [
    {
     "ename": "LoadError",
     "evalue": "MethodError: no method matching digits(::Float64; base::Int64, pad::Int64)\n\n\u001b[0mClosest candidates are:\n\u001b[0m  digits(\u001b[91m::Type{<:Integer}\u001b[39m, \u001b[91m::Integer\u001b[39m; base, pad)\n\u001b[0m\u001b[90m   @\u001b[39m \u001b[90mBase\u001b[39m \u001b[90m\u001b[4mintfuncs.jl:977\u001b[24m\u001b[39m\n\u001b[0m  digits(\u001b[91m::Integer\u001b[39m; base, pad)\n\u001b[0m\u001b[90m   @\u001b[39m \u001b[90mBase\u001b[39m \u001b[90m\u001b[4mintfuncs.jl:974\u001b[24m\u001b[39m\n",
     "output_type": "error",
     "traceback": [
      "MethodError: no method matching digits(::Float64; base::Int64, pad::Int64)\n\n\u001b[0mClosest candidates are:\n\u001b[0m  digits(\u001b[91m::Type{<:Integer}\u001b[39m, \u001b[91m::Integer\u001b[39m; base, pad)\n\u001b[0m\u001b[90m   @\u001b[39m \u001b[90mBase\u001b[39m \u001b[90m\u001b[4mintfuncs.jl:977\u001b[24m\u001b[39m\n\u001b[0m  digits(\u001b[91m::Integer\u001b[39m; base, pad)\n\u001b[0m\u001b[90m   @\u001b[39m \u001b[90mBase\u001b[39m \u001b[90m\u001b[4mintfuncs.jl:974\u001b[24m\u001b[39m\n",
      "",
      "Stacktrace:",
      " [1] top-level scope",
      "   @ In[11]:1"
     ]
    }
   ],
   "source": [
    "digits(floating_point_nunber_example, base=10, pad=64) # try to compute pattern for floating_point_nunber_example"
   ]
  },
  {
   "cell_type": "markdown",
   "id": "5d98f7b8-2c6f-43a2-b4b2-6f48eba7305c",
   "metadata": {
    "jp-MarkdownHeadingCollapsed": true
   },
   "source": [
    "## Task 2: Compute the sign bit `S`\n",
    "The `sign` bit for a `64-bit` number is in position `63`, i.e., $a_{63}$. Let's look up that value in the `bit_patten_dictionary` and set it equal to the variable `S.` \n",
    "* We need to compute the sign manually because of the weirdness about zero exponents on negative numbers; store this value in the `sign` variable. The default value `sign = 1` (positive). However, if the `sign` bit is `1`, i.e., $a_{63} = 1$, we set `sign = -1` (negative)."
   ]
  },
  {
   "cell_type": "code",
   "execution_count": 60,
   "id": "5ef5b747-59d8-466c-971c-51e7b10bc4ad",
   "metadata": {},
   "outputs": [
    {
     "name": "stdout",
     "output_type": "stream",
     "text": [
      "The sign bit equals sign = 1\n"
     ]
    }
   ],
   "source": [
    "sign = 1;\n",
    "S = bit_patten_dictionary[63]\n",
    "if (S == 1)\n",
    "    sign = -1;\n",
    "end\n",
    "println(\"The sign bit equals sign = $(sign)\") # what?"
   ]
  },
  {
   "cell_type": "markdown",
   "id": "ea816a60-1a9f-4ca7-8011-d0914f48bbd4",
   "metadata": {
    "jp-MarkdownHeadingCollapsed": true
   },
   "source": [
    "## Task 3: Compute the Mantissa `M`\n",
    "For a `64-bit` floating point number, the mantissa `M` is stored in bits `0` $\\rightarrow$ `51`. However, we run the sum from `1` $\\rightarrow$ `52` because of numbering weirdness. Let's create a collection holding this range and store it in the `mantissa_bit_range::Array{Int64,1}` variable"
   ]
  },
  {
   "cell_type": "code",
   "execution_count": 39,
   "id": "fee17f71-cfef-41ee-a8b2-dca5ef5afd51",
   "metadata": {},
   "outputs": [
    {
     "data": {
      "text/plain": [
       "52-element Vector{Int64}:\n",
       "  1\n",
       "  2\n",
       "  3\n",
       "  4\n",
       "  5\n",
       "  6\n",
       "  7\n",
       "  8\n",
       "  9\n",
       " 10\n",
       " 11\n",
       " 12\n",
       " 13\n",
       "  ⋮\n",
       " 41\n",
       " 42\n",
       " 43\n",
       " 44\n",
       " 45\n",
       " 46\n",
       " 47\n",
       " 48\n",
       " 49\n",
       " 50\n",
       " 51\n",
       " 52"
      ]
     },
     "execution_count": 39,
     "metadata": {},
     "output_type": "execute_result"
    }
   ],
   "source": [
    "mantissa_bit_range = range(1,stop=52,step = 1) |> collect"
   ]
  },
  {
   "cell_type": "markdown",
   "id": "a7a53987-a532-4309-a7e9-015b256f203d",
   "metadata": {},
   "source": [
    "Implement the expression from the notes to compute the mantissa `M.` For a `64-bit` word size, the `M` expression is given by:\n",
    "\\begin{equation*}\n",
    "M = \\left(1+\\sum_{i=1}^{52}a_{52-i}\\cdot{2}^{-i}\\right)\n",
    "\\end{equation*}\n",
    "Iterate over each index of the `mantissa_bit_range` collection using [the `eachindex(...)` method](https://docs.julialang.org/en/v1/base/arrays/#Base.eachindex), access the value from the `mantissa_bit_range` and store it in the variable `i`, access the $a_{\\star}$ value from the `bit_patten_dictionary` and store it in the `bₖ` variable, and then sequentially compute the `M` value.\n",
    "* __Wait__: What happened to the `+1` value? In the implementation below, we don't have a `+1` leading term. Check out [the documentation on Mathematical operators to see what is going on with the `+=` operation](https://docs.julialang.org/en/v1/manual/mathematical-operations/#Mathematical-Operations-and-Elementary-Functions)."
   ]
  },
  {
   "cell_type": "code",
   "execution_count": 89,
   "id": "ae134c03-d4dd-4217-adbf-c3a4107d62d9",
   "metadata": {},
   "outputs": [
    {
     "name": "stdout",
     "output_type": "stream",
     "text": [
      "The Mantissa M = 1.155949368\n"
     ]
    }
   ],
   "source": [
    "M = 1.0;\n",
    "base = 2.0;\n",
    "for k ∈ eachindex(mantissa_bit_range)\n",
    "    i = mantissa_bit_range[k]\n",
    "    aₖ = bit_patten_dictionary[52-i]\n",
    "    M += aₖ*(base^(-i))\n",
    "end\n",
    "println(\"The Mantissa M = $(M)\")"
   ]
  },
  {
   "cell_type": "markdown",
   "id": "2244026e-0182-47ac-bccb-47c8a3a09f28",
   "metadata": {
    "jp-MarkdownHeadingCollapsed": true
   },
   "source": [
    "## Task 4: Compute the exponent `E`\n",
    "For a `64-bit` floating point number, the exponent `E` is stored in bits `52` $\\rightarrow$ `62`. Let's create a collection holding this range and store it in the `exponent_bit_range::Array{Int64,1}` variable using [the `range(...)` method](https://docs.julialang.org/en/v1/base/math/#Base.range) in combination with [the `collect(...)` method](https://docs.julialang.org/en/v1/base/collections/#Base.collect-Tuple{Type,%20Any})."
   ]
  },
  {
   "cell_type": "code",
   "execution_count": 65,
   "id": "182b5d1d-dac0-46e1-8f0f-b746bfaf0afa",
   "metadata": {},
   "outputs": [
    {
     "data": {
      "text/plain": [
       "11-element Vector{Int64}:\n",
       " 52\n",
       " 53\n",
       " 54\n",
       " 55\n",
       " 56\n",
       " 57\n",
       " 58\n",
       " 59\n",
       " 60\n",
       " 61\n",
       " 62"
      ]
     },
     "execution_count": 65,
     "metadata": {},
     "output_type": "execute_result"
    }
   ],
   "source": [
    "exponent_bit_range = range(52,stop=62, step = 1) |> collect"
   ]
  },
  {
   "cell_type": "markdown",
   "id": "0e82bb03-4265-4b3e-8c4c-2ca617ff24c8",
   "metadata": {},
   "source": [
    "Now, let's write some code to compute the exponent `E.` The exponent `E` is the `base 10` realization of the binary number $(a_{62},\\dots,a_{52})_{2}$. Thus, we compute this number assuming `base = 2`, where we access the bit values from the `bit_patten_dictionary` dictionary (save these in the `bₖ` variable).\n",
    "* Why $\\text{base}^{k-1}$? The `exponent_bit_range` is `1`-based, so we need to subtract `1` to make it `0`-based."
   ]
  },
  {
   "cell_type": "code",
   "execution_count": 81,
   "id": "05487370-3881-4f94-95df-6a70c6e5a44f",
   "metadata": {},
   "outputs": [
    {
     "name": "stdout",
     "output_type": "stream",
     "text": [
      "The exponent E = 1024.0\n"
     ]
    }
   ],
   "source": [
    "E = 0.0\n",
    "base = 2;\n",
    "for k ∈ eachindex(exponent_bit_range)   \n",
    "    index = exponent_bit_range[k]\n",
    "    aₖ = bit_patten_dictionary[index]    \n",
    "    E += aₖ*(base^(k-1))\n",
    "end\n",
    "println(\"The exponent E = $(E)\")"
   ]
  },
  {
   "cell_type": "markdown",
   "id": "bb093f51-a89a-4509-8fcc-aec9fd92870b",
   "metadata": {
    "jp-MarkdownHeadingCollapsed": true
   },
   "source": [
    "## Task 5: Putting everything together\n",
    "Finally, now that we have computed the `S,` `M,` and `E` components, let's combine them and see if we recover the original value specified in the `floating_point_nunber_example` variable."
   ]
  },
  {
   "cell_type": "code",
   "execution_count": 22,
   "id": "8e39234c-b043-45f4-a464-c63a71851442",
   "metadata": {},
   "outputs": [
    {
     "data": {
      "text/plain": [
       "2.311898736"
      ]
     },
     "execution_count": 22,
     "metadata": {},
     "output_type": "execute_result"
    }
   ],
   "source": [
    "x = (sign)*M*(2^(E - 1023))"
   ]
  },
  {
   "cell_type": "markdown",
   "id": "e34a69c1-bdde-4055-a83e-74f245b4f3ab",
   "metadata": {},
   "source": [
    "Use the [Julia @assert macro](https://docs.julialang.org/en/v1/base/base/#Base.@assert) in combination with [the `isapprox (...)` method](https://docs.julialang.org/en/v1/base/math/#Base.isapprox) to test the equality of the original floating point number and our reconstructed version of that number.\n",
    "* Why `isapprox`? The [`isapprox(...)` method](https://docs.julialang.org/en/v1/base/math/#Base.isapprox) encodes an inexact equality comparison, i.e., we can start to think about the precision of a floating point number and compare the values at different levels of precision using either the absolute tolerance (specified by the `atol` keyword argument) or the relative tolerance (defined by the `rtol` keyword argument). "
   ]
  },
  {
   "cell_type": "code",
   "execution_count": 106,
   "id": "981cb535-7151-4861-9dac-bc8576a8dce5",
   "metadata": {},
   "outputs": [],
   "source": [
    "@assert isapprox(x, floating_point_nunber_example, atol=1e-12)"
   ]
  }
 ],
 "metadata": {
  "kernelspec": {
   "display_name": "Julia 1.10.4",
   "language": "julia",
   "name": "julia-1.10"
  },
  "language_info": {
   "file_extension": ".jl",
   "mimetype": "application/julia",
   "name": "julia",
   "version": "1.10.4"
  }
 },
 "nbformat": 4,
 "nbformat_minor": 5
}
