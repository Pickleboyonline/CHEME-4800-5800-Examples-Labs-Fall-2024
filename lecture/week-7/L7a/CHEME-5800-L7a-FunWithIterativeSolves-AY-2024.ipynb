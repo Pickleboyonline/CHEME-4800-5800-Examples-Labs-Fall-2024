{
 "cells": [
  {
   "cell_type": "markdown",
   "id": "50726f35-078f-437d-b497-b3c4b2d3012f",
   "metadata": {},
   "source": [
    "# Example: Iterative Linear Algebraic Equation (LAEs) Solvers\n",
    "This example will familiarize students with developing and using iterative solvers for systems of Linear Algebraic Equations (LAEs). We'll consider two iterative solvers: the [Jacobi](https://en.wikipedia.org/wiki/Jacobi_method) and [Gauss-Siedel](https://en.wikipedia.org/wiki/Gauss%E2%80%93Seidel_method) methods\n",
    "\n",
    "* [Jacobi's method](https://en.wikipedia.org/wiki/Jacobi_method) updates the estimated solution for all variables at the same time. Let the estimate of the value of $x_{i}$ at iteration $k$ be $\\hat{x}_{i,k}$. Then, the solution at the next iteration $\\hat{x}_{i,k+1}$ is given by:\n",
    "$$\n",
    "\\begin{equation*}\n",
    "\\hat{x}_{i,k+1}=\\frac{1}{a_{ii}}\\bigl(b_{i}-\\sum_{j=1,i}^{n}a_{ij}\\hat{x}_{j,k}\\bigr)\\qquad{i=1,2,\\cdots,n}\n",
    "\\end{equation*}\n",
    "$$\n",
    "* The [Gauss-Seidel method](https://en.wikipedia.org/wiki/Gauss%E2%80%93Seidel_method) updates the best estimate of $\\hat{x}_{i}$ while processing equations $i=1,\\cdots,n$. Let the estimate for variable $i$ at iteration $k$ be $\\hat{x}_{i,k}$. Then, the solution at the next iteration $\\hat{x}_{i,k+1}$ is given by:\n",
    "$$\n",
    "\\begin{equation*}\n",
    "\\hat{x}_{i,k+1}=\\frac{1}{a_{ii}}\\bigl(b_{i}-\\sum_{j=1}^{i-1}a_{ij}\\hat{x}_{j,k+1}-\\sum_{j=i+1}^{n}a_{ij}\\hat{x}_{j,k}\\bigr)\\qquad{i=1,2,\\cdots,n}\n",
    "\\end{equation*}\n",
    "$$\n",
    "\n",
    "### Learning objectives\n",
    "* __Task 1__: Random Diagonally Dominate $\\mathbf{A}$ and right-hand-side vector $\\mathbf{b}$. In this task, we'll generate a random system matrix $\\mathbf{A}$ that is diagonally dominant and a random right-hand side vector $\\mathbf{b}$\n",
    "* __Task 2__: Solve the LAEs using the  Jacobi and the Gauss-Seidel methods. In this task, we'll solve our system of random linear algebraic equations using the [Jacobi](https://en.wikipedia.org/wiki/Jacobi_method) and [Gauss-Siedel](https://en.wikipedia.org/wiki/Gauss%E2%80%93Seidel_method) methods\n",
    "* __Task 3__: In this task, we'll compare the runtime performance of the different iterative approaches against the Gaussian elimination method implemented by the LinearAlgebra.jl package included with Julia using the BenchmarkTools.jl package"
   ]
  },
  {
   "cell_type": "markdown",
   "id": "33455b60-e7f7-4fcd-a59d-ddf236df05bd",
   "metadata": {},
   "source": [
    "## Setup\n",
    "This example may use external third-party packages. In [the `Include.jl` file](Include.jl), we load our codes to access them in the notebook, set some required paths for this example, and load any required external packages."
   ]
  },
  {
   "cell_type": "code",
   "execution_count": 3,
   "id": "f8c8f9d0-b66b-45b6-8132-c18cb49828eb",
   "metadata": {},
   "outputs": [
    {
     "name": "stderr",
     "output_type": "stream",
     "text": [
      "\u001b[32m\u001b[1m  Activating\u001b[22m\u001b[39m project at `~/Desktop/julia_work/CHEME-4800-5800-Examples-Fall-2024/lecture/week-7/L7a`\n",
      "\u001b[32m\u001b[1m  No Changes\u001b[22m\u001b[39m to `~/Desktop/julia_work/CHEME-4800-5800-Examples-Fall-2024/lecture/week-7/L7a/Project.toml`\n",
      "\u001b[32m\u001b[1m  No Changes\u001b[22m\u001b[39m to `~/Desktop/julia_work/CHEME-4800-5800-Examples-Fall-2024/lecture/week-7/L7a/Manifest.toml`\n",
      "\u001b[32m\u001b[1m    Updating\u001b[22m\u001b[39m registry at `~/.julia/registries/General.toml`\n",
      "\u001b[32m\u001b[1m  No Changes\u001b[22m\u001b[39m to `~/Desktop/julia_work/CHEME-4800-5800-Examples-Fall-2024/lecture/week-7/L7a/Project.toml`\n",
      "\u001b[32m\u001b[1m  No Changes\u001b[22m\u001b[39m to `~/Desktop/julia_work/CHEME-4800-5800-Examples-Fall-2024/lecture/week-7/L7a/Manifest.toml`\n"
     ]
    }
   ],
   "source": [
    "include(\"Include.jl\");"
   ]
  },
  {
   "cell_type": "markdown",
   "id": "241d7122-43e8-4164-88f0-0b9fd3f86e52",
   "metadata": {},
   "source": [
    "### Task 1: Random Diagonally Dominate $\\mathbf{A}$ and right-hand-side vector $\\mathbf{b}$\n",
    "In this task, we'll generate a random system matrix $\\mathbf{A}$ that is diagonally dominant and a random right-hand side vector $\\mathbf{b}$. Diagonal dominance is a sufficient (but not necessary) condition for the convergence of an iterative method. A diagonally dominate system matrix $\\mathbf{A}$ has the feature:\n",
    "$$\n",
    "\\begin{equation*}\n",
    "\\sum_{j=1,i}^{n}\\lvert{a_{ij}}\\rvert<\\lvert{a_{ii}}\\rvert\\qquad\\forall{i}\n",
    "\\end{equation*}\n",
    "$$\n",
    "\n",
    "* Diagonal dominance is a matrix property where the absolute value of the diagonal element of each row is greater than or equal to the sum of the absolute values of the other elements in that row.\n",
    "A matrix that satisfies this property is said to be diagonally dominant.\n",
    "* Diagonal dominance is a sufficient (but not necessary) condition for convergence. \n",
    "However, this condition says nothing above the rate of convergence.\n",
    "\n",
    "Let's start by specifying how many rows we have in the _square_ system matrix $\\mathbf{A}$ in the `number_of_rows::Int64` variable:"
   ]
  },
  {
   "cell_type": "code",
   "execution_count": 5,
   "id": "495cd085-7693-4643-97b2-5f1e9fc35711",
   "metadata": {},
   "outputs": [],
   "source": [
    "number_of_rows = 5000;"
   ]
  },
  {
   "cell_type": "markdown",
   "id": "e3bb55f6-8e10-49b3-8dcc-f13797dde3c5",
   "metadata": {},
   "source": [
    "Then generate a $n\\times{n}$ random system matrix $\\mathbf{A}$ and a $n\\times{1}$ random vector $\\mathbf{b}$, [using the `randn(...)` method](https://docs.julialang.org/en/v1/stdlib/Random/#Base.randn). We add some extra to the diagonal elements of the test system matrix $\\mathbf{A}$ to ensure diagonal dominance."
   ]
  },
  {
   "cell_type": "code",
   "execution_count": 7,
   "id": "f0521846-3bb0-4289-8ed7-591b42d40b68",
   "metadata": {},
   "outputs": [],
   "source": [
    "A = randn(number_of_rows, number_of_rows) .+ 10*(number_of_rows)*diagm(rand(number_of_rows));\n",
    "b = randn(number_of_rows);"
   ]
  },
  {
   "cell_type": "code",
   "execution_count": 8,
   "id": "ee93ed51-5374-4abd-bbb0-e73c5111e7ef",
   "metadata": {},
   "outputs": [
    {
     "data": {
      "text/plain": [
       "5000×5000 Matrix{Float64}:\n",
       " 1800.78          -0.580079       1.1726    …    -0.82357         1.23923\n",
       "    1.71814    38064.3           -1.2547          1.23272         1.12559\n",
       "    2.06745        0.675289   38084.3             1.4233         -1.18796\n",
       "   -0.0298352     -1.95492       -1.09746        -1.27442         0.329921\n",
       "    1.69487        0.499851       0.215997       -0.0858058       0.66427\n",
       "    1.20407        0.56518        0.375227  …     0.856029        0.335293\n",
       "   -0.308721       0.723846       1.31072        -0.168072        0.513132\n",
       "    0.298434       1.22813       -0.314731        1.77329         0.676428\n",
       "    1.64475       -1.81837        1.2778          0.00101372      1.65647\n",
       "    1.41252       -1.03642        2.25244         0.597802       -1.39221\n",
       "   -0.194539      -0.9836        -1.04602   …     0.975321        0.0311234\n",
       "   -0.132746       0.0478798      0.603676        0.201996       -1.50507\n",
       "   -2.29082        1.97035        0.446483       -1.1156         -0.640303\n",
       "    ⋮                                       ⋱                 \n",
       "   -0.0683403     -0.504847       0.387844       -0.86594         0.815514\n",
       "   -0.156317      -0.0419439     -0.321168       -2.44374        -1.54228\n",
       "   -0.192658       1.63617        0.298432  …    -0.0738431       0.0183153\n",
       "    0.148267      -0.204976       0.315246        2.56343         0.456052\n",
       "    0.476283       0.163429      -0.162673        0.730782        1.46558\n",
       "   -0.295514       1.09816       -0.906303       -2.46368         1.43983\n",
       "    0.267982       1.9023        -0.536276        0.199224        0.310892\n",
       "   -1.74557        0.31226        0.204209  …    -0.337742        0.940204\n",
       "   -1.36547       -0.0464028      0.271797       -0.360191       -0.514127\n",
       "    0.816705      -0.0551098     -0.624905       -2.77125         0.375632\n",
       "   -0.710024       1.16745        0.823886     6793.83            1.1446\n",
       "   -0.184656       0.620538       0.161133        1.76806     35833.0"
      ]
     },
     "execution_count": 8,
     "metadata": {},
     "output_type": "execute_result"
    }
   ],
   "source": [
    "A"
   ]
  },
  {
   "cell_type": "markdown",
   "id": "e7bd7254-5db6-4d4a-b481-a107b0cb765f",
   "metadata": {},
   "source": [
    "### Check: Is the system matrix $\\mathbf{A}$ strictly diagonally dominant?\n",
    "Before we continue to the solvers, let's verify the randomly generated system matrix $\\mathbf{A}$ is actually diagonally dominant. We check every row of the matrix $\\mathbf{A}$ and store the result of each test in the `ddcondition::Dict{Int64, Bool}` variable."
   ]
  },
  {
   "cell_type": "code",
   "execution_count": 10,
   "id": "b7d91ec2-8076-4918-98fc-334435463c7b",
   "metadata": {},
   "outputs": [],
   "source": [
    "ddcondition = Dict{Int64,Bool}()\n",
    "for i ∈ 1:number_of_rows\n",
    "    aii = abs(A[i,i]);\n",
    "    σ = 0.0;\n",
    "    for j ∈ 1:number_of_rows\n",
    "        if (i ≠ j)\n",
    "            σ += abs(A[i,j]);\n",
    "        end\n",
    "    end\n",
    "    ddcondition[i] = (aii > σ) ? true : false;\n",
    "end"
   ]
  },
  {
   "cell_type": "markdown",
   "id": "7d913286-4ed9-4b1d-9aac-1d18f431e6fd",
   "metadata": {},
   "source": [
    "If any of the entries of the `ddcondition::Dict{Int64, Bool}` are `false`, then we fail this test:"
   ]
  },
  {
   "cell_type": "code",
   "execution_count": 12,
   "id": "1b8657fc-4e81-46cf-a406-f3ef22e6ae87",
   "metadata": {},
   "outputs": [
    {
     "data": {
      "text/plain": [
       "false"
      ]
     },
     "execution_count": 12,
     "metadata": {},
     "output_type": "execute_result"
    }
   ],
   "source": [
    "(findall(x-> x == 0, ddcondition) |> isempty) == true"
   ]
  },
  {
   "cell_type": "markdown",
   "id": "b1b7243b-529d-4fa8-a7f9-62a1cb92bfd4",
   "metadata": {},
   "source": [
    "## Task 2: Solve the LAEs using the  Jacobi and the Gauss-Seidel methods\n",
    "In this task, we'll solve our system of random linear algebraic equations using the [Jacobi](https://en.wikipedia.org/wiki/Jacobi_method) and [Gauss-Siedel](https://en.wikipedia.org/wiki/Gauss%E2%80%93Seidel_method) methods. First, we set an overall error criteria (stopping condition), a maximum number of iterations that we are allowed, and an initial solution guess."
   ]
  },
  {
   "cell_type": "code",
   "execution_count": 14,
   "id": "19b73c38-5adf-4e22-af05-708fcea6e3e3",
   "metadata": {},
   "outputs": [],
   "source": [
    "xₒ = rand(number_of_rows); # initial condition\n",
    "maxiterations = 100;\n",
    "ϵ = 1e-6;"
   ]
  },
  {
   "cell_type": "markdown",
   "id": "8c3cc06d-27db-4cfa-81b3-f39ba99ff5ec",
   "metadata": {},
   "source": [
    "### Jacobi\n",
    "We call [the `solve(...)` method](src/Solvers.jl) with the appropriate data, including the solver type we wish to use, which in this case is [the Jacobi method](https://en.wikipedia.org/wiki/Jacobi_method). We indicate this choice by passing [a `MyJacobiMethod` instance](src/Types.jl) to the solve routine."
   ]
  },
  {
   "cell_type": "code",
   "execution_count": 16,
   "id": "e4921e98-adb9-430a-bfda-db0c1c9418fe",
   "metadata": {},
   "outputs": [
    {
     "data": {
      "text/plain": [
       "Dict{Int64, Vector{Float64}} with 14 entries:\n",
       "  5  => [-9.79737e-5, 2.75247e-5, -3.60475e-5, -6.59125e-5, 6.52995e-5, -0.0003…\n",
       "  12 => [-0.000132096, 2.73379e-5, -3.66729e-5, -6.46698e-5, 6.65817e-5, -0.000…\n",
       "  8  => [-0.000131999, 2.73384e-5, -3.66699e-5, -6.46739e-5, 6.65776e-5, -0.000…\n",
       "  1  => [-0.0260736, 0.000995201, 0.000998382, 0.00191133, -8.84239e-5, 0.00621…\n",
       "  0  => [0.970427, 0.976511, 0.942971, 0.55362, 0.108358, 0.386573, 0.631567, 0…\n",
       "  6  => [-0.000126347, 2.72316e-5, -3.65475e-5, -6.46306e-5, 6.67855e-5, -0.000…\n",
       "  11 => [-0.000132096, 2.73379e-5, -3.66729e-5, -6.46699e-5, 6.65817e-5, -0.000…\n",
       "  9  => [-0.000132075, 2.73377e-5, -3.66724e-5, -6.46701e-5, 6.65819e-5, -0.000…\n",
       "  3  => [0.00115209, 1.49431e-5, 2.56223e-5, -7.42999e-5, 8.32552e-5, -0.000149…\n",
       "  7  => [-0.000131876, 2.73351e-5, -3.66526e-5, -6.46812e-5, 6.65796e-5, -0.000…\n",
       "  4  => [-0.000133775, 2.73997e-5, -3.25692e-5, -6.57937e-5, 6.64564e-5, -0.000…\n",
       "  13 => [-0.000132096, 2.73379e-5, -3.66729e-5, -6.46698e-5, 6.65817e-5, -0.000…\n",
       "  2  => [0.0085771, 0.000142252, 0.000198687, -0.00031059, -0.000286511, 0.0021…\n",
       "  10 => [-0.000132094, 2.73378e-5, -3.66728e-5, -6.46699e-5, 6.65818e-5, -0.000…"
      ]
     },
     "execution_count": 16,
     "metadata": {},
     "output_type": "execute_result"
    }
   ],
   "source": [
    "dJM = solve(A,b,xₒ, ϵ = ϵ, maxiterations = maxiterations, algorithm = MyJacobiMethod())"
   ]
  },
  {
   "cell_type": "markdown",
   "id": "b11df9c0-142a-440c-8b67-0940ca16b023",
   "metadata": {},
   "source": [
    "#### Check: Did we meet the error condition for Jacobi?\n",
    "Let's check if the [the Jacobi method](https://en.wikipedia.org/wiki/Jacobi_method) met the desired error criteria. In this case, we'll check the _maxium error at the last iteration_. We compute the error for each equation and then find the worst case. If this worst-case error is smaller than our error tolerance, we pass the test:"
   ]
  },
  {
   "cell_type": "code",
   "execution_count": 18,
   "id": "65c03e29-ad9c-4adf-94ad-4293e7991c18",
   "metadata": {},
   "outputs": [],
   "source": [
    "error = A*dJM[maximum(keys(dJM))] - b\n",
    "@assert maximum(error) < ϵ"
   ]
  },
  {
   "cell_type": "markdown",
   "id": "e6ccaf9e-3530-494b-9479-dee23563421b",
   "metadata": {},
   "source": [
    "### Gauss-Seidel method\n",
    "Similar to above, we call [the `solve(...)` method](src/Solvers.jl) with the appropriate data, including the solver type we wish to use, which in this case is [the Gauss-Siedel method](https://en.wikipedia.org/wiki/Gauss%E2%80%93Seidel_method). We indicate this choice by passing [a `MyGaussSeidelMethod` instance](src/Types.jl) to the solve routine."
   ]
  },
  {
   "cell_type": "code",
   "execution_count": 20,
   "id": "d5cf31fa-fd07-4696-810b-de0bcdb3f64f",
   "metadata": {},
   "outputs": [
    {
     "data": {
      "text/plain": [
       "Dict{Int64, Vector{Float64}} with 10 entries:\n",
       "  0 => [0.970427, 0.976511, 0.942971, 0.55362, 0.108358, 0.386573, 0.631567, 0.…\n",
       "  4 => [-0.000174487, 3.01922e-5, -3.44988e-5, -6.77501e-5, 6.19732e-5, -0.0003…\n",
       "  5 => [-0.000131023, 2.72599e-5, -3.66386e-5, -6.45585e-5, 6.66811e-5, -0.0003…\n",
       "  6 => [-0.000132154, 2.73443e-5, -3.66712e-5, -6.46789e-5, 6.65683e-5, -0.0003…\n",
       "  2 => [0.00723384, -3.65074e-5, 0.000174751, -4.7829e-5, 2.97289e-5, 0.0011265…\n",
       "  7 => [-0.000132091, 2.73375e-5, -3.66729e-5, -6.46694e-5, 6.65823e-5, -0.0003…\n",
       "  9 => [-0.000132096, 2.73379e-5, -3.66729e-5, -6.46698e-5, 6.65817e-5, -0.0003…\n",
       "  8 => [-0.000132096, 2.73379e-5, -3.66729e-5, -6.46699e-5, 6.65817e-5, -0.0003…\n",
       "  3 => [-0.000219896, 3.11189e-5, -6.66539e-6, -7.90624e-5, 8.52451e-5, -0.0004…\n",
       "  1 => [-0.0260736, 0.00104018, 0.00106977, 0.00173386, 3.88981e-5, 0.00662074,…"
      ]
     },
     "execution_count": 20,
     "metadata": {},
     "output_type": "execute_result"
    }
   ],
   "source": [
    "dGSM = solve(A,b,xₒ, ϵ = ϵ, maxiterations = maxiterations, algorithm = MyGaussSeidelMethod())"
   ]
  },
  {
   "cell_type": "markdown",
   "id": "6deef891-9b29-41ae-ba06-ec0e44cba13a",
   "metadata": {},
   "source": [
    "#### Check: Did we meet the error condition for Gauss-Seidel?\n",
    "Let's check if the [the Gauss-Siedel method](https://en.wikipedia.org/wiki/Gauss%E2%80%93Seidel_method) met the desired error criteria. In this case, we'll check the _maxium error at the last iteration_. We compute the error for each equation and then find the worst case. If this worst-case error is smaller than our error tolerance, we pass the test:"
   ]
  },
  {
   "cell_type": "code",
   "execution_count": 22,
   "id": "7cd692f7-2128-4967-add8-b8e5015e860e",
   "metadata": {},
   "outputs": [],
   "source": [
    "error = A*dGSM[maximum(keys(dGSM))] - b\n",
    "@assert maximum(error) < ϵ"
   ]
  },
  {
   "cell_type": "markdown",
   "id": "c4283e1f-aa48-4ee1-a138-eae70c30838d",
   "metadata": {},
   "source": [
    "## Task 3: How well do these algorithms scale?\n",
    "In this task, we'll compare the runtime performance of the different iterative approaches against [the Gaussian elimination method](https://en.wikipedia.org/wiki/Gaussian_elimination) implemented by the [LinearAlgebra.jl package included with Julia](https://docs.julialang.org/en/v1/stdlib/LinearAlgebra/#man-linalg) using [the BenchmarkTools.jl package](https://github.com/JuliaCI/BenchmarkTools.jl). We expect, in general [that the Gaussian elimination method](https://en.wikipedia.org/wiki/Gaussian_elimination) should be faster than the two iterative methods. "
   ]
  },
  {
   "cell_type": "markdown",
   "id": "8a9d7f4e-4885-477b-8a5d-33081e2062e5",
   "metadata": {},
   "source": [
    "#### Jacobi"
   ]
  },
  {
   "cell_type": "code",
   "execution_count": 25,
   "id": "ea3f9981-ee30-4dc1-a05f-42707794471f",
   "metadata": {},
   "outputs": [
    {
     "data": {
      "text/plain": [
       "BenchmarkTools.Trial: 4 samples with 1 evaluation.\n",
       " Range \u001b[90m(\u001b[39m\u001b[36m\u001b[1mmin\u001b[22m\u001b[39m … \u001b[35mmax\u001b[39m\u001b[90m):  \u001b[39m\u001b[36m\u001b[1m1.357 s\u001b[22m\u001b[39m … \u001b[35m  1.384 s\u001b[39m  \u001b[90m┊\u001b[39m GC \u001b[90m(\u001b[39mmin … max\u001b[90m): \u001b[39m0.00% … 0.00%\n",
       " Time  \u001b[90m(\u001b[39m\u001b[34m\u001b[1mmedian\u001b[22m\u001b[39m\u001b[90m):     \u001b[39m\u001b[34m\u001b[1m1.362 s              \u001b[22m\u001b[39m\u001b[90m┊\u001b[39m GC \u001b[90m(\u001b[39mmedian\u001b[90m):    \u001b[39m0.00%\n",
       " Time  \u001b[90m(\u001b[39m\u001b[32m\u001b[1mmean\u001b[22m\u001b[39m ± \u001b[32mσ\u001b[39m\u001b[90m):   \u001b[39m\u001b[32m\u001b[1m1.366 s\u001b[22m\u001b[39m ± \u001b[32m12.731 ms\u001b[39m  \u001b[90m┊\u001b[39m GC \u001b[90m(\u001b[39mmean ± σ\u001b[90m):  \u001b[39m0.00% ± 0.00%\n",
       "\n",
       "  \u001b[39m█\u001b[34m \u001b[39m\u001b[39m \u001b[39m \u001b[39m \u001b[39m \u001b[39m \u001b[39m \u001b[39m \u001b[39m \u001b[39m \u001b[39m \u001b[39m \u001b[39m \u001b[39m \u001b[39m \u001b[39m \u001b[39m \u001b[39m \u001b[32m▁\u001b[39m\u001b[39m \u001b[39m \u001b[39m \u001b[39m \u001b[39m \u001b[39m \u001b[39m \u001b[39m \u001b[39m \u001b[39m \u001b[39m \u001b[39m \u001b[39m \u001b[39m \u001b[39m \u001b[39m \u001b[39m \u001b[39m \u001b[39m \u001b[39m \u001b[39m \u001b[39m \u001b[39m \u001b[39m \u001b[39m \u001b[39m \u001b[39m \u001b[39m \u001b[39m \u001b[39m \u001b[39m \u001b[39m \u001b[39m \u001b[39m \u001b[39m \u001b[39m \u001b[39m▁\u001b[39m \u001b[39m \n",
       "  \u001b[39m█\u001b[34m▁\u001b[39m\u001b[39m▁\u001b[39m▁\u001b[39m▁\u001b[39m▁\u001b[39m▁\u001b[39m▁\u001b[39m▁\u001b[39m▁\u001b[39m▁\u001b[39m▁\u001b[39m▁\u001b[39m▁\u001b[39m▁\u001b[39m▁\u001b[39m▁\u001b[39m▁\u001b[39m▁\u001b[32m█\u001b[39m\u001b[39m▁\u001b[39m▁\u001b[39m▁\u001b[39m▁\u001b[39m▁\u001b[39m▁\u001b[39m▁\u001b[39m▁\u001b[39m▁\u001b[39m▁\u001b[39m▁\u001b[39m▁\u001b[39m▁\u001b[39m▁\u001b[39m▁\u001b[39m▁\u001b[39m▁\u001b[39m▁\u001b[39m▁\u001b[39m▁\u001b[39m▁\u001b[39m▁\u001b[39m▁\u001b[39m▁\u001b[39m▁\u001b[39m▁\u001b[39m▁\u001b[39m▁\u001b[39m▁\u001b[39m▁\u001b[39m▁\u001b[39m▁\u001b[39m▁\u001b[39m▁\u001b[39m▁\u001b[39m▁\u001b[39m█\u001b[39m \u001b[39m▁\n",
       "  1.36 s\u001b[90m         Histogram: frequency by time\u001b[39m        1.38 s \u001b[0m\u001b[1m<\u001b[22m\n",
       "\n",
       " Memory estimate\u001b[90m: \u001b[39m\u001b[33m2.03 MiB\u001b[39m, allocs estimate\u001b[90m: \u001b[39m\u001b[33m113\u001b[39m."
      ]
     },
     "execution_count": 25,
     "metadata": {},
     "output_type": "execute_result"
    }
   ],
   "source": [
    "let\n",
    "    @benchmark solve(A,b,xₒ, ϵ = 1e-6, maxiterations = 100, algorithm = MyJacobiMethod()) setup=(A=$A,b=$b,xₒ=$xₒ)\n",
    "end"
   ]
  },
  {
   "cell_type": "markdown",
   "id": "30985d6b-48ba-424a-84d7-9992c72631f5",
   "metadata": {},
   "source": [
    "#### Gauss-Seidel"
   ]
  },
  {
   "cell_type": "code",
   "execution_count": 27,
   "id": "6be85d7f-80f8-4fb6-a1b9-5644a4a56eca",
   "metadata": {},
   "outputs": [
    {
     "data": {
      "text/plain": [
       "BenchmarkTools.Trial: 5 samples with 1 evaluation.\n",
       " Range \u001b[90m(\u001b[39m\u001b[36m\u001b[1mmin\u001b[22m\u001b[39m … \u001b[35mmax\u001b[39m\u001b[90m):  \u001b[39m\u001b[36m\u001b[1m992.094 ms\u001b[22m\u001b[39m … \u001b[35m 1.015 s\u001b[39m  \u001b[90m┊\u001b[39m GC \u001b[90m(\u001b[39mmin … max\u001b[90m): \u001b[39m0.00% … 0.00%\n",
       " Time  \u001b[90m(\u001b[39m\u001b[34m\u001b[1mmedian\u001b[22m\u001b[39m\u001b[90m):     \u001b[39m\u001b[34m\u001b[1m999.574 ms             \u001b[22m\u001b[39m\u001b[90m┊\u001b[39m GC \u001b[90m(\u001b[39mmedian\u001b[90m):    \u001b[39m0.00%\n",
       " Time  \u001b[90m(\u001b[39m\u001b[32m\u001b[1mmean\u001b[22m\u001b[39m ± \u001b[32mσ\u001b[39m\u001b[90m):   \u001b[39m\u001b[32m\u001b[1m   1.002 s\u001b[22m\u001b[39m ± \u001b[32m9.131 ms\u001b[39m  \u001b[90m┊\u001b[39m GC \u001b[90m(\u001b[39mmean ± σ\u001b[90m):  \u001b[39m0.00% ± 0.00%\n",
       "\n",
       "  \u001b[39m█\u001b[39m \u001b[39m \u001b[39m \u001b[39m \u001b[39m \u001b[39m \u001b[39m \u001b[39m \u001b[39m \u001b[34m█\u001b[39m\u001b[39m \u001b[39m \u001b[39m \u001b[39m \u001b[39m \u001b[39m \u001b[39m \u001b[39m \u001b[39m█\u001b[39m \u001b[39m \u001b[39m \u001b[39m \u001b[39m \u001b[39m \u001b[32m \u001b[39m\u001b[39m \u001b[39m \u001b[39m \u001b[39m \u001b[39m \u001b[39m \u001b[39m \u001b[39m \u001b[39m \u001b[39m \u001b[39m \u001b[39m \u001b[39m \u001b[39m█\u001b[39m \u001b[39m \u001b[39m \u001b[39m \u001b[39m \u001b[39m \u001b[39m \u001b[39m \u001b[39m \u001b[39m \u001b[39m \u001b[39m \u001b[39m \u001b[39m \u001b[39m \u001b[39m \u001b[39m \u001b[39m█\u001b[39m \u001b[39m \n",
       "  \u001b[39m█\u001b[39m▁\u001b[39m▁\u001b[39m▁\u001b[39m▁\u001b[39m▁\u001b[39m▁\u001b[39m▁\u001b[39m▁\u001b[39m▁\u001b[34m█\u001b[39m\u001b[39m▁\u001b[39m▁\u001b[39m▁\u001b[39m▁\u001b[39m▁\u001b[39m▁\u001b[39m▁\u001b[39m▁\u001b[39m█\u001b[39m▁\u001b[39m▁\u001b[39m▁\u001b[39m▁\u001b[39m▁\u001b[39m▁\u001b[32m▁\u001b[39m\u001b[39m▁\u001b[39m▁\u001b[39m▁\u001b[39m▁\u001b[39m▁\u001b[39m▁\u001b[39m▁\u001b[39m▁\u001b[39m▁\u001b[39m▁\u001b[39m▁\u001b[39m▁\u001b[39m▁\u001b[39m█\u001b[39m▁\u001b[39m▁\u001b[39m▁\u001b[39m▁\u001b[39m▁\u001b[39m▁\u001b[39m▁\u001b[39m▁\u001b[39m▁\u001b[39m▁\u001b[39m▁\u001b[39m▁\u001b[39m▁\u001b[39m▁\u001b[39m▁\u001b[39m▁\u001b[39m▁\u001b[39m█\u001b[39m \u001b[39m▁\n",
       "  992 ms\u001b[90m          Histogram: frequency by time\u001b[39m         1.01 s \u001b[0m\u001b[1m<\u001b[22m\n",
       "\n",
       " Memory estimate\u001b[90m: \u001b[39m\u001b[33m1.07 MiB\u001b[39m, allocs estimate\u001b[90m: \u001b[39m\u001b[33m60\u001b[39m."
      ]
     },
     "execution_count": 27,
     "metadata": {},
     "output_type": "execute_result"
    }
   ],
   "source": [
    "let\n",
    "    @benchmark solve(A,b,xₒ, ϵ = 1e-6, maxiterations = 100, algorithm = MyGaussSeidelMethod()) setup=(A=$A,b=$b,xₒ=$xₒ)\n",
    "end"
   ]
  },
  {
   "cell_type": "markdown",
   "id": "740caeda-db3c-4787-9e9e-97342fc36458",
   "metadata": {},
   "source": [
    "#### Gaussian elimination"
   ]
  },
  {
   "cell_type": "code",
   "execution_count": 29,
   "id": "5832f464-fd3a-48e1-bbe7-3146f16d621d",
   "metadata": {},
   "outputs": [
    {
     "data": {
      "text/plain": [
       "BenchmarkTools.Trial: 16 samples with 1 evaluation.\n",
       " Range \u001b[90m(\u001b[39m\u001b[36m\u001b[1mmin\u001b[22m\u001b[39m … \u001b[35mmax\u001b[39m\u001b[90m):  \u001b[39m\u001b[36m\u001b[1m294.852 ms\u001b[22m\u001b[39m … \u001b[35m362.553 ms\u001b[39m  \u001b[90m┊\u001b[39m GC \u001b[90m(\u001b[39mmin … max\u001b[90m): \u001b[39m0.00% … 13.13%\n",
       " Time  \u001b[90m(\u001b[39m\u001b[34m\u001b[1mmedian\u001b[22m\u001b[39m\u001b[90m):     \u001b[39m\u001b[34m\u001b[1m312.079 ms               \u001b[22m\u001b[39m\u001b[90m┊\u001b[39m GC \u001b[90m(\u001b[39mmedian\u001b[90m):    \u001b[39m0.49%\n",
       " Time  \u001b[90m(\u001b[39m\u001b[32m\u001b[1mmean\u001b[22m\u001b[39m ± \u001b[32mσ\u001b[39m\u001b[90m):   \u001b[39m\u001b[32m\u001b[1m314.573 ms\u001b[22m\u001b[39m ± \u001b[32m 14.946 ms\u001b[39m  \u001b[90m┊\u001b[39m GC \u001b[90m(\u001b[39mmean ± σ\u001b[90m):  \u001b[39m1.72% ±  3.21%\n",
       "\n",
       "  \u001b[39m▁\u001b[39m \u001b[39m▁\u001b[39m \u001b[39m \u001b[39m \u001b[39m \u001b[39m \u001b[39m \u001b[39m▁\u001b[39m \u001b[39m▁\u001b[39m█\u001b[39m \u001b[39m█\u001b[34m \u001b[39m\u001b[39m▁\u001b[39m \u001b[32m \u001b[39m\u001b[39m▁\u001b[39m█\u001b[39m▁\u001b[39m▁\u001b[39m \u001b[39m \u001b[39m▁\u001b[39m \u001b[39m \u001b[39m \u001b[39m \u001b[39m \u001b[39m \u001b[39m \u001b[39m \u001b[39m \u001b[39m \u001b[39m \u001b[39m \u001b[39m \u001b[39m \u001b[39m \u001b[39m \u001b[39m \u001b[39m \u001b[39m \u001b[39m \u001b[39m \u001b[39m \u001b[39m \u001b[39m \u001b[39m \u001b[39m \u001b[39m \u001b[39m \u001b[39m \u001b[39m \u001b[39m \u001b[39m \u001b[39m \u001b[39m \u001b[39m▁\u001b[39m \u001b[39m \n",
       "  \u001b[39m█\u001b[39m▁\u001b[39m█\u001b[39m▁\u001b[39m▁\u001b[39m▁\u001b[39m▁\u001b[39m▁\u001b[39m▁\u001b[39m█\u001b[39m▁\u001b[39m█\u001b[39m█\u001b[39m▁\u001b[39m█\u001b[34m▁\u001b[39m\u001b[39m█\u001b[39m▁\u001b[32m▁\u001b[39m\u001b[39m█\u001b[39m█\u001b[39m█\u001b[39m█\u001b[39m▁\u001b[39m▁\u001b[39m█\u001b[39m▁\u001b[39m▁\u001b[39m▁\u001b[39m▁\u001b[39m▁\u001b[39m▁\u001b[39m▁\u001b[39m▁\u001b[39m▁\u001b[39m▁\u001b[39m▁\u001b[39m▁\u001b[39m▁\u001b[39m▁\u001b[39m▁\u001b[39m▁\u001b[39m▁\u001b[39m▁\u001b[39m▁\u001b[39m▁\u001b[39m▁\u001b[39m▁\u001b[39m▁\u001b[39m▁\u001b[39m▁\u001b[39m▁\u001b[39m▁\u001b[39m▁\u001b[39m▁\u001b[39m▁\u001b[39m▁\u001b[39m▁\u001b[39m▁\u001b[39m▁\u001b[39m█\u001b[39m \u001b[39m▁\n",
       "  295 ms\u001b[90m           Histogram: frequency by time\u001b[39m          363 ms \u001b[0m\u001b[1m<\u001b[22m\n",
       "\n",
       " Memory estimate\u001b[90m: \u001b[39m\u001b[33m190.81 MiB\u001b[39m, allocs estimate\u001b[90m: \u001b[39m\u001b[33m6\u001b[39m."
      ]
     },
     "execution_count": 29,
     "metadata": {},
     "output_type": "execute_result"
    }
   ],
   "source": [
    "let\n",
    "    @benchmark solve(A,b,xₒ, ϵ = 1e-6, maxiterations = 100, algorithm = MyGaussianEliminationMethod()) setup=(A=$A,b=$b,xₒ=$xₒ)\n",
    "end"
   ]
  }
 ],
 "metadata": {
  "kernelspec": {
   "display_name": "Julia 1.10.5",
   "language": "julia",
   "name": "julia-1.10"
  },
  "language_info": {
   "file_extension": ".jl",
   "mimetype": "application/julia",
   "name": "julia",
   "version": "1.10.5"
  }
 },
 "nbformat": 4,
 "nbformat_minor": 5
}
