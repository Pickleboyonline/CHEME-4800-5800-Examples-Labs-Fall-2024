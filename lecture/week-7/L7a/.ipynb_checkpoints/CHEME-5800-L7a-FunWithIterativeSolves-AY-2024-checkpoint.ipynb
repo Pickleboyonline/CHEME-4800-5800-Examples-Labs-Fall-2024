{
 "cells": [
  {
   "cell_type": "markdown",
   "id": "50726f35-078f-437d-b497-b3c4b2d3012f",
   "metadata": {},
   "source": [
    "# Example: Iterative Linear Algebraic Equation (LAEs) Solvers\n",
    "This example will familiarize students with developing and using iterative solvers for systems of Linear Algebraic Equations (LAEs). We'll consider two iterative solvers: the [Jacobi](https://en.wikipedia.org/wiki/Jacobi_method) and [Gauss-Siedel](https://en.wikipedia.org/wiki/Gauss%E2%80%93Seidel_method) methods\n",
    "\n",
    "* [Jacobi's method](https://en.wikipedia.org/wiki/Jacobi_method) updates the estimated solution for all variables at the same time. Let the estimate of the value of $x_{i}$ at iteration $k$ be $\\hat{x}_{i,k}$. Then, the solution at the next iteration $\\hat{x}_{i,k+1}$ is given by:\n",
    "$$\n",
    "\\begin{equation*}\n",
    "\\hat{x}_{i,k+1}=\\frac{1}{a_{ii}}\\bigl(b_{i}-\\sum_{j=1,i}^{n}a_{ij}\\hat{x}_{j,k}\\bigr)\\qquad{i=1,2,\\cdots,n}\n",
    "\\end{equation*}\n",
    "$$\n",
    "* The [Gauss-Seidel method](https://en.wikipedia.org/wiki/Gauss%E2%80%93Seidel_method) updates the best estimate of $\\hat{x}_{i}$ while processing equations $i=1,\\cdots,n$. Let the estimate for variable $i$ at iteration $k$ be $\\hat{x}_{i,k}$. Then, the solution at the next iteration $\\hat{x}_{i,k+1}$ is given by:\n",
    "$$\n",
    "\\begin{equation*}\n",
    "\\hat{x}_{i,k+1}=\\frac{1}{a_{ii}}\\bigl(b_{i}-\\sum_{j=1}^{i-1}a_{ij}\\hat{x}_{j,k+1}-\\sum_{j=i+1}^{n}a_{ij}\\hat{x}_{j,k}\\bigr)\\qquad{i=1,2,\\cdots,n}\n",
    "\\end{equation*}\n",
    "$$\n",
    "\n",
    "### Learning objectives\n",
    "* __Task 1__: Random Diagonally Dominate $\\mathbf{A}$ and right-hand-side vector $\\mathbf{b}$. In this task, we'll generate a random system matrix $\\mathbf{A}$ that is diagonally dominant and a random right-hand side vector $\\mathbf{b}$\n",
    "* __Task 2__: Solve the LAEs using the  Jacobi and the Gauss-Seidel methods. In this task, we'll solve our system of random linear algebraic equations using the [Jacobi](https://en.wikipedia.org/wiki/Jacobi_method) and [Gauss-Siedel](https://en.wikipedia.org/wiki/Gauss%E2%80%93Seidel_method) methods\n",
    "* __Task 3__: In this task, we'll compare the runtime performance of the different iterative approaches against the Gaussian elimination method implemented by the LinearAlgebra.jl package included with Julia using the BenchmarkTools.jl package"
   ]
  },
  {
   "cell_type": "markdown",
   "id": "33455b60-e7f7-4fcd-a59d-ddf236df05bd",
   "metadata": {},
   "source": [
    "## Setup\n",
    "This example may use external third-party packages. In [the `Include.jl` file](Include.jl), we load our codes to access them in the notebook, set some required paths for this example, and load any required external packages."
   ]
  },
  {
   "cell_type": "code",
   "execution_count": 3,
   "id": "f8c8f9d0-b66b-45b6-8132-c18cb49828eb",
   "metadata": {},
   "outputs": [
    {
     "name": "stderr",
     "output_type": "stream",
     "text": [
      "\u001b[32m\u001b[1m  Activating\u001b[22m\u001b[39m project at `~/Desktop/julia_work/CHEME-4800-5800-Examples-Fall-2024/lecture/week-7/L7a`\n",
      "\u001b[32m\u001b[1m  No Changes\u001b[22m\u001b[39m to `~/Desktop/julia_work/CHEME-4800-5800-Examples-Fall-2024/lecture/week-7/L7a/Project.toml`\n",
      "\u001b[32m\u001b[1m  No Changes\u001b[22m\u001b[39m to `~/Desktop/julia_work/CHEME-4800-5800-Examples-Fall-2024/lecture/week-7/L7a/Manifest.toml`\n",
      "\u001b[32m\u001b[1m    Updating\u001b[22m\u001b[39m registry at `~/.julia/registries/General.toml`\n",
      "\u001b[32m\u001b[1m  No Changes\u001b[22m\u001b[39m to `~/Desktop/julia_work/CHEME-4800-5800-Examples-Fall-2024/lecture/week-7/L7a/Project.toml`\n",
      "\u001b[32m\u001b[1m  No Changes\u001b[22m\u001b[39m to `~/Desktop/julia_work/CHEME-4800-5800-Examples-Fall-2024/lecture/week-7/L7a/Manifest.toml`\n"
     ]
    }
   ],
   "source": [
    "include(\"Include.jl\");"
   ]
  },
  {
   "cell_type": "markdown",
   "id": "241d7122-43e8-4164-88f0-0b9fd3f86e52",
   "metadata": {},
   "source": [
    "### Task 1: Random Diagonally Dominate $\\mathbf{A}$ and right-hand-side vector $\\mathbf{b}$\n",
    "In this task, we'll generate a random system matrix $\\mathbf{A}$ that is diagonally dominant and a random right-hand side vector $\\mathbf{b}$. Diagonal dominance is a sufficient (but not necessary) condition for the convergence of an iterative method. A diagonally dominate system matrix $\\mathbf{A}$ has the feature:\n",
    "$$\n",
    "\\begin{equation*}\n",
    "\\sum_{j=1,i}^{n}\\lvert{a_{ij}}\\rvert<\\lvert{a_{ii}}\\rvert\\qquad\\forall{i}\n",
    "\\end{equation*}\n",
    "$$\n",
    "\n",
    "* Diagonal dominance is a matrix property where the absolute value of the diagonal element of each row is greater than or equal to the sum of the absolute values of the other elements in that row.\n",
    "A matrix that satisfies this property is said to be diagonally dominant.\n",
    "* Diagonal dominance is a sufficient (but not necessary) condition for convergence. \n",
    "However, this condition says nothing above the rate of convergence.\n",
    "\n",
    "Let's start by specifying how many rows we have in the _square_ system matrix $\\mathbf{A}$ in the `number_of_rows::Int64` variable:"
   ]
  },
  {
   "cell_type": "code",
   "execution_count": 5,
   "id": "495cd085-7693-4643-97b2-5f1e9fc35711",
   "metadata": {},
   "outputs": [],
   "source": [
    "number_of_rows = 5000;"
   ]
  },
  {
   "cell_type": "markdown",
   "id": "e3bb55f6-8e10-49b3-8dcc-f13797dde3c5",
   "metadata": {},
   "source": [
    "Then generate a $n\\times{n}$ random system matrix $\\mathbf{A}$ and a $n\\times{1}$ random vector $\\mathbf{b}$, [using the `randn(...)` method](https://docs.julialang.org/en/v1/stdlib/Random/#Base.randn). We add some extra to the diagonal elements of the test system matrix $\\mathbf{A}$ to ensure diagonal dominance."
   ]
  },
  {
   "cell_type": "code",
   "execution_count": 7,
   "id": "f0521846-3bb0-4289-8ed7-591b42d40b68",
   "metadata": {},
   "outputs": [],
   "source": [
    "A = randn(number_of_rows, number_of_rows) .+ 10*(number_of_rows)*diagm(rand(number_of_rows));\n",
    "b = randn(number_of_rows);"
   ]
  },
  {
   "cell_type": "code",
   "execution_count": 8,
   "id": "ee93ed51-5374-4abd-bbb0-e73c5111e7ef",
   "metadata": {},
   "outputs": [
    {
     "data": {
      "text/plain": [
       "5000×5000 Matrix{Float64}:\n",
       " 24877.4           -1.23692        0.29121    …     -0.0783251      0.0319248\n",
       "    -1.17067    31963.6            0.148463          1.04083       -0.289523\n",
       "     1.84314        0.964158   34528.2               0.733883       0.165201\n",
       "     1.09757       -0.828713      -1.62513          -0.0863846     -0.655511\n",
       "    -0.336371      -1.43681       -0.615674          1.16371       -0.233884\n",
       "     1.66643        0.490444      -0.964125   …     -1.40086       -0.526244\n",
       "    -0.760686      -0.0836007      0.888143          1.10601       -0.545177\n",
       "     1.60928        0.479189      -1.00491           0.383731       0.846152\n",
       "    -0.129733       1.38374       -0.220397          0.523212      -0.449456\n",
       "    -1.77307        2.90176        0.0935623         1.6678         0.841787\n",
       "    -0.132576      -1.88773        0.133993   …      0.694049       0.275796\n",
       "     0.153477      -1.30855        1.78692          -0.850957      -0.203889\n",
       "    -0.92109       -2.11822        0.594018          0.407581      -1.03643\n",
       "     ⋮                                        ⋱                 \n",
       "    -0.0447068      1.10432       -0.984922          0.137024      -0.454627\n",
       "     0.551257      -0.0709103     -0.686896         -2.47468       -1.15781\n",
       "     1.79182       -2.18108       -0.108364   …      0.633408       0.653436\n",
       "     1.22813       -1.50686       -1.9534           -1.13417       -0.70081\n",
       "    -0.605287       0.607184      -0.332196          0.104023       0.725216\n",
       "    -0.374667       0.187835      -1.30033           0.526904       0.922751\n",
       "     0.411158       0.604379       0.126489          0.515958       0.807428\n",
       "    -0.936501      -0.195805      -1.28835    …     -0.562966      -1.54839\n",
       "     1.15165        0.24521        1.09091          -2.20258       -0.538473\n",
       "    -1.23815        2.02202       -0.495227         -0.313558      -1.19677\n",
       "     2.01018       -0.240243      -0.772689      45248.4            0.349251\n",
       "     0.979461      -0.75097        0.884445          0.81232    41538.9"
      ]
     },
     "execution_count": 8,
     "metadata": {},
     "output_type": "execute_result"
    }
   ],
   "source": [
    "A"
   ]
  },
  {
   "cell_type": "markdown",
   "id": "e7bd7254-5db6-4d4a-b481-a107b0cb765f",
   "metadata": {},
   "source": [
    "### Check: Is the system matrix $\\mathbf{A}$ strictly diagonally dominant?\n",
    "Before we continue to the solvers, let's verify the randomly generated system matrix $\\mathbf{A}$ is actually diagonally dominant. We check every row of the matrix $\\mathbf{A}$ and store the result of each test in the `ddcondition::Dict{Int64, Bool}` variable."
   ]
  },
  {
   "cell_type": "code",
   "execution_count": 10,
   "id": "b7d91ec2-8076-4918-98fc-334435463c7b",
   "metadata": {},
   "outputs": [],
   "source": [
    "ddcondition = Dict{Int64,Bool}()\n",
    "for i ∈ 1:number_of_rows\n",
    "    aii = abs(A[i,i]);\n",
    "    σ = 0.0;\n",
    "    for j ∈ 1:number_of_rows\n",
    "        if (i ≠ j)\n",
    "            σ += abs(A[i,j]);\n",
    "        end\n",
    "    end\n",
    "    ddcondition[i] = (aii > σ) ? true : false;\n",
    "end"
   ]
  },
  {
   "cell_type": "markdown",
   "id": "7d913286-4ed9-4b1d-9aac-1d18f431e6fd",
   "metadata": {},
   "source": [
    "If any of the entries of the `ddcondition::Dict{Int64, Bool}` are `false`, then we fail this test:"
   ]
  },
  {
   "cell_type": "code",
   "execution_count": 12,
   "id": "1b8657fc-4e81-46cf-a406-f3ef22e6ae87",
   "metadata": {},
   "outputs": [
    {
     "data": {
      "text/plain": [
       "false"
      ]
     },
     "execution_count": 12,
     "metadata": {},
     "output_type": "execute_result"
    }
   ],
   "source": [
    "(findall(x-> x == 0, ddcondition) |> isempty) == true"
   ]
  },
  {
   "cell_type": "markdown",
   "id": "b1b7243b-529d-4fa8-a7f9-62a1cb92bfd4",
   "metadata": {},
   "source": [
    "## Task 2: Solve the LAEs using the  Jacobi and the Gauss-Seidel methods\n",
    "In this task, we'll solve our system of random linear algebraic equations using the [Jacobi](https://en.wikipedia.org/wiki/Jacobi_method) and [Gauss-Siedel](https://en.wikipedia.org/wiki/Gauss%E2%80%93Seidel_method) methods. First, we set an overall error criteria (stopping condition), a maximum number of iterations that we are allowed, and an initial solution guess."
   ]
  },
  {
   "cell_type": "code",
   "execution_count": 14,
   "id": "19b73c38-5adf-4e22-af05-708fcea6e3e3",
   "metadata": {},
   "outputs": [],
   "source": [
    "xₒ = rand(number_of_rows); # initial condition\n",
    "maxiterations = 100;\n",
    "ϵ = 1e-6;"
   ]
  },
  {
   "cell_type": "markdown",
   "id": "8c3cc06d-27db-4cfa-81b3-f39ba99ff5ec",
   "metadata": {},
   "source": [
    "### Jacobi\n",
    "We call [the `solve(...)` method](src/Solvers.jl) with the appropriate data, including the solver type we wish to use, which in this case is [the Jacobi method](https://en.wikipedia.org/wiki/Jacobi_method). We indicate this choice by passing [a `MyJacobiMethod` instance](src/Types.jl) to the solve routine."
   ]
  },
  {
   "cell_type": "code",
   "execution_count": 16,
   "id": "e4921e98-adb9-430a-bfda-db0c1c9418fe",
   "metadata": {},
   "outputs": [
    {
     "data": {
      "text/plain": [
       "Dict{Int64, Vector{Float64}} with 12 entries:\n",
       "  5  => [-3.62035e-5, -1.85552e-5, 5.89392e-5, -1.03793e-5, -1.84137e-5, 4.8433…\n",
       "  8  => [-3.6208e-5, -1.84088e-5, 5.89579e-5, -1.04884e-5, -1.84573e-5, 4.84945…\n",
       "  1  => [-0.000703225, 0.000139073, 0.000129635, -0.00134302, -0.00171552, -0.0…\n",
       "  0  => [0.319502, 0.609319, 0.223855, 0.128712, 0.189751, 0.169528, 0.0555595,…\n",
       "  6  => [-3.62012e-5, -1.83921e-5, 5.89686e-5, -1.04692e-5, -1.84615e-5, 4.8493…\n",
       "  11 => [-3.62079e-5, -1.84086e-5, 5.89579e-5, -1.04882e-5, -1.84581e-5, 4.8494…\n",
       "  9  => [-3.62079e-5, -1.84086e-5, 5.89579e-5, -1.04882e-5, -1.84581e-5, 4.8494…\n",
       "  3  => [1.09578e-5, -4.91236e-5, 4.81914e-5, -2.93489e-5, -8.72812e-5, -5.7997…\n",
       "  7  => [-3.62058e-5, -1.8407e-5, 5.89547e-5, -1.04897e-5, -1.84664e-5, 4.84972…\n",
       "  4  => [-3.84843e-5, -1.51789e-5, 6.10037e-5, -1.07521e-5, -1.49333e-5, 5.1693…\n",
       "  2  => [-9.49517e-5, -7.10126e-5, 5.64345e-5, -0.000255346, 0.000348108, 0.000…\n",
       "  10 => [-3.62079e-5, -1.84086e-5, 5.89579e-5, -1.04882e-5, -1.84581e-5, 4.8494…"
      ]
     },
     "execution_count": 16,
     "metadata": {},
     "output_type": "execute_result"
    }
   ],
   "source": [
    "dJM = solve(A,b,xₒ, ϵ = ϵ, maxiterations = maxiterations, algorithm = MyJacobiMethod())"
   ]
  },
  {
   "cell_type": "markdown",
   "id": "b11df9c0-142a-440c-8b67-0940ca16b023",
   "metadata": {},
   "source": [
    "#### Check: Did we meet the error condition for Jacobi?\n",
    "Let's check if the [the Jacobi method](https://en.wikipedia.org/wiki/Jacobi_method) met the desired error criteria. In this case, we'll check the _maxium error at the last iteration_. We compute the error for each equation and then find the worst case. If this worst-case error is smaller than our error tolerance, we pass the test:"
   ]
  },
  {
   "cell_type": "code",
   "execution_count": 18,
   "id": "65c03e29-ad9c-4adf-94ad-4293e7991c18",
   "metadata": {},
   "outputs": [],
   "source": [
    "error = A*dJM[maximum(keys(dJM))] - b\n",
    "@assert maximum(error) < ϵ"
   ]
  },
  {
   "cell_type": "markdown",
   "id": "e6ccaf9e-3530-494b-9479-dee23563421b",
   "metadata": {},
   "source": [
    "### Gauss-Seidel method\n",
    "Similar to above, we call [the `solve(...)` method](src/Solvers.jl) with the appropriate data, including the solver type we wish to use, which in this case is [the Gauss-Siedel method](https://en.wikipedia.org/wiki/Gauss%E2%80%93Seidel_method). We indicate this choice by passing [a `MyGaussSeidelMethod` instance](src/Types.jl) to the solve routine."
   ]
  },
  {
   "cell_type": "code",
   "execution_count": 20,
   "id": "d5cf31fa-fd07-4696-810b-de0bcdb3f64f",
   "metadata": {},
   "outputs": [
    {
     "data": {
      "text/plain": [
       "Dict{Int64, Vector{Float64}} with 9 entries:\n",
       "  0 => [0.319502, 0.609319, 0.223855, 0.128712, 0.189751, 0.169528, 0.0555595, …\n",
       "  4 => [-3.57954e-5, -1.87865e-5, 5.91465e-5, -1.04242e-5, -1.82358e-5, 4.76695…\n",
       "  5 => [-3.61985e-5, -1.84049e-5, 5.89636e-5, -1.04824e-5, -1.84365e-5, 4.84857…\n",
       "  6 => [-3.62072e-5, -1.84082e-5, 5.89575e-5, -1.04875e-5, -1.84595e-5, 4.84948…\n",
       "  2 => [-0.000218526, -7.43282e-5, 2.81591e-6, -0.000179436, 7.85241e-5, 0.0002…\n",
       "  7 => [-3.62079e-5, -1.84086e-5, 5.89578e-5, -1.04882e-5, -1.84581e-5, 4.84947…\n",
       "  8 => [-3.62079e-5, -1.84086e-5, 5.89579e-5, -1.04882e-5, -1.84581e-5, 4.84947…\n",
       "  3 => [-3.82239e-5, -2.04218e-5, 6.22426e-5, -1.29131e-5, -2.81758e-5, 4.76947…\n",
       "  1 => [-0.000703225, 0.000127345, 0.000163739, -0.00136237, -0.00179259, -0.00…"
      ]
     },
     "execution_count": 20,
     "metadata": {},
     "output_type": "execute_result"
    }
   ],
   "source": [
    "dGSM = solve(A,b,xₒ, ϵ = ϵ, maxiterations = maxiterations, algorithm = MyGaussSeidelMethod())"
   ]
  },
  {
   "cell_type": "markdown",
   "id": "6deef891-9b29-41ae-ba06-ec0e44cba13a",
   "metadata": {},
   "source": [
    "#### Check: Did we meet the error condition for Gauss-Seidel?\n",
    "Let's check if the [the Gauss-Siedel method](https://en.wikipedia.org/wiki/Gauss%E2%80%93Seidel_method) met the desired error criteria. In this case, we'll check the _maxium error at the last iteration_. We compute the error for each equation and then find the worst case. If this worst-case error is smaller than our error tolerance, we pass the test:"
   ]
  },
  {
   "cell_type": "code",
   "execution_count": 22,
   "id": "7cd692f7-2128-4967-add8-b8e5015e860e",
   "metadata": {},
   "outputs": [],
   "source": [
    "error = A*dGSM[maximum(keys(dGSM))] - b\n",
    "@assert maximum(error) < ϵ"
   ]
  },
  {
   "cell_type": "markdown",
   "id": "c4283e1f-aa48-4ee1-a138-eae70c30838d",
   "metadata": {},
   "source": [
    "## Task 3: How well do these algorithms scale?\n",
    "In this task, we'll compare the runtime performance of the different iterative approaches against [the Gaussian elimination method](https://en.wikipedia.org/wiki/Gaussian_elimination) implemented by the [LinearAlgebra.jl package included with Julia](https://docs.julialang.org/en/v1/stdlib/LinearAlgebra/#man-linalg) using [the BenchmarkTools.jl package](https://github.com/JuliaCI/BenchmarkTools.jl). We expect, in general [that the Gaussian elimination method](https://en.wikipedia.org/wiki/Gaussian_elimination) should be faster than the two iterative methods. "
   ]
  },
  {
   "cell_type": "markdown",
   "id": "8a9d7f4e-4885-477b-8a5d-33081e2062e5",
   "metadata": {},
   "source": [
    "#### Jacobi"
   ]
  },
  {
   "cell_type": "code",
   "execution_count": 25,
   "id": "ea3f9981-ee30-4dc1-a05f-42707794471f",
   "metadata": {},
   "outputs": [
    {
     "data": {
      "text/plain": [
       "BenchmarkTools.Trial: 5 samples with 1 evaluation.\n",
       " Range \u001b[90m(\u001b[39m\u001b[36m\u001b[1mmin\u001b[22m\u001b[39m … \u001b[35mmax\u001b[39m\u001b[90m):  \u001b[39m\u001b[36m\u001b[1m1.197 s\u001b[22m\u001b[39m … \u001b[35m 1.215 s\u001b[39m  \u001b[90m┊\u001b[39m GC \u001b[90m(\u001b[39mmin … max\u001b[90m): \u001b[39m0.00% … 0.00%\n",
       " Time  \u001b[90m(\u001b[39m\u001b[34m\u001b[1mmedian\u001b[22m\u001b[39m\u001b[90m):     \u001b[39m\u001b[34m\u001b[1m1.202 s             \u001b[22m\u001b[39m\u001b[90m┊\u001b[39m GC \u001b[90m(\u001b[39mmedian\u001b[90m):    \u001b[39m0.00%\n",
       " Time  \u001b[90m(\u001b[39m\u001b[32m\u001b[1mmean\u001b[22m\u001b[39m ± \u001b[32mσ\u001b[39m\u001b[90m):   \u001b[39m\u001b[32m\u001b[1m1.205 s\u001b[22m\u001b[39m ± \u001b[32m6.885 ms\u001b[39m  \u001b[90m┊\u001b[39m GC \u001b[90m(\u001b[39mmean ± σ\u001b[90m):  \u001b[39m0.00% ± 0.00%\n",
       "\n",
       "  \u001b[39m█\u001b[39m \u001b[39m \u001b[39m \u001b[39m \u001b[39m \u001b[39m \u001b[39m \u001b[39m \u001b[39m \u001b[39m \u001b[34m█\u001b[39m\u001b[39m \u001b[39m \u001b[39m \u001b[39m█\u001b[39m \u001b[39m \u001b[39m \u001b[39m \u001b[39m \u001b[39m \u001b[39m \u001b[32m \u001b[39m\u001b[39m \u001b[39m \u001b[39m \u001b[39m \u001b[39m \u001b[39m \u001b[39m \u001b[39m \u001b[39m█\u001b[39m \u001b[39m \u001b[39m \u001b[39m \u001b[39m \u001b[39m \u001b[39m \u001b[39m \u001b[39m \u001b[39m \u001b[39m \u001b[39m \u001b[39m \u001b[39m \u001b[39m \u001b[39m \u001b[39m \u001b[39m \u001b[39m \u001b[39m \u001b[39m \u001b[39m \u001b[39m█\u001b[39m \u001b[39m \n",
       "  \u001b[39m█\u001b[39m▁\u001b[39m▁\u001b[39m▁\u001b[39m▁\u001b[39m▁\u001b[39m▁\u001b[39m▁\u001b[39m▁\u001b[39m▁\u001b[39m▁\u001b[34m█\u001b[39m\u001b[39m▁\u001b[39m▁\u001b[39m▁\u001b[39m█\u001b[39m▁\u001b[39m▁\u001b[39m▁\u001b[39m▁\u001b[39m▁\u001b[39m▁\u001b[39m▁\u001b[32m▁\u001b[39m\u001b[39m▁\u001b[39m▁\u001b[39m▁\u001b[39m▁\u001b[39m▁\u001b[39m▁\u001b[39m▁\u001b[39m▁\u001b[39m█\u001b[39m▁\u001b[39m▁\u001b[39m▁\u001b[39m▁\u001b[39m▁\u001b[39m▁\u001b[39m▁\u001b[39m▁\u001b[39m▁\u001b[39m▁\u001b[39m▁\u001b[39m▁\u001b[39m▁\u001b[39m▁\u001b[39m▁\u001b[39m▁\u001b[39m▁\u001b[39m▁\u001b[39m▁\u001b[39m▁\u001b[39m▁\u001b[39m▁\u001b[39m█\u001b[39m \u001b[39m▁\n",
       "  1.2 s\u001b[90m         Histogram: frequency by time\u001b[39m        1.22 s \u001b[0m\u001b[1m<\u001b[22m\n",
       "\n",
       " Memory estimate\u001b[90m: \u001b[39m\u001b[33m1.72 MiB\u001b[39m, allocs estimate\u001b[90m: \u001b[39m\u001b[33m97\u001b[39m."
      ]
     },
     "execution_count": 25,
     "metadata": {},
     "output_type": "execute_result"
    }
   ],
   "source": [
    "let\n",
    "    @benchmark solve(A,b,xₒ, ϵ = 1e-6, maxiterations = 100, algorithm = MyJacobiMethod()) setup=(A=$A,b=$b,xₒ=$xₒ)\n",
    "end"
   ]
  },
  {
   "cell_type": "markdown",
   "id": "30985d6b-48ba-424a-84d7-9992c72631f5",
   "metadata": {},
   "source": [
    "#### Gauss-Seidel"
   ]
  },
  {
   "cell_type": "code",
   "execution_count": 27,
   "id": "6be85d7f-80f8-4fb6-a1b9-5644a4a56eca",
   "metadata": {},
   "outputs": [
    {
     "data": {
      "text/plain": [
       "BenchmarkTools.Trial: 6 samples with 1 evaluation.\n",
       " Range \u001b[90m(\u001b[39m\u001b[36m\u001b[1mmin\u001b[22m\u001b[39m … \u001b[35mmax\u001b[39m\u001b[90m):  \u001b[39m\u001b[36m\u001b[1m900.732 ms\u001b[22m\u001b[39m … \u001b[35m937.961 ms\u001b[39m  \u001b[90m┊\u001b[39m GC \u001b[90m(\u001b[39mmin … max\u001b[90m): \u001b[39m0.00% … 0.00%\n",
       " Time  \u001b[90m(\u001b[39m\u001b[34m\u001b[1mmedian\u001b[22m\u001b[39m\u001b[90m):     \u001b[39m\u001b[34m\u001b[1m911.434 ms               \u001b[22m\u001b[39m\u001b[90m┊\u001b[39m GC \u001b[90m(\u001b[39mmedian\u001b[90m):    \u001b[39m0.00%\n",
       " Time  \u001b[90m(\u001b[39m\u001b[32m\u001b[1mmean\u001b[22m\u001b[39m ± \u001b[32mσ\u001b[39m\u001b[90m):   \u001b[39m\u001b[32m\u001b[1m914.288 ms\u001b[22m\u001b[39m ± \u001b[32m 14.141 ms\u001b[39m  \u001b[90m┊\u001b[39m GC \u001b[90m(\u001b[39mmean ± σ\u001b[90m):  \u001b[39m0.00% ± 0.00%\n",
       "\n",
       "  \u001b[39m█\u001b[39m \u001b[39m█\u001b[39m \u001b[39m \u001b[39m \u001b[39m \u001b[39m \u001b[39m \u001b[39m \u001b[34m█\u001b[39m\u001b[39m \u001b[39m \u001b[39m \u001b[39m \u001b[39m \u001b[39m \u001b[39m \u001b[39m \u001b[39m \u001b[39m \u001b[39m \u001b[32m \u001b[39m\u001b[39m \u001b[39m█\u001b[39m \u001b[39m \u001b[39m \u001b[39m \u001b[39m \u001b[39m \u001b[39m \u001b[39m \u001b[39m \u001b[39m█\u001b[39m \u001b[39m \u001b[39m \u001b[39m \u001b[39m \u001b[39m \u001b[39m \u001b[39m \u001b[39m \u001b[39m \u001b[39m \u001b[39m \u001b[39m \u001b[39m \u001b[39m \u001b[39m \u001b[39m \u001b[39m \u001b[39m \u001b[39m \u001b[39m \u001b[39m \u001b[39m \u001b[39m \u001b[39m \u001b[39m█\u001b[39m \u001b[39m \n",
       "  \u001b[39m█\u001b[39m▁\u001b[39m█\u001b[39m▁\u001b[39m▁\u001b[39m▁\u001b[39m▁\u001b[39m▁\u001b[39m▁\u001b[39m▁\u001b[34m█\u001b[39m\u001b[39m▁\u001b[39m▁\u001b[39m▁\u001b[39m▁\u001b[39m▁\u001b[39m▁\u001b[39m▁\u001b[39m▁\u001b[39m▁\u001b[39m▁\u001b[39m▁\u001b[32m▁\u001b[39m\u001b[39m▁\u001b[39m█\u001b[39m▁\u001b[39m▁\u001b[39m▁\u001b[39m▁\u001b[39m▁\u001b[39m▁\u001b[39m▁\u001b[39m▁\u001b[39m▁\u001b[39m█\u001b[39m▁\u001b[39m▁\u001b[39m▁\u001b[39m▁\u001b[39m▁\u001b[39m▁\u001b[39m▁\u001b[39m▁\u001b[39m▁\u001b[39m▁\u001b[39m▁\u001b[39m▁\u001b[39m▁\u001b[39m▁\u001b[39m▁\u001b[39m▁\u001b[39m▁\u001b[39m▁\u001b[39m▁\u001b[39m▁\u001b[39m▁\u001b[39m▁\u001b[39m▁\u001b[39m▁\u001b[39m▁\u001b[39m█\u001b[39m \u001b[39m▁\n",
       "  901 ms\u001b[90m           Histogram: frequency by time\u001b[39m          938 ms \u001b[0m\u001b[1m<\u001b[22m\n",
       "\n",
       " Memory estimate\u001b[90m: \u001b[39m\u001b[33m979.81 KiB\u001b[39m, allocs estimate\u001b[90m: \u001b[39m\u001b[33m54\u001b[39m."
      ]
     },
     "execution_count": 27,
     "metadata": {},
     "output_type": "execute_result"
    }
   ],
   "source": [
    "let\n",
    "    @benchmark solve(A,b,xₒ, ϵ = 1e-6, maxiterations = 100, algorithm = MyGaussSeidelMethod()) setup=(A=$A,b=$b,xₒ=$xₒ)\n",
    "end"
   ]
  },
  {
   "cell_type": "markdown",
   "id": "740caeda-db3c-4787-9e9e-97342fc36458",
   "metadata": {},
   "source": [
    "#### Gaussian elimination"
   ]
  },
  {
   "cell_type": "code",
   "execution_count": 29,
   "id": "5832f464-fd3a-48e1-bbe7-3146f16d621d",
   "metadata": {},
   "outputs": [
    {
     "data": {
      "text/plain": [
       "BenchmarkTools.Trial: 17 samples with 1 evaluation.\n",
       " Range \u001b[90m(\u001b[39m\u001b[36m\u001b[1mmin\u001b[22m\u001b[39m … \u001b[35mmax\u001b[39m\u001b[90m):  \u001b[39m\u001b[36m\u001b[1m295.172 ms\u001b[22m\u001b[39m … \u001b[35m359.439 ms\u001b[39m  \u001b[90m┊\u001b[39m GC \u001b[90m(\u001b[39mmin … max\u001b[90m): \u001b[39m0.00% … 15.63%\n",
       " Time  \u001b[90m(\u001b[39m\u001b[34m\u001b[1mmedian\u001b[22m\u001b[39m\u001b[90m):     \u001b[39m\u001b[34m\u001b[1m308.343 ms               \u001b[22m\u001b[39m\u001b[90m┊\u001b[39m GC \u001b[90m(\u001b[39mmedian\u001b[90m):    \u001b[39m0.00%\n",
       " Time  \u001b[90m(\u001b[39m\u001b[32m\u001b[1mmean\u001b[22m\u001b[39m ± \u001b[32mσ\u001b[39m\u001b[90m):   \u001b[39m\u001b[32m\u001b[1m310.776 ms\u001b[22m\u001b[39m ± \u001b[32m 13.764 ms\u001b[39m  \u001b[90m┊\u001b[39m GC \u001b[90m(\u001b[39mmean ± σ\u001b[90m):  \u001b[39m1.91% ±  3.73%\n",
       "\n",
       "  \u001b[39m▁\u001b[39m \u001b[39m \u001b[39m \u001b[39m▁\u001b[39m \u001b[39m▁\u001b[39m \u001b[39m▁\u001b[39m▁\u001b[39m█\u001b[34m▁\u001b[39m\u001b[39m▁\u001b[39m▁\u001b[39m▁\u001b[32m█\u001b[39m\u001b[39m \u001b[39m \u001b[39m▁\u001b[39m▁\u001b[39m▁\u001b[39m \u001b[39m \u001b[39m \u001b[39m \u001b[39m \u001b[39m \u001b[39m \u001b[39m \u001b[39m \u001b[39m \u001b[39m \u001b[39m \u001b[39m \u001b[39m \u001b[39m \u001b[39m \u001b[39m \u001b[39m \u001b[39m \u001b[39m \u001b[39m \u001b[39m \u001b[39m \u001b[39m \u001b[39m \u001b[39m \u001b[39m \u001b[39m \u001b[39m \u001b[39m \u001b[39m \u001b[39m \u001b[39m \u001b[39m \u001b[39m \u001b[39m \u001b[39m \u001b[39m \u001b[39m \u001b[39m▁\u001b[39m \u001b[39m \n",
       "  \u001b[39m█\u001b[39m▁\u001b[39m▁\u001b[39m▁\u001b[39m█\u001b[39m▁\u001b[39m█\u001b[39m▁\u001b[39m█\u001b[39m█\u001b[39m█\u001b[34m█\u001b[39m\u001b[39m█\u001b[39m█\u001b[39m█\u001b[32m█\u001b[39m\u001b[39m▁\u001b[39m▁\u001b[39m█\u001b[39m█\u001b[39m█\u001b[39m▁\u001b[39m▁\u001b[39m▁\u001b[39m▁\u001b[39m▁\u001b[39m▁\u001b[39m▁\u001b[39m▁\u001b[39m▁\u001b[39m▁\u001b[39m▁\u001b[39m▁\u001b[39m▁\u001b[39m▁\u001b[39m▁\u001b[39m▁\u001b[39m▁\u001b[39m▁\u001b[39m▁\u001b[39m▁\u001b[39m▁\u001b[39m▁\u001b[39m▁\u001b[39m▁\u001b[39m▁\u001b[39m▁\u001b[39m▁\u001b[39m▁\u001b[39m▁\u001b[39m▁\u001b[39m▁\u001b[39m▁\u001b[39m▁\u001b[39m▁\u001b[39m▁\u001b[39m▁\u001b[39m▁\u001b[39m▁\u001b[39m▁\u001b[39m█\u001b[39m \u001b[39m▁\n",
       "  295 ms\u001b[90m           Histogram: frequency by time\u001b[39m          359 ms \u001b[0m\u001b[1m<\u001b[22m\n",
       "\n",
       " Memory estimate\u001b[90m: \u001b[39m\u001b[33m190.81 MiB\u001b[39m, allocs estimate\u001b[90m: \u001b[39m\u001b[33m6\u001b[39m."
      ]
     },
     "execution_count": 29,
     "metadata": {},
     "output_type": "execute_result"
    }
   ],
   "source": [
    "let\n",
    "    @benchmark solve(A,b,xₒ, ϵ = 1e-6, maxiterations = 100, algorithm = MyGaussianEliminationMethod()) setup=(A=$A,b=$b,xₒ=$xₒ)\n",
    "end"
   ]
  }
 ],
 "metadata": {
  "kernelspec": {
   "display_name": "Julia 1.10.5",
   "language": "julia",
   "name": "julia-1.10"
  },
  "language_info": {
   "file_extension": ".jl",
   "mimetype": "application/julia",
   "name": "julia",
   "version": "1.10.5"
  }
 },
 "nbformat": 4,
 "nbformat_minor": 5
}
