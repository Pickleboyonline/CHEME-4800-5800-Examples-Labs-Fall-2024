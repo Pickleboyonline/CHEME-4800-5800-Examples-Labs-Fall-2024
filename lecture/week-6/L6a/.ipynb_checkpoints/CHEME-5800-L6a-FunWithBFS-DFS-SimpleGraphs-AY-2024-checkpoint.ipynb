{
 "cells": [
  {
   "cell_type": "markdown",
   "id": "8c50a964-772c-4f46-9ced-e6b3548a5d1b",
   "metadata": {},
   "source": [
    "# Example: Breadth-First Search (BFS) and Depth First Search (DFS) on some Simple Trees and Graphs\n",
    "This example will familiarize students with [Breadth-First Search](https://en.wikipedia.org/wiki/Breadth-first_search) and [Depth-First Search](https://en.wikipedia.org/wiki/Depth-first_search) graph traversal on some simple and more complex graphs. For some interesting test graphs (although they are a bit old now), check out the [Stanford Network Analysis Project](https://snap.stanford.edu/). This group maintains the [Stanford Large Network Dataset Collection](https://snap.stanford.edu/data/index.html), which has many large graphs on which to test various algorithms."
   ]
  },
  {
   "cell_type": "markdown",
   "id": "f7f89830-02fb-443f-a7e0-5f0220218df1",
   "metadata": {},
   "source": [
    "## Setup\n",
    "This example may use external third-party packages. In the `Include.jl` file, we load our codes to access them in the notebook, set some required paths for this example, and load any required external packages."
   ]
  },
  {
   "cell_type": "code",
   "execution_count": 3,
   "id": "0471397d-d900-4dd8-8383-0e436f1a74bc",
   "metadata": {},
   "outputs": [],
   "source": [
    "include(\"Include.jl\");"
   ]
  },
  {
   "cell_type": "markdown",
   "id": "019901fb-f422-4719-83df-0c1460f81bcc",
   "metadata": {},
   "source": [
    "## Task 1: Build a graph model instance for an example graph using an edge list\n",
    "In this task, we'll build [a `MySimpleDirectedGraphModel` instance](src/Types.jl) from an edge list file stored in the `data` folder.\n",
    "\n",
    "### Adjacency Matrix versus Edge List\n",
    "A graph $\\mathcal{G}=\\left(\\mathcal{V},\\mathcal{E}\\right)$ can be constructed from an [Adjacency Matrix](https://en.wikipedia.org/wiki/Adjacency_matrix) $\\mathbf{A}$, which is a $\\dim\\mathcal{V}\\times\\dim\\mathcal{V}$ square matrix. However, this is only suitable for small graphs because $\\mathbf{A}$ has a high memory overhead (if stored as `64-bit` values). \n",
    "* For example, consider a graph with $\\dim\\mathcal{V}$ = 100000 would require `80 GB` of memory to store in the worst case, which is more than most common machines"
   ]
  },
  {
   "cell_type": "code",
   "execution_count": 5,
   "id": "bb7dffcb-4150-48da-a80f-97477ba7a0a1",
   "metadata": {},
   "outputs": [
    {
     "data": {
      "text/plain": [
       "80.0"
      ]
     },
     "execution_count": 5,
     "metadata": {},
     "output_type": "execute_result"
    }
   ],
   "source": [
    "𝒱 = 100000;\n",
    "memory_reqd = (𝒱^2)*8*(1/(1e9)) # 8 x bytes (64-bits) for each entry = units GB"
   ]
  },
  {
   "cell_type": "markdown",
   "id": "ebe791f0-a162-4bde-bfdc-47b4a4a51f53",
   "metadata": {},
   "source": [
    "Instead, a lower memory representation is an [Edge list representation](https://en.wikipedia.org/wiki/Edge_list). In the [Edge list representation](https://en.wikipedia.org/wiki/Edge_list), only the edge information is stored (typically) in a comma-separated value (CSV) file in which each record holds an edge in the graph, and the fields contain `source, target, weight` data for the edge.\n",
    "\n",
    "* We've built [the `readedgesfile(...)` function in `src/Files.jl`](src/Files.jl) and [the `MyGraphEdgeModel` type (in `src/Types.jl`)](src/Types.jl) to hold this information. Let's load up an edge list. First, set the path to the edge list file:"
   ]
  },
  {
   "cell_type": "code",
   "execution_count": 7,
   "id": "1f5788df-fa3a-41ee-8bc7-555d01303330",
   "metadata": {},
   "outputs": [],
   "source": [
    "# path_to_edge_file = joinpath(_PATH_TO_DATA, \"soc-sign-bitcoinalpha.csv\");\n",
    "path_to_edge_file = joinpath(_PATH_TO_DATA, \"SimpleGraph.txt\");"
   ]
  },
  {
   "cell_type": "markdown",
   "id": "a4c02118-1cba-4d5f-a4fe-30fdb263c8df",
   "metadata": {},
   "source": [
    "Next, let's construct a dictionary of `edges,` where the data for the edges (source id, target id, and weight) is stored in [a `MyGraphEdgeModel` model](src/Types.jl)\n",
    "* We utilize [the `readedgesfile` function from `src/Files.jl`](src/Files.jl) to read the edge data. This function requires the path to the edges file and information about the delimiter and comment characters. It returns a dictionary that holds instances [of `MyGraphEdgeModel`](src/Types.jl)"
   ]
  },
  {
   "cell_type": "code",
   "execution_count": 9,
   "id": "a9d2658f-bf99-47ad-9cf3-eb448425bed1",
   "metadata": {},
   "outputs": [
    {
     "data": {
      "text/plain": [
       "Dict{Int64, MyGraphEdgeModel} with 7 entries:\n",
       "  0 => MyGraphEdgeModel(0, 1, 2, 10.0)\n",
       "  4 => MyGraphEdgeModel(4, 3, 5, 6.0)\n",
       "  5 => MyGraphEdgeModel(5, 4, 6, 1.0)\n",
       "  6 => MyGraphEdgeModel(6, 5, 4, 1.0)\n",
       "  2 => MyGraphEdgeModel(2, 2, 3, 2.0)\n",
       "  3 => MyGraphEdgeModel(3, 2, 4, 100.0)\n",
       "  1 => MyGraphEdgeModel(1, 1, 3, 100.0)"
      ]
     },
     "execution_count": 9,
     "metadata": {},
     "output_type": "execute_result"
    }
   ],
   "source": [
    "myedges = readedgesfile(path_to_edge_file, delim=',', comment='#')"
   ]
  },
  {
   "cell_type": "markdown",
   "id": "768bc0f2-951e-438c-9e68-b7435424296e",
   "metadata": {},
   "source": [
    "Finally, now that we have the `myedges` dictionary, we can build a graph instance. Since this is a directed graph, we'll construct [a `MySimpleDirectedGraphModel` instance](src/Types.jl) using its [`build(...)` method in the `src/Factory.jl` file](src/Factory.jl)."
   ]
  },
  {
   "cell_type": "code",
   "execution_count": 11,
   "id": "eb8b6fc7-ebfc-4f1e-93c7-c8f40f6ae1c9",
   "metadata": {},
   "outputs": [
    {
     "data": {
      "text/plain": [
       "MySimpleDirectedGraphModel(Dict{Int64, MyGraphNodeModel}(5 => MyGraphNodeModel(5), 4 => MyGraphNodeModel(4), 6 => MyGraphNodeModel(6), 2 => MyGraphNodeModel(2), 3 => MyGraphNodeModel(3), 1 => MyGraphNodeModel(1)), Dict((2, 4) => 100, (1, 2) => 10, (1, 3) => 100, (4, 6) => 1, (3, 5) => 6, (5, 4) => 1, (2, 3) => 2), Dict{Int64, Set{Int64}}(5 => Set([4]), 4 => Set([6]), 6 => Set(), 2 => Set([4, 3]), 3 => Set([5]), 1 => Set([2, 3])))"
      ]
     },
     "execution_count": 11,
     "metadata": {},
     "output_type": "execute_result"
    }
   ],
   "source": [
    "dag = build(MySimpleDirectedGraphModel, myedges)"
   ]
  },
  {
   "cell_type": "code",
   "execution_count": 12,
   "id": "9d15fb97-f364-4b9f-a1ae-cf90852dea6a",
   "metadata": {},
   "outputs": [
    {
     "data": {
      "text/plain": [
       "Dict{Int64, Set{Int64}} with 6 entries:\n",
       "  5 => Set([4])\n",
       "  4 => Set([6])\n",
       "  6 => Set()\n",
       "  2 => Set([4, 3])\n",
       "  3 => Set([5])\n",
       "  1 => Set([2, 3])"
      ]
     },
     "execution_count": 12,
     "metadata": {},
     "output_type": "execute_result"
    }
   ],
   "source": [
    "dag.children"
   ]
  },
  {
   "cell_type": "markdown",
   "id": "49226d36-08d2-4693-b3fc-f9e31a0aa649",
   "metadata": {},
   "source": [
    "<div>\n",
    "    <center>\n",
    "        <img src=\"figs/Fig-Example-Graph.svg\" width=\"480\"/>\n",
    "    </center>\n",
    "</div>"
   ]
  },
  {
   "cell_type": "markdown",
   "id": "9880bcae-77cc-4492-b6c6-9492f6a8da84",
   "metadata": {},
   "source": [
    "## Task 2: Use our BFS implementation to visit the nodes of the `dag`\n",
    "The completed implementation of [the `BFS` algorithm can be found in the `src/Traversal.jl` file](src/Traversal.jl). Let's specify some node in the graph as the `start_node::MyGraphNodeModel`"
   ]
  },
  {
   "cell_type": "code",
   "execution_count": 15,
   "id": "e211d168-7d84-4daa-80ec-a8faa8ae0ca9",
   "metadata": {},
   "outputs": [
    {
     "data": {
      "text/plain": [
       "MyGraphNodeModel(1)"
      ]
     },
     "execution_count": 15,
     "metadata": {},
     "output_type": "execute_result"
    }
   ],
   "source": [
    "start_node = dag.nodes[1] # note the SNAP data is 1-based, we renumber our graph to 1-based"
   ]
  },
  {
   "cell_type": "markdown",
   "id": "9e3c61ae-103a-42b9-a0f7-c3bfe832114d",
   "metadata": {},
   "source": [
    "To use the `BFS` implementation, pass the graph instance, in this case, `dag,` and the start node to [the `BFS(...)` function](src/Traversal.jl). The `BFS` algorithm visits other nodes by visiting all the children of `start_node` and then all the grandchildren of `start_node,` etc.\n",
    "* The `verbose::Bool` argument tells [the `BFS` function](src/Traversal.jl) to generate a `png` picture of its current progress and write it to the `frames` directory. "
   ]
  },
  {
   "cell_type": "code",
   "execution_count": 17,
   "id": "0dcb708f-4e86-4b13-aef6-eefd85488556",
   "metadata": {},
   "outputs": [
    {
     "name": "stdout",
     "output_type": "stream",
     "text": [
      "\"Visiting: $(v)\" = \"Visiting: 1\"\n",
      "\"Visiting: $(v)\" = \"Visiting: 2\"\n",
      "\"Visiting: $(v)\" = \"Visiting: 3\"\n",
      "\"Visiting: $(v)\" = \"Visiting: 4\"\n",
      "\"Visiting: $(v)\" = \"Visiting: 5\"\n",
      "\"Visiting: $(v)\" = \"Visiting: 6\"\n"
     ]
    }
   ],
   "source": [
    "BFS(dag, start_node; verbose = true);"
   ]
  },
  {
   "cell_type": "markdown",
   "id": "f186eb78-e2ab-4e16-bed9-241948c91809",
   "metadata": {},
   "source": [
    "## Task 3: Use our DFS implementation to visit nodes of the `dag`\n",
    "The completed implementation of [the `DFS` algorithm can be found in the `src/Traversal.jl` file](src/Traversal.jl). In particular, we'll start at a node and visit all other nodes in the graph using a recursive descent approach. \n",
    "\n",
    "To start, let's specify some node in the graph as the `start_node::MyGraphNodeModel`"
   ]
  },
  {
   "cell_type": "code",
   "execution_count": 19,
   "id": "ce35c02b-380d-4415-96d5-47d3ea060184",
   "metadata": {},
   "outputs": [
    {
     "data": {
      "text/plain": [
       "MyGraphNodeModel(1)"
      ]
     },
     "execution_count": 19,
     "metadata": {},
     "output_type": "execute_result"
    }
   ],
   "source": [
    "start_node = dag.nodes[1] # note the SNAP data is 1-based, we renumber our graph to 1-based"
   ]
  },
  {
   "cell_type": "markdown",
   "id": "6649d5f8-58dd-46c2-aa14-05a9c29d8445",
   "metadata": {},
   "source": [
    "Next, we create an empty set that will hold the index of the nodes that we have visited; let's call this the `visited::Set{Int64}`:"
   ]
  },
  {
   "cell_type": "code",
   "execution_count": 21,
   "id": "788e0ff1-c006-4054-8aab-29f3d4b0d4b2",
   "metadata": {},
   "outputs": [],
   "source": [
    "visited = Set{Int64}();"
   ]
  },
  {
   "cell_type": "markdown",
   "id": "7684d817-24c2-4042-8f1e-8f143d5c7406",
   "metadata": {},
   "source": [
    "Finally, we'll call [our `DFS(...)` implementation](src/Traversal.jl) by passing in the graph model, i.e., the `dag::MySimpleDirectedGraphModel` instance, the `start_node::MyGraphNodeModel` instance, the `visited::Set{Int64}` set. \n",
    "* Like BFS, the `verbose::Bool` argument tells [the `BFS` function](src/Traversal.jl) to generate a `png` picture of its current progress and write it to the `frames` directory. "
   ]
  },
  {
   "cell_type": "code",
   "execution_count": 23,
   "id": "72bfd496-9a66-4037-af1c-4ddce82f9fb4",
   "metadata": {},
   "outputs": [
    {
     "name": "stdout",
     "output_type": "stream",
     "text": [
      "\"Visiting: $(node.id)\" = \"Visiting: 1\"\n",
      "\"Visiting: $(node.id)\" = \"Visiting: 2\"\n",
      "\"Visiting: $(node.id)\" = \"Visiting: 4\"\n",
      "\"Visiting: $(node.id)\" = \"Visiting: 6\"\n",
      "\"Visiting: $(node.id)\" = \"Visiting: 3\"\n",
      "\"Visiting: $(node.id)\" = \"Visiting: 5\"\n"
     ]
    }
   ],
   "source": [
    "DFS(dag, start_node, visited; verbose = true);"
   ]
  }
 ],
 "metadata": {
  "kernelspec": {
   "display_name": "Julia 1.10.5",
   "language": "julia",
   "name": "julia-1.10"
  },
  "language_info": {
   "file_extension": ".jl",
   "mimetype": "application/julia",
   "name": "julia",
   "version": "1.10.5"
  }
 },
 "nbformat": 4,
 "nbformat_minor": 5
}
