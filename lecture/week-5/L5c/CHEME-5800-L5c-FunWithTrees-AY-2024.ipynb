{
 "cells": [
  {
   "cell_type": "markdown",
   "id": "f8661b0d-c30f-4ff8-8eef-c1c3f21b5640",
   "metadata": {},
   "source": [
    "# Example: Let's build a ternary price tree\n",
    "In this example, students will become familiar with the different internal representations of trees, particularly a ternary price tree where the price of a commodity tomorrow can go up, stay the same, or go down. \n",
    "* Array-based representations encode the `data` of the tree and do not encode any information about the connectivity of the tree, i.e., there is no information about `parent=>child` relationships. The creator of the tree is expected to know this information\n",
    "* On the other hand, adjacency-based tree representations encode both the `data` of the tree and information about the `connectivity` of the tree, i.e., information about `parent=>child` relationships. "
   ]
  },
  {
   "cell_type": "markdown",
   "id": "62660678-3b89-483c-bd93-70da21d46acb",
   "metadata": {},
   "source": [
    "## Setup\n",
    "This example may use external third-party packages. In the `Include.jl` file, we load our codes to access them in the notebook, set some required paths for this example, and load any required external packages."
   ]
  },
  {
   "cell_type": "code",
   "execution_count": 3,
   "id": "afd6bc40-ec86-4dfc-8de3-c84b659ec026",
   "metadata": {},
   "outputs": [],
   "source": [
    "include(\"Include.jl\");"
   ]
  },
  {
   "cell_type": "markdown",
   "id": "5bd646db-aa9f-47e4-82d1-d324097e1d13",
   "metadata": {},
   "source": [
    "## Example 1: Array-based representation of a `3-tree`\n",
    "Let's consider the array-based representation of a full `3-tree` where each `node` in the tree has `three` children nodes. Each parent `node` is a hypothetical price at time $t$, while each `child` node is a possible price at time $t+\\Delta{t}$.\n",
    "* We've modeled this case using [the `ArrayBasedTernaryCommodityPriceTree` type](src/Types.jl), encoded in the `src/Types.jl` file. To build this type, we pass some required information to [a `build(...)` method](src/Factory.jl) encoded in the `src/Factory.jl` file."
   ]
  },
  {
   "cell_type": "code",
   "execution_count": 27,
   "id": "a156b8c0-9e90-4de6-9c28-13ab19439968",
   "metadata": {},
   "outputs": [],
   "source": [
    "h = 2; # height of the tree {0,1,h-1} levels\n",
    "price = 100.0; # initial price of the good\n",
    "u = 0.04; # up-factor, if it does go up, by how much\n",
    "d = 0.01; # down-factor, if it goes down, by how much"
   ]
  },
  {
   "cell_type": "markdown",
   "id": "69c3afdc-c1a1-43e3-9439-91e393a72bbc",
   "metadata": {},
   "source": [
    "Let's use the parameters above to build a price tree"
   ]
  },
  {
   "cell_type": "code",
   "execution_count": 35,
   "id": "07559dd7-9269-4c63-8f31-ba06b03c2ce8",
   "metadata": {},
   "outputs": [],
   "source": [
    "array_price_tree = build(ArrayBasedTernaryCommodityPriceTree, (\n",
    "    h = h, price = price, u = u, d = d)); "
   ]
  },
  {
   "cell_type": "code",
   "execution_count": 45,
   "id": "425c9ccc-e21f-45bc-b505-55878895ecc8",
   "metadata": {},
   "outputs": [
    {
     "data": {
      "text/plain": [
       "Dict{Int64, Float64} with 13 entries:\n",
       "  5  => 104.0\n",
       "  12 => 98.01\n",
       "  8  => 100.0\n",
       "  1  => 104.0\n",
       "  0  => 100.0\n",
       "  6  => 102.96\n",
       "  11 => 99.0\n",
       "  9  => 99.0\n",
       "  3  => 99.0\n",
       "  7  => 104.0\n",
       "  4  => 108.16\n",
       "  2  => 100.0\n",
       "  10 => 102.96"
      ]
     },
     "execution_count": 45,
     "metadata": {},
     "output_type": "execute_result"
    }
   ],
   "source": [
    "array_price_tree.data"
   ]
  },
  {
   "cell_type": "markdown",
   "id": "860f8fa6-8539-4b6f-a716-aa66e9aad935",
   "metadata": {},
   "source": [
    "### Check: How many nodes do we have in the tree?\n",
    "If this is a full `k-tree` with `h`-levels, we expect the tree will have:\n",
    "$$\n",
    "\\begin{equation}\n",
    "N_{h} = \\sum_{j=0}^{h}k^j = \\frac{k^{h+1}-1}{k-1}\n",
    "\\end{equation}\n",
    "$$\n",
    "nodes where $N_{h}$ includes the final layer of leaves. Let's check this condition with the `array_price_tree` we constructed. The data for the nodes is stored in the `data` field; this should have $N_{h}$ entries."
   ]
  },
  {
   "cell_type": "code",
   "execution_count": 33,
   "id": "27c977d7-5929-485c-94c5-9be2b81385ef",
   "metadata": {},
   "outputs": [],
   "source": [
    "let\n",
    "    k = 3; # branching factor\n",
    "    h = 2; # the height of the tree\n",
    "    Nₕ = (k^(h+1) - 1)/(k - 1); # expected number of nodes\n",
    "    @assert Nₕ == length(array_price_tree.data); # if this is NOT true, booom.\n",
    "end"
   ]
  },
  {
   "cell_type": "markdown",
   "id": "bb64a668-0f9d-46f4-928e-ea7e7775f6fa",
   "metadata": {},
   "source": [
    "## Example 2: Adjacency-based representation of a `3-tree`\n",
    "Alternatively, we could consider an adjacency-based representation of the price tree that breaks apart the data representation for the connectivity information. \n",
    "* We've modeled this case using [the `AdjacencyBasedTernaryCommodityPriceTree` type](src/Types.jl) encoded in the `src/Types.jl` file. We pass some required information [to a `build(...)` method](src/Factory.jl) encoded in the `src/Factory.jl` file to build this type."
   ]
  },
  {
   "cell_type": "code",
   "execution_count": 57,
   "id": "1699194b-580d-405a-ba6b-29335331ed37",
   "metadata": {},
   "outputs": [],
   "source": [
    "adj_price_tree = build(AdjacencyBasedTernaryCommodityPriceTree, (\n",
    "    h = h, price = price, u = u, d = d));"
   ]
  },
  {
   "cell_type": "code",
   "execution_count": 12,
   "id": "c1469dcb-0597-4345-87e4-38484b405b4f",
   "metadata": {},
   "outputs": [
    {
     "data": {
      "text/plain": [
       "Dict{Int64, Float64} with 13 entries:\n",
       "  5  => 104.0\n",
       "  12 => 98.01\n",
       "  8  => 100.0\n",
       "  1  => 104.0\n",
       "  0  => 100.0\n",
       "  6  => 102.96\n",
       "  11 => 99.0\n",
       "  9  => 99.0\n",
       "  3  => 99.0\n",
       "  7  => 104.0\n",
       "  4  => 108.16\n",
       "  2  => 100.0\n",
       "  10 => 102.96"
      ]
     },
     "execution_count": 12,
     "metadata": {},
     "output_type": "execute_result"
    }
   ],
   "source": [
    "adj_price_tree.data"
   ]
  },
  {
   "cell_type": "code",
   "execution_count": 55,
   "id": "d55a1f18-79d1-4a42-b4c3-58299426952e",
   "metadata": {},
   "outputs": [
    {
     "data": {
      "text/plain": [
       "Dict{Int64, Vector{Int64}} with 4 entries:\n",
       "  0 => [1, 2, 3]\n",
       "  2 => [7, 8, 9]\n",
       "  3 => [10, 11, 12]\n",
       "  1 => [4, 5, 6]"
      ]
     },
     "execution_count": 55,
     "metadata": {},
     "output_type": "execute_result"
    }
   ],
   "source": [
    "adj_price_tree.connectivity"
   ]
  },
  {
   "cell_type": "markdown",
   "id": "cbc9896a-1721-4993-91eb-3252a90c17f8",
   "metadata": {},
   "source": [
    "### Check: Is the children's numbering correct?\n",
    "In the adjacency-based representation, we have connectivity information and data, where the connectivity of the tree nodes is stored in the `connectivity::Dict{Int64, Array{Int64,1}}` field of the model. Let's compare this with the numbering we expect in the tree. For a full `k-tree` with `h`-levels, the indices of the children of node $i$, denoted by the set $\\mathcal{C}_{i}$, are given by:\n",
    "$$\n",
    "\\begin{equation}\n",
    "\\mathcal{C}_{i}=\\left\\{k\\cdot{i}+1,k\\cdot{i}+2,\\dots,k\\cdot{i}+k\\right\\}\n",
    "\\end{equation}\n",
    "$$\n",
    "Let's check this condition with the `adj_price_tree` we constructed."
   ]
  },
  {
   "cell_type": "code",
   "execution_count": 66,
   "id": "dde70119-feb2-4f62-a45d-ae5f6ce54dd7",
   "metadata": {},
   "outputs": [],
   "source": [
    "let\n",
    "    k = 3; # branching factor\n",
    "    h = 2; # the height of the tree\n",
    "    i = 2; # parent node index\n",
    "\n",
    "    # generate expected index set -\n",
    "    expected_children = Array{Int64,1}(undef, 3);\n",
    "    for c ∈ 1:k\n",
    "        expected_children[c] = k*i + c\n",
    "    end\n",
    "\n",
    "    # compare\n",
    "    @assert adj_price_tree.connectivity[i] == expected_children; # if not the same - boom.\n",
    "end"
   ]
  }
 ],
 "metadata": {
  "kernelspec": {
   "display_name": "Julia 1.10.5",
   "language": "julia",
   "name": "julia-1.10"
  },
  "language_info": {
   "file_extension": ".jl",
   "mimetype": "application/julia",
   "name": "julia",
   "version": "1.10.5"
  }
 },
 "nbformat": 4,
 "nbformat_minor": 5
}
