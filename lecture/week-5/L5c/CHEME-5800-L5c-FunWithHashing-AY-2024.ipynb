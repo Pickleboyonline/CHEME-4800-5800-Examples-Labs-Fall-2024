{
 "cells": [
  {
   "cell_type": "markdown",
   "id": "2d86155a-0446-4e0f-8f74-2dd7f368e684",
   "metadata": {},
   "source": [
    "# Example: Fun with Hashing Functions\n",
    "This example familiarizes students with the concept of [hash functions](https://en.wikipedia.org/wiki/Hash_function), i.e., a function that maps data to an index of a fixed-size table. In particular, we'll look [at the `myhash(...)` implementation](src/Compute.jl), which is an example of a `linear hash function` of the form:\n",
    "$$\n",
    "h(x) = (ax+b)~\\text{mod}~{m}\n",
    "$$\n",
    "where $\\text{mod}$ denotes the [modulo operation](https://en.wikipedia.org/wiki/Modulo), and $a,b$ and $m$ are parameters. The $m$ parameter (called the `size`) strongly influences the likelihood of `collisions.`"
   ]
  },
  {
   "cell_type": "markdown",
   "id": "b6e591b2-c1be-4225-8fc6-cb5b0f33cbbb",
   "metadata": {},
   "source": [
    "## Setup\n",
    "This example may use external third-party packages. In [the `Include.jl` file](Include.jl), we load our codes to access them in the notebook, set some required paths for this example, and load any required external packages."
   ]
  },
  {
   "cell_type": "code",
   "execution_count": 3,
   "id": "7e372ede-f178-474f-9f68-857979ab764f",
   "metadata": {},
   "outputs": [],
   "source": [
    "include(\"Include.jl\");"
   ]
  },
  {
   "cell_type": "markdown",
   "id": "8d2a7d35-f692-468f-a5ff-d139233dc79c",
   "metadata": {},
   "source": [
    "## Example: Computing the hashcode of a String using a Linear hash function\n",
    "One of the interesting (and amazing!) things about the [Dictionary type in Julia](https://docs.julialang.org/en/v1/base/collections/#Base.Dict) or [Python](https://docs.python.org/3/tutorial/datastructures.html#dictionaries) is the ability to map `any key` => to `any value`, where the `key` is unique. But how does this work?\n",
    "* Behind the scenes, we use a `hash` function to take a `key` and convert it into an `Int` index into an `Array{typeof{value},1}` that holds the value. Thus, the magic of a dictionary is just a clever way of computing an array index.\n",
    "\n",
    "Let's specify a `test_string` with some data in it:"
   ]
  },
  {
   "cell_type": "code",
   "execution_count": 5,
   "id": "06a0fd8b-2ac2-4c82-a20c-f44ccd86ebc1",
   "metadata": {},
   "outputs": [],
   "source": [
    "test_string = \"This is a test string. In lecture ... wow!\";"
   ]
  },
  {
   "cell_type": "markdown",
   "id": "7b6262b5-eb78-4c4d-9e61-e64c7ba634ed",
   "metadata": {},
   "source": [
    "Next, let's use [the `myhash(...)` function](src/Compute.jl) to compute the `hashcode` of the `test_string`:"
   ]
  },
  {
   "cell_type": "code",
   "execution_count": 7,
   "id": "40ea1a14-7cbf-46bc-8a46-c04a85d430df",
   "metadata": {},
   "outputs": [
    {
     "data": {
      "text/plain": [
       "227"
      ]
     },
     "execution_count": 7,
     "metadata": {},
     "output_type": "execute_result"
    }
   ],
   "source": [
    "test_hashed_value = myhash(test_string, β = 31, size = 1000) # big size"
   ]
  },
  {
   "cell_type": "markdown",
   "id": "3c78d16a-762b-46d4-b90e-f1bbcfd0ca0d",
   "metadata": {},
   "source": [
    "### OK, but does this trick always work?\n",
    "The short answer is no; sometimes, there may be `collisions` when generating the `hashcode` of a `key.` When the `size` parameter is `small,` there is a higher likelihood that two strings will get mapped to the same `hashcode.`\n",
    "\n",
    "Let's check this out with another example. "
   ]
  },
  {
   "cell_type": "code",
   "execution_count": 9,
   "id": "bf2e6288-0fdb-4800-9f60-ed4c5b136667",
   "metadata": {},
   "outputs": [
    {
     "data": {
      "text/plain": [
       "\"CHEME-4800-5800-Fall-2024\""
      ]
     },
     "execution_count": 9,
     "metadata": {},
     "output_type": "execute_result"
    }
   ],
   "source": [
    "another_test_string = \"CHEME-4800-5800-Fall-2024\""
   ]
  },
  {
   "cell_type": "code",
   "execution_count": 10,
   "id": "7b07a3e0-47b8-4725-9669-a1f665905ee1",
   "metadata": {},
   "outputs": [
    {
     "data": {
      "text/plain": [
       "6"
      ]
     },
     "execution_count": 10,
     "metadata": {},
     "output_type": "execute_result"
    }
   ],
   "source": [
    "another_hashed_value = myhash(another_test_string, β = 31, size = 10)"
   ]
  },
  {
   "cell_type": "markdown",
   "id": "365fbb7a-e6b6-4c9e-b6fe-abc20f4b906a",
   "metadata": {},
   "source": [
    "#### Can we generate a collision?\n",
    "Let's chop up `another_test_string::String` and hash each substring with small and large values of the `size::Int64` parameters. We expect that with small values of `size,` we will see collisions. However, as `size` becomes larger, the frequency of collisions should decrease. Let's check out this intuition."
   ]
  },
  {
   "cell_type": "code",
   "execution_count": 12,
   "id": "aeb8303e-ff4c-4abd-909e-d464a3d8e9ff",
   "metadata": {},
   "outputs": [
    {
     "name": "stdout",
     "output_type": "stream",
     "text": [
      "(test_string, test_value) = (\"C\", 7)\n",
      "(test_string, test_value) = (\"CH\", 9)\n",
      "(test_string, test_value) = (\"CHE\", 8)\n",
      "(test_string, test_value) = (\"CHEM\", 5)\n",
      "(test_string, test_value) = (\"CHEME\", 4)\n",
      "(test_string, test_value) = (\"CHEME-\", 9)\n",
      "We have a collision: CHEME- with 9\n",
      "(test_string, test_value) = (\"CHEME-4\", 1)\n",
      "(test_string, test_value) = (\"CHEME-48\", 7)\n",
      "We have a collision: CHEME-48 with 7\n",
      "(test_string, test_value) = (\"CHEME-480\", 5)\n",
      "We have a collision: CHEME-480 with 5\n",
      "(test_string, test_value) = (\"CHEME-4800\", 3)\n",
      "(test_string, test_value) = (\"CHEME-4800-\", 8)\n",
      "We have a collision: CHEME-4800- with 8\n",
      "(test_string, test_value) = (\"CHEME-4800-5\", 1)\n",
      "We have a collision: CHEME-4800-5 with 1\n",
      "(test_string, test_value) = (\"CHEME-4800-58\", 7)\n",
      "We have a collision: CHEME-4800-58 with 7\n",
      "(test_string, test_value) = (\"CHEME-4800-580\", 5)\n",
      "We have a collision: CHEME-4800-580 with 5\n",
      "(test_string, test_value) = (\"CHEME-4800-5800\", 3)\n",
      "We have a collision: CHEME-4800-5800 with 3\n",
      "(test_string, test_value) = (\"CHEME-4800-5800-\", 8)\n",
      "We have a collision: CHEME-4800-5800- with 8\n",
      "(test_string, test_value) = (\"CHEME-4800-5800-F\", 8)\n",
      "We have a collision: CHEME-4800-5800-F with 8\n",
      "(test_string, test_value) = (\"CHEME-4800-5800-Fa\", 5)\n",
      "We have a collision: CHEME-4800-5800-Fa with 5\n",
      "(test_string, test_value) = (\"CHEME-4800-5800-Fal\", 3)\n",
      "We have a collision: CHEME-4800-5800-Fal with 3\n",
      "(test_string, test_value) = (\"CHEME-4800-5800-Fall\", 1)\n",
      "We have a collision: CHEME-4800-5800-Fall with 1\n",
      "(test_string, test_value) = (\"CHEME-4800-5800-Fall-\", 6)\n",
      "(test_string, test_value) = (\"CHEME-4800-5800-Fall-2\", 6)\n",
      "We have a collision: CHEME-4800-5800-Fall-2 with 6\n",
      "(test_string, test_value) = (\"CHEME-4800-5800-Fall-20\", 4)\n",
      "We have a collision: CHEME-4800-5800-Fall-20 with 4\n",
      "(test_string, test_value) = (\"CHEME-4800-5800-Fall-202\", 4)\n",
      "We have a collision: CHEME-4800-5800-Fall-202 with 4\n",
      "(test_string, test_value) = (\"CHEME-4800-5800-Fall-2024\", 6)\n",
      "We have a collision: CHEME-4800-5800-Fall-2024 with 6\n"
     ]
    }
   ],
   "source": [
    "N = length(another_test_string)\n",
    "collisions = Set{Int64}();\n",
    "for i ∈ 1:N\n",
    "    \n",
    "    test_string = another_test_string[1:i]\n",
    "    test_value = myhash(test_string, β = 31, size = 10)\n",
    "\n",
    "    @show (test_string, test_value)\n",
    "    \n",
    "    if ((test_value ∈ collisions) == false)\n",
    "        push!(collisions, test_value);\n",
    "    else\n",
    "       println(\"We have a collision: $(test_string) with $(test_value)\") \n",
    "    end\n",
    "end"
   ]
  },
  {
   "cell_type": "code",
   "execution_count": null,
   "id": "ae1951e2-408d-43b1-8daf-74ad55d78df4",
   "metadata": {},
   "outputs": [],
   "source": []
  }
 ],
 "metadata": {
  "kernelspec": {
   "display_name": "Julia 1.10.5",
   "language": "julia",
   "name": "julia-1.10"
  },
  "language_info": {
   "file_extension": ".jl",
   "mimetype": "application/julia",
   "name": "julia",
   "version": "1.10.5"
  }
 },
 "nbformat": 4,
 "nbformat_minor": 5
}
